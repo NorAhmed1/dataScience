{
 "cells": [
  {
   "cell_type": "markdown",
   "metadata": {},
   "source": [
    "# Task requirement \n",
    "\n",
    "* Perform some simple exploratory analysis and generate summary statistics to get a sense of what is in the data.\n",
    "* Describe the quality of the data.\n",
    "* Describe the relationship of the attributes with the label and share any interesting insights you’ve found.  \n",
    "* Build a model to predict whether a given person is a good or bad credit risk.\n",
    "* Generate a few visuals to convey data and model characteristics, these should be presentable to a non-technical business audience.\n",
    "* Write all of this into a python notebook, upload to a git repo, and share the link with the us to review.  Be prepared to discuss your methodologies and approach.\n",
    "* Assume the audience for your write-up is a non-technical stakeholder.\n",
    "* Assume the audience for your code is a colleague who may need to read or modify it in the future."
   ]
  },
  {
   "cell_type": "markdown",
   "metadata": {},
   "source": [
    "# Part 1 -- Import necessary packages"
   ]
  },
  {
   "cell_type": "code",
   "execution_count": 5,
   "metadata": {},
   "outputs": [],
   "source": [
    "import pandas as pd\n",
    "import pyodbc\n",
    "import numpy as np\n",
    "import sys\n",
    "import pathlib\n",
    "from datetime import datetime\n",
    "import matplotlib.pyplot as plt\n",
    "import seaborn as sns\n",
    "from matplotlib.colors import ListedColormap\n",
    "\n",
    "pd.set_option('display.max_columns', None)  \n",
    "pd.set_option('display.max_rows', None)  \n",
    "pd.set_option('display.expand_frame_repr', False)\n",
    "pd.set_option('max_colwidth', -1)"
   ]
  },
  {
   "cell_type": "markdown",
   "metadata": {},
   "source": [
    "#  Part 2 -- Data importation and initial analysis "
   ]
  },
  {
   "cell_type": "code",
   "execution_count": 68,
   "metadata": {},
   "outputs": [
    {
     "data": {
      "text/html": [
       "<div>\n",
       "<style scoped>\n",
       "    .dataframe tbody tr th:only-of-type {\n",
       "        vertical-align: middle;\n",
       "    }\n",
       "\n",
       "    .dataframe tbody tr th {\n",
       "        vertical-align: top;\n",
       "    }\n",
       "\n",
       "    .dataframe thead th {\n",
       "        text-align: right;\n",
       "    }\n",
       "</style>\n",
       "<table border=\"1\" class=\"dataframe\">\n",
       "  <thead>\n",
       "    <tr style=\"text-align: right;\">\n",
       "      <th></th>\n",
       "      <th>checking_status</th>\n",
       "      <th>duration</th>\n",
       "      <th>credit_history</th>\n",
       "      <th>purpose</th>\n",
       "      <th>credit_amount</th>\n",
       "      <th>savings_status</th>\n",
       "      <th>employment</th>\n",
       "      <th>installment_commitment</th>\n",
       "      <th>personal_status</th>\n",
       "      <th>other_parties</th>\n",
       "      <th>residence_since</th>\n",
       "      <th>property_magnitude</th>\n",
       "      <th>age</th>\n",
       "      <th>other_payment_plans</th>\n",
       "      <th>housing</th>\n",
       "      <th>existing_credits</th>\n",
       "      <th>job</th>\n",
       "      <th>num_dependents</th>\n",
       "      <th>own_telephone</th>\n",
       "      <th>foreign_worker</th>\n",
       "      <th>class</th>\n",
       "    </tr>\n",
       "  </thead>\n",
       "  <tbody>\n",
       "    <tr>\n",
       "      <th>0</th>\n",
       "      <td>'&lt;0'</td>\n",
       "      <td>6</td>\n",
       "      <td>'critical/other existing credit'</td>\n",
       "      <td>radio/tv</td>\n",
       "      <td>1169</td>\n",
       "      <td>'no known savings'</td>\n",
       "      <td>'&gt;=7'</td>\n",
       "      <td>4</td>\n",
       "      <td>'male single'</td>\n",
       "      <td>none</td>\n",
       "      <td>4</td>\n",
       "      <td>'real estate'</td>\n",
       "      <td>67</td>\n",
       "      <td>none</td>\n",
       "      <td>own</td>\n",
       "      <td>2</td>\n",
       "      <td>skilled</td>\n",
       "      <td>1</td>\n",
       "      <td>yes</td>\n",
       "      <td>yes</td>\n",
       "      <td>good</td>\n",
       "    </tr>\n",
       "    <tr>\n",
       "      <th>1</th>\n",
       "      <td>'0&lt;=X&lt;200'</td>\n",
       "      <td>48</td>\n",
       "      <td>'existing paid'</td>\n",
       "      <td>radio/tv</td>\n",
       "      <td>5951</td>\n",
       "      <td>'&lt;100'</td>\n",
       "      <td>'1&lt;=X&lt;4'</td>\n",
       "      <td>2</td>\n",
       "      <td>'female div/dep/mar'</td>\n",
       "      <td>none</td>\n",
       "      <td>2</td>\n",
       "      <td>'real estate'</td>\n",
       "      <td>22</td>\n",
       "      <td>none</td>\n",
       "      <td>own</td>\n",
       "      <td>1</td>\n",
       "      <td>skilled</td>\n",
       "      <td>1</td>\n",
       "      <td>none</td>\n",
       "      <td>yes</td>\n",
       "      <td>bad</td>\n",
       "    </tr>\n",
       "    <tr>\n",
       "      <th>2</th>\n",
       "      <td>'no checking'</td>\n",
       "      <td>12</td>\n",
       "      <td>'critical/other existing credit'</td>\n",
       "      <td>education</td>\n",
       "      <td>2096</td>\n",
       "      <td>'&lt;100'</td>\n",
       "      <td>'4&lt;=X&lt;7'</td>\n",
       "      <td>2</td>\n",
       "      <td>'male single'</td>\n",
       "      <td>none</td>\n",
       "      <td>3</td>\n",
       "      <td>'real estate'</td>\n",
       "      <td>49</td>\n",
       "      <td>none</td>\n",
       "      <td>own</td>\n",
       "      <td>1</td>\n",
       "      <td>'unskilled resident'</td>\n",
       "      <td>2</td>\n",
       "      <td>none</td>\n",
       "      <td>yes</td>\n",
       "      <td>good</td>\n",
       "    </tr>\n",
       "    <tr>\n",
       "      <th>3</th>\n",
       "      <td>'&lt;0'</td>\n",
       "      <td>42</td>\n",
       "      <td>'existing paid'</td>\n",
       "      <td>furniture/equipment</td>\n",
       "      <td>7882</td>\n",
       "      <td>'&lt;100'</td>\n",
       "      <td>'4&lt;=X&lt;7'</td>\n",
       "      <td>2</td>\n",
       "      <td>'male single'</td>\n",
       "      <td>guarantor</td>\n",
       "      <td>4</td>\n",
       "      <td>'life insurance'</td>\n",
       "      <td>45</td>\n",
       "      <td>none</td>\n",
       "      <td>'for free'</td>\n",
       "      <td>1</td>\n",
       "      <td>skilled</td>\n",
       "      <td>2</td>\n",
       "      <td>none</td>\n",
       "      <td>yes</td>\n",
       "      <td>good</td>\n",
       "    </tr>\n",
       "    <tr>\n",
       "      <th>4</th>\n",
       "      <td>'&lt;0'</td>\n",
       "      <td>24</td>\n",
       "      <td>'delayed previously'</td>\n",
       "      <td>'new car'</td>\n",
       "      <td>4870</td>\n",
       "      <td>'&lt;100'</td>\n",
       "      <td>'1&lt;=X&lt;4'</td>\n",
       "      <td>3</td>\n",
       "      <td>'male single'</td>\n",
       "      <td>none</td>\n",
       "      <td>4</td>\n",
       "      <td>'no known property'</td>\n",
       "      <td>53</td>\n",
       "      <td>none</td>\n",
       "      <td>'for free'</td>\n",
       "      <td>2</td>\n",
       "      <td>skilled</td>\n",
       "      <td>2</td>\n",
       "      <td>none</td>\n",
       "      <td>yes</td>\n",
       "      <td>bad</td>\n",
       "    </tr>\n",
       "  </tbody>\n",
       "</table>\n",
       "</div>"
      ],
      "text/plain": [
       "  checking_status  duration                    credit_history              purpose  credit_amount      savings_status employment  installment_commitment       personal_status other_parties  residence_since   property_magnitude  age other_payment_plans     housing  existing_credits                   job  num_dependents own_telephone foreign_worker class\n",
       "0  '<0'            6         'critical/other existing credit'  radio/tv             1169           'no known savings'  '>=7'      4                       'male single'         none          4                'real estate'        67   none                own         2                 skilled               1               yes           yes            good\n",
       "1  '0<=X<200'      48        'existing paid'                   radio/tv             5951           '<100'              '1<=X<4'   2                       'female div/dep/mar'  none          2                'real estate'        22   none                own         1                 skilled               1               none          yes            bad \n",
       "2  'no checking'   12        'critical/other existing credit'  education            2096           '<100'              '4<=X<7'   2                       'male single'         none          3                'real estate'        49   none                own         1                 'unskilled resident'  2               none          yes            good\n",
       "3  '<0'            42        'existing paid'                   furniture/equipment  7882           '<100'              '4<=X<7'   2                       'male single'         guarantor     4                'life insurance'     45   none                'for free'  1                 skilled               2               none          yes            good\n",
       "4  '<0'            24        'delayed previously'              'new car'            4870           '<100'              '1<=X<4'   3                       'male single'         none          4                'no known property'  53   none                'for free'  2                 skilled               2               none          yes            bad "
      ]
     },
     "execution_count": 68,
     "metadata": {},
     "output_type": "execute_result"
    }
   ],
   "source": [
    "#Read in data with pandas and do a preliminary analysis\n",
    "df = pd.read_csv(\"Tenzing Assesment Data Set.csv\")\n",
    "\n",
    "# To be familiar with the DataFrame colomn names \n",
    "df.head() "
   ]
  },
  {
   "cell_type": "markdown",
   "metadata": {},
   "source": [
    "**Summary** \n",
    "* There are 20 columns of features/attributes data and 1 column of target data.\n",
    "* Among the 20 columns of data, there are 13 categorical features and 7 numerical features. \n",
    "* Because most of the features are categorical, finding the right encoding methods might be important.  "
   ]
  },
  {
   "cell_type": "code",
   "execution_count": 6,
   "metadata": {},
   "outputs": [
    {
     "name": "stdout",
     "output_type": "stream",
     "text": [
      "<class 'pandas.core.frame.DataFrame'>\n",
      "RangeIndex: 1000 entries, 0 to 999\n",
      "Data columns (total 21 columns):\n",
      "checking_status           1000 non-null object\n",
      "duration                  1000 non-null int64\n",
      "credit_history            1000 non-null object\n",
      "purpose                   1000 non-null object\n",
      "credit_amount             1000 non-null int64\n",
      "savings_status            1000 non-null object\n",
      "employment                1000 non-null object\n",
      "installment_commitment    1000 non-null int64\n",
      "personal_status           1000 non-null object\n",
      "other_parties             1000 non-null object\n",
      "residence_since           1000 non-null int64\n",
      "property_magnitude        1000 non-null object\n",
      "age                       1000 non-null int64\n",
      "other_payment_plans       1000 non-null object\n",
      "housing                   1000 non-null object\n",
      "existing_credits          1000 non-null int64\n",
      "job                       1000 non-null object\n",
      "num_dependents            1000 non-null int64\n",
      "own_telephone             1000 non-null object\n",
      "foreign_worker            1000 non-null object\n",
      "class                     1000 non-null object\n",
      "dtypes: int64(7), object(14)\n",
      "memory usage: 164.1+ KB\n"
     ]
    }
   ],
   "source": [
    "df.info() "
   ]
  },
  {
   "cell_type": "markdown",
   "metadata": {},
   "source": [
    "**Summary** \n",
    "\n",
    "* When importing data from the csv file, Pandas' default interpretation of string (object) and integer types for each column is correct. So no specific type conversion is necessary. \n",
    "\n",
    "* The data set has no missing or null values. There is no need for further processing or cleaning. Some columns such as 'employment' have been 'discretized' and transformed into categorical strings. There might be some room to fine tune the rules for obtaining these string. "
   ]
  },
  {
   "cell_type": "code",
   "execution_count": 7,
   "metadata": {},
   "outputs": [
    {
     "data": {
      "text/html": [
       "<div>\n",
       "<style scoped>\n",
       "    .dataframe tbody tr th:only-of-type {\n",
       "        vertical-align: middle;\n",
       "    }\n",
       "\n",
       "    .dataframe tbody tr th {\n",
       "        vertical-align: top;\n",
       "    }\n",
       "\n",
       "    .dataframe thead th {\n",
       "        text-align: right;\n",
       "    }\n",
       "</style>\n",
       "<table border=\"1\" class=\"dataframe\">\n",
       "  <thead>\n",
       "    <tr style=\"text-align: right;\">\n",
       "      <th></th>\n",
       "      <th>duration</th>\n",
       "      <th>credit_amount</th>\n",
       "      <th>installment_commitment</th>\n",
       "      <th>residence_since</th>\n",
       "      <th>age</th>\n",
       "      <th>existing_credits</th>\n",
       "      <th>num_dependents</th>\n",
       "    </tr>\n",
       "  </thead>\n",
       "  <tbody>\n",
       "    <tr>\n",
       "      <th>count</th>\n",
       "      <td>1000.000000</td>\n",
       "      <td>1000.000000</td>\n",
       "      <td>1000.000000</td>\n",
       "      <td>1000.000000</td>\n",
       "      <td>1000.000000</td>\n",
       "      <td>1000.000000</td>\n",
       "      <td>1000.000000</td>\n",
       "    </tr>\n",
       "    <tr>\n",
       "      <th>mean</th>\n",
       "      <td>20.903000</td>\n",
       "      <td>3271.258000</td>\n",
       "      <td>2.973000</td>\n",
       "      <td>2.845000</td>\n",
       "      <td>35.546000</td>\n",
       "      <td>1.407000</td>\n",
       "      <td>1.155000</td>\n",
       "    </tr>\n",
       "    <tr>\n",
       "      <th>std</th>\n",
       "      <td>12.058814</td>\n",
       "      <td>2822.736876</td>\n",
       "      <td>1.118715</td>\n",
       "      <td>1.103718</td>\n",
       "      <td>11.375469</td>\n",
       "      <td>0.577654</td>\n",
       "      <td>0.362086</td>\n",
       "    </tr>\n",
       "    <tr>\n",
       "      <th>min</th>\n",
       "      <td>4.000000</td>\n",
       "      <td>250.000000</td>\n",
       "      <td>1.000000</td>\n",
       "      <td>1.000000</td>\n",
       "      <td>19.000000</td>\n",
       "      <td>1.000000</td>\n",
       "      <td>1.000000</td>\n",
       "    </tr>\n",
       "    <tr>\n",
       "      <th>25%</th>\n",
       "      <td>12.000000</td>\n",
       "      <td>1365.500000</td>\n",
       "      <td>2.000000</td>\n",
       "      <td>2.000000</td>\n",
       "      <td>27.000000</td>\n",
       "      <td>1.000000</td>\n",
       "      <td>1.000000</td>\n",
       "    </tr>\n",
       "    <tr>\n",
       "      <th>50%</th>\n",
       "      <td>18.000000</td>\n",
       "      <td>2319.500000</td>\n",
       "      <td>3.000000</td>\n",
       "      <td>3.000000</td>\n",
       "      <td>33.000000</td>\n",
       "      <td>1.000000</td>\n",
       "      <td>1.000000</td>\n",
       "    </tr>\n",
       "    <tr>\n",
       "      <th>75%</th>\n",
       "      <td>24.000000</td>\n",
       "      <td>3972.250000</td>\n",
       "      <td>4.000000</td>\n",
       "      <td>4.000000</td>\n",
       "      <td>42.000000</td>\n",
       "      <td>2.000000</td>\n",
       "      <td>1.000000</td>\n",
       "    </tr>\n",
       "    <tr>\n",
       "      <th>max</th>\n",
       "      <td>72.000000</td>\n",
       "      <td>18424.000000</td>\n",
       "      <td>4.000000</td>\n",
       "      <td>4.000000</td>\n",
       "      <td>75.000000</td>\n",
       "      <td>4.000000</td>\n",
       "      <td>2.000000</td>\n",
       "    </tr>\n",
       "  </tbody>\n",
       "</table>\n",
       "</div>"
      ],
      "text/plain": [
       "          duration  credit_amount  installment_commitment  residence_since  \\\n",
       "count  1000.000000    1000.000000             1000.000000      1000.000000   \n",
       "mean     20.903000    3271.258000                2.973000         2.845000   \n",
       "std      12.058814    2822.736876                1.118715         1.103718   \n",
       "min       4.000000     250.000000                1.000000         1.000000   \n",
       "25%      12.000000    1365.500000                2.000000         2.000000   \n",
       "50%      18.000000    2319.500000                3.000000         3.000000   \n",
       "75%      24.000000    3972.250000                4.000000         4.000000   \n",
       "max      72.000000   18424.000000                4.000000         4.000000   \n",
       "\n",
       "               age  existing_credits  num_dependents  \n",
       "count  1000.000000       1000.000000     1000.000000  \n",
       "mean     35.546000          1.407000        1.155000  \n",
       "std      11.375469          0.577654        0.362086  \n",
       "min      19.000000          1.000000        1.000000  \n",
       "25%      27.000000          1.000000        1.000000  \n",
       "50%      33.000000          1.000000        1.000000  \n",
       "75%      42.000000          2.000000        1.000000  \n",
       "max      75.000000          4.000000        2.000000  "
      ]
     },
     "execution_count": 7,
     "metadata": {},
     "output_type": "execute_result"
    }
   ],
   "source": [
    "df.describe()"
   ]
  },
  {
   "cell_type": "markdown",
   "metadata": {},
   "source": [
    "**Summary** \n",
    "\n",
    "* From the summary statistics shown above, we see that there are some outliers (three standard deviations away from the mean) for columns such as 'duration', 'credit_amount' and 'age'. \n",
    "\n",
    "* In regression models we almost always need calculate the mean of a column of data (\"regression\" literally means \"go back to mean\"). However, outliers may strongly affect the calculation of mean. Thus, in general, outliers will affect the performance of regression models. **Here we mainly consider an prototype model and some possible corrections to the prototype. So the the issue of outliers will not be addressed.** \n",
    "\n",
    "* We will consider a logistic regression model. Thus normalization / standardization is unnecessary. "
   ]
  },
  {
   "cell_type": "code",
   "execution_count": 8,
   "metadata": {},
   "outputs": [
    {
     "data": {
      "text/plain": [
       "good    700\n",
       "bad     300\n",
       "Name: class, dtype: int64"
      ]
     },
     "execution_count": 8,
     "metadata": {},
     "output_type": "execute_result"
    }
   ],
   "source": [
    "df['class'].value_counts() "
   ]
  },
  {
   "cell_type": "markdown",
   "metadata": {},
   "source": [
    "**Summary**:  \n",
    "* We count the number of each class level in the target column. \n",
    "* Normally a class with 4:1 or bigger class ratio is considered to be an imbalanced or skewed class. The ratio here is 7:3. Therefore, the data set is not regarded as imbalanced by convention. However, because the data set is anyway on the edge of imbalance, it might still be beneficial to consider some techniques specially designed for imbalanced data.  "
   ]
  },
  {
   "cell_type": "markdown",
   "metadata": {},
   "source": [
    "# Part 3 -- Exploratory analysis\n",
    "We will explore some insights from the given data set, especially the relation between features/attributes and target. As mentioned earlier, there are two types of features in this data set: one is categorical and the other is numerical. Furthermore, the type of target class is also categorical. Therefore, the study of target-feature relation should be done in the following two ways: categorical-categorical and categorical-numerical. Target is always categorical but feature can be either categorical or numerical. "
   ]
  },
  {
   "cell_type": "markdown",
   "metadata": {},
   "source": [
    "### Categorical - categorical analysis\n",
    "There are 13 categorical attributes as shown in the following list: categorical_columns. "
   ]
  },
  {
   "cell_type": "code",
   "execution_count": 18,
   "metadata": {},
   "outputs": [],
   "source": [
    "categorical_columns = ['checking_status','credit_history', 'purpose','savings_status', 'employment','personal_status',\n",
    "                       'other_parties','property_magnitude', 'other_payment_plans', 'housing', 'job', 'own_telephone', \n",
    "                       'foreign_worker']"
   ]
  },
  {
   "cell_type": "markdown",
   "metadata": {},
   "source": [
    "To analyze the relation between target and the above categorical attributes, we construct the following function: draw_cate_cate(column_name). This function will plot the relation of the categorical target class and the other categorical feature / attribute. "
   ]
  },
  {
   "cell_type": "code",
   "execution_count": 88,
   "metadata": {},
   "outputs": [],
   "source": [
    "def draw_cate_cate(column_name):\n",
    "\n",
    "    # prepare dataframe for plotting\n",
    "    df1=df.groupby(['class',column_name]).count()[['duration']]\n",
    "    df1.reset_index(inplace=True)\n",
    "    df1.columns=['class',column_name,'count']\n",
    "\n",
    "    df1.loc[df1['class']=='good','count']=df1.loc[df1['class']=='good','count']*3/7\n",
    "    # The 3/7 factor is due to the particular target class ratio 7:3 as we studied earlier. \n",
    "    # We should avoid such hard-coding if this function will be re-used in other place.\n",
    "    \n",
    "    df1=df1.pivot(index='class',columns=column_name,values='count')\n",
    "\n",
    "    # Plotting\n",
    "    ycmap = ListedColormap((sns.color_palette('bright'))) # deep, muted, pastel, bright, dark, and colorblind\n",
    "\n",
    "    _=df1.plot.bar(figsize=(6.4, 4.4), cmap=ycmap,title=column_name+' vs Class (Grouped Bar Chart)')\n",
    "    _=plt.ylabel('Count')\n",
    "    _=plt.xticks(rotation=45)\n",
    "    _=plt.legend(loc=\"upper center\",prop={'size': 7})\n",
    "\n",
    "\n",
    "    _=plt.show()"
   ]
  },
  {
   "cell_type": "markdown",
   "metadata": {},
   "source": [
    "We next analyze the target-attribute relation for a few attributes. "
   ]
  },
  {
   "cell_type": "code",
   "execution_count": 20,
   "metadata": {},
   "outputs": [
    {
     "data": {
      "image/png": "[encoded data removed]",
      "text/plain": [
       "<Figure size 460.8x316.8 with 1 Axes>"
      ]
     },
     "metadata": {},
     "output_type": "display_data"
    }
   ],
   "source": [
    "draw_cate_cate('foreign_worker')"
   ]
  },
  {
   "cell_type": "markdown",
   "metadata": {},
   "source": [
    "We gain the following insights from the figure above:   \n",
    "\n",
    "* The number of foreign workers accounts for most of the samples of either 'good' or 'bad'. However, the status of being foreign workers (light blue) has almost nothing to do with their probabilities of being 'bad' or 'good'. This is because, for foreign workers, the number of being 'bad' and the number of being 'good' are almost same. That is, the heights of two light blue bars are almost identical.  \n",
    "\n",
    "* The non-foreign workers (dark blue) are more likely to be 'good'. The height of dark-blue bar for being 'good' is many times that of being 'bad'.  \n",
    "\n",
    "* **A key point to note:** The count of all bars in the above graph is not the total number of samples, i.e. 1000. The reason for this is that the data set has much more 'good' samples than 'bad' (7:3). For a fair comparison, when plotting, we normalize the number of being 'good' by a factor of 3/7. Otherwise, the height of bars for 'good' would always much higher than those of being 'bad'. "
   ]
  },
  {
   "cell_type": "markdown",
   "metadata": {},
   "source": [
    "Let examine the class-attribute relation for another attribute 'savings_status'."
   ]
  },
  {
   "cell_type": "code",
   "execution_count": 21,
   "metadata": {},
   "outputs": [
    {
     "data": {
      "image/png": "[encoded data removed]",
      "text/plain": [
       "<Figure size 460.8x316.8 with 1 Axes>"
      ]
     },
     "metadata": {},
     "output_type": "display_data"
    }
   ],
   "source": [
    "draw_cate_cate('savings_status')"
   ]
  },
  {
   "cell_type": "markdown",
   "metadata": {},
   "source": [
    "We gain the following insights from the figure above:  \n",
    "\n",
    "* For saving amount $X<100$ (dark orange), the number of being 'bad' is bigger than that of being 'good'. Also we find most samples in the data set belong to this category. \n",
    "* As saving amount becomes $100 \\leq X < 500$ (dark blue), the number of being 'bad' is still slightly bigger than being 'good'. \n",
    "* As the saving amount becomes more, e.g. $500 \\leq X < 1000$ (green), the number of being 'bad' is no longer bigger than being 'good', but becomes smaller (green).\n",
    "* As the saving amount becomes even more, e.g. $ X \\geq 1000$ (gray), the number of being 'good' becomes even more than that of being 'bad'. \n",
    "* We thus conclude that the more saving people have, the less likely they will be with 'bad' credit. \n",
    "* Finally another surprising result is that people without saving account are more likely being 'good'. \n"
   ]
  },
  {
   "cell_type": "markdown",
   "metadata": {},
   "source": [
    "### Categorical - numerical \n",
    "There are 7 numerical attributes as shown in the following list: numerical_columns. "
   ]
  },
  {
   "cell_type": "code",
   "execution_count": 22,
   "metadata": {},
   "outputs": [],
   "source": [
    "numerical_columns = ['duration','credit_amount','installment_commitment','residence_since','age',\n",
    "                     'existing_credits','num_dependents']"
   ]
  },
  {
   "cell_type": "markdown",
   "metadata": {},
   "source": [
    "To analyze the relation between target and the above numerical attributes, we construct the following function: draw_box(column_name). This function will plot the relation of the categorical target class and the other numerical feature / attribute. "
   ]
  },
  {
   "cell_type": "code",
   "execution_count": 23,
   "metadata": {},
   "outputs": [],
   "source": [
    "def draw_box(column_name):\n",
    "    df1=df[['class',column_name]]\n",
    "\n",
    "    # Make box plot\n",
    "    _ = sns.boxplot(x='class',y=column_name, data = df1) \n",
    "    _ = plt.xlabel('class')\n",
    "    _ = plt.ylabel(column_name)\n",
    "\n",
    "    _ = plt.show()"
   ]
  },
  {
   "cell_type": "code",
   "execution_count": 24,
   "metadata": {},
   "outputs": [
    {
     "data": {
      "image/png": "[encoded data removed]",
      "text/plain": [
       "<Figure size 432x288 with 1 Axes>"
      ]
     },
     "metadata": {},
     "output_type": "display_data"
    }
   ],
   "source": [
    "draw_box('age')"
   ]
  },
  {
   "cell_type": "markdown",
   "metadata": {},
   "source": [
    "We gain the following insights from the figure above:  \n",
    "* The median age for being 'bad' (the horizontal black line in the orange box) is smaller than that of being 'good' (the horizontal black line in the blue box).  \n",
    "* Thus we conclude that people with younger age are more likely to have a 'bad' credit. "
   ]
  },
  {
   "cell_type": "markdown",
   "metadata": {},
   "source": [
    "Let's examine the target-attribute relation for another numerical attribute.  "
   ]
  },
  {
   "cell_type": "code",
   "execution_count": 17,
   "metadata": {},
   "outputs": [
    {
     "data": {
      "image/png": "[encoded data removed]",
      "text/plain": [
       "<Figure size 432x288 with 1 Axes>"
      ]
     },
     "metadata": {},
     "output_type": "display_data"
    }
   ],
   "source": [
    "draw_box('duration')"
   ]
  },
  {
   "cell_type": "markdown",
   "metadata": {},
   "source": [
    "We gain the following insights from the figure above:  \n",
    "* The median duration for being 'bad' (the horizontal black line in the orange box) is bigger than that of being 'good' (the horizontal black line in the blue box), but also with bigger volatility.   \n",
    "* We conclude that the longer the credit history, the more likely to be with 'bad' credit. This might be related to the fact volatility can sometimes be proportional to the square root of the time duration. Intuitively, we may deduct that although a rare event such as debt default is unlikely to happen over a short period of time, it might happen within a long period of time. "
   ]
  },
  {
   "cell_type": "markdown",
   "metadata": {},
   "source": [
    "# Part 4 -- Preparing data for modeling\n",
    "\n",
    "* We have 13 categorical features/attributes in the data set, which should all be converted to numerical numbers before fitting a model. \n",
    "\n",
    "* There are many ways to encode categorical variables. For nominal categorical columns, try OneHot, Hashing, LeaveOneOut, and Target encoding, but avoid OneHot for high cardinality columns and decision tree-based algorithms.  For ordinal categorical columns try Ordinal (Integer), Binary, OneHot, LeaveOneOut, and Target etc. \n",
    "\n",
    "* It might be useful to try Ordinal encoding for some columns such as 'checking_status', 'savings_status', which have some 'ordering' components inside. Then encode other nominal categorical with OneHot, and finally concatenate them together. However, the Hashing encoding should not be appropriate because the number of levels for our categorical attributes are small. \n",
    "\n",
    "* For simplicity, we will only use OneHot encoding approach to encode all our categorical attributes. "
   ]
  },
  {
   "cell_type": "code",
   "execution_count": 106,
   "metadata": {},
   "outputs": [],
   "source": [
    "y = df['class'].replace('good',0).replace('bad',1).values\n",
    "X = df.drop(['class'], axis = 1)\n",
    "X = pd.get_dummies(X, drop_first=True).values"
   ]
  },
  {
   "cell_type": "markdown",
   "metadata": {},
   "source": [
    "**Comments:**  \n",
    "* In theory, for $N$ level categorical attribute, the dimension of OneHot vector should be $N-1$. This is why we use `drop_first=True`. However, we find that this does not matter a lot in the logistic regression model below. The only change of deleting `drop_first=True` is that f1 score goes from 0.783 to 0.782 for a cross-valid model used later. "
   ]
  },
  {
   "cell_type": "markdown",
   "metadata": {},
   "source": [
    "Next is a test for whether the OneHot encoding is correct in terms of the total levels obtained. "
   ]
  },
  {
   "cell_type": "code",
   "execution_count": 107,
   "metadata": {},
   "outputs": [
    {
     "name": "stdout",
     "output_type": "stream",
     "text": [
      "48\n",
      "(1000, 48)\n"
     ]
    }
   ],
   "source": [
    "sum_categorical_levels  = 0\n",
    "for item in categorical_columns:\n",
    "    sum_categorical_levels = sum_categorical_levels + len(df[item].unique())-1\n",
    "\n",
    "total_num_columns = sum_categorical_levels + len(numerical_columns)\n",
    "print(total_num_columns)\n",
    "print(X.shape)"
   ]
  },
  {
   "cell_type": "markdown",
   "metadata": {},
   "source": [
    "**Comments**:  \n",
    "* The calculated total columns is same as the second dimension of data X, i.e., 48. Thus pd.get_dummies() therefore does the right job, at least in terms of dimensions. \n",
    "* If we delete `drop_first=True` from pd.get_dummies(), then the total dimension will become 61. As mentioned earlier, both cases give almost the same results. However, the 48 should be used in theory because not all the levels are independent in the case of 61 columns. Sometimes calculations without `drop_first=True` might cause problems, i.e, the so-called dummy variable trap. "
   ]
  },
  {
   "cell_type": "markdown",
   "metadata": {},
   "source": [
    "# Part 5 -- A prototype model "
   ]
  },
  {
   "cell_type": "markdown",
   "metadata": {},
   "source": [
    "### Model with logistic regression"
   ]
  },
  {
   "cell_type": "code",
   "execution_count": 112,
   "metadata": {},
   "outputs": [
    {
     "name": "stdout",
     "output_type": "stream",
     "text": [
      "Classification report:\n",
      "               precision    recall  f1-score   support\n",
      "\n",
      "           0       0.79      0.90      0.84       210\n",
      "           1       0.65      0.44      0.53        90\n",
      "\n",
      "   micro avg       0.76      0.76      0.76       300\n",
      "   macro avg       0.72      0.67      0.68       300\n",
      "weighted avg       0.75      0.76      0.75       300\n",
      "\n",
      "Confusion matrix:\n",
      " [[188  22]\n",
      " [ 50  40]]\n"
     ]
    }
   ],
   "source": [
    "from sklearn.model_selection import train_test_split\n",
    "from sklearn.linear_model import LogisticRegression\n",
    "from sklearn.metrics import confusion_matrix\n",
    "from sklearn.metrics import classification_report\n",
    "\n",
    "X_train, X_test, y_train, y_test = train_test_split(X, y, test_size=0.3, random_state=0, stratify=y)\n",
    "\n",
    "# Fit a logistic regression model to our data\n",
    "prototype_model = LogisticRegression(solver = 'lbfgs', max_iter = 500)\n",
    "prototype_model.fit(X_train, y_train)\n",
    "\n",
    "# Obtain model predictions\n",
    "predicted = prototype_model.predict(X_test)\n",
    "\n",
    "# Print the classifcation report and confusion matrix\n",
    "print('Classification report:\\n', classification_report(y_test, predicted))\n",
    "conf_mat = confusion_matrix(y_true=y_test, y_pred=predicted)\n",
    "print('Confusion matrix:\\n', conf_mat)"
   ]
  },
  {
   "cell_type": "markdown",
   "metadata": {},
   "source": [
    "### The interpretation of the results\n",
    "\n",
    "* For class = 0 ('good'), the values of precision and recall are 0.79 and 0.90 respectively. These are much better than the corresponding values of 0.65 and 0.44 for class 1('bad'). This indicates, among the 90 class = 1('bad') cases, only 40 of them are discovered or 'recalled', which is just 44% of them. \n",
    "\n",
    "* If predicting both 'good' and 'bad' are equally important to us, then the above results are sort of OK. However, if we focus more on predicting the 'bad' case, then 44% prediction is very bad. \n",
    "\n",
    "* The very different predictions for class = 1 and class = 0 are probably due to the imbalance data set where the ratio of 'good' to 'bad' is 7:3. If we indeed focus on predicting 'bad' case, then we should improve the model by employing techniques developed specifically for imbalanced data. Various of such techniques can be found in the following link: https://github.com/ljyang100/dataScience/blob/master/machineLearning/applications/anomaly%20_%20fraud%20detection/fraud%20detection.pdf. One of such ways is to re-balance the data using the Synthetic Minority Over-sampling Technique (SMOTE).  \n",
    " "
   ]
  },
  {
   "cell_type": "markdown",
   "metadata": {},
   "source": [
    "# Part 6 Feature selection with filter methods\n",
    "* Feature selection and extraction are very important in machine learning.We next provide some feature selection and extraction approaches that could generally increase the performance of a model, including the prototype logistic model introduced earlier. \n",
    "* Feature selection/extraction sometimes can be even more important than building a model. In fact, sometimes performing featuring extraction itself is building a model. For example, in image/face recognition with deep learning, we need extract a low dimensional (a few hundreds) feature from a high-dimensional feature (tens or hundreds of thousands in dimension). Such a feature extraction is usually done by neural network (CNN), which is itself a complicated model. This feature extraction from much high to much low dimension makes it possible for image/face recognition through another model. \n",
    "* Redundant features will not only increase the calculation burden, but also could increase the variance of the prediction (overfitting).  \n"
   ]
  },
  {
   "cell_type": "markdown",
   "metadata": {},
   "source": [
    "### Feature selection for categorical-categorical relation with $\\chi^2$ testing  \n",
    "* Calculate the dependence of the categorical target on each of 13 categorical attributes. If we find the target depends strongly on a specific feature, then the feature must be a 'good' feature for prediction. \n",
    "* To quantify the dependence of two categorical variables, we use $\\chi^2$ statistics. If the $\\chi^2$ is very big, or the corresponding $p$ value is very small, then the two variables are strongly dependent.  \n",
    "* Below are the calculations of $\\chi^2$ statistics between the target and all other categorical attributes.  "
   ]
  },
  {
   "cell_type": "code",
   "execution_count": 42,
   "metadata": {},
   "outputs": [
    {
     "name": "stdout",
     "output_type": "stream",
     "text": [
      "chi_square: 123.72094351626559 p_value: 1.2189020722893845e-26 for 'checking_status'.\n",
      "chi_square: 61.691396964595505 p_value: 1.2791872956750962e-12 for 'credit_history'.\n",
      "chi_square: 33.35644686141815 p_value: 0.00011574910079691586 for 'purpose'.\n",
      "chi_square: 36.098928192418704 p_value: 2.761214238568249e-07 for 'savings_status'.\n",
      "chi_square: 18.3682738466968 p_value: 0.001045452349140254 for 'employment'.\n",
      "chi_square: 9.60521395933605 p_value: 0.02223800546926877 for 'personal_status'.\n",
      "chi_square: 6.645366537264244 p_value: 0.036055954027247206 for 'other_parties'.\n",
      "chi_square: 23.719551283864707 p_value: 2.8584415733250017e-05 for 'property_magnitude'.\n",
      "chi_square: 12.839187735866135 p_value: 0.0016293178186473534 for 'other_payment_plans'.\n",
      "chi_square: 18.19984158256362 p_value: 0.00011167465374597684 for 'housing'.\n",
      "chi_square: 1.8851560280131707 p_value: 0.5965815918843431 for 'job'.\n",
      "chi_square: 1.1725585310208857 p_value: 0.27887615430357415 for 'own_telephone'.\n",
      "chi_square: 5.821575915033861 p_value: 0.015830754902852885 for 'foreign_worker'.\n"
     ]
    }
   ],
   "source": [
    "import pandas as pd\n",
    "from scipy import stats\n",
    "\n",
    "for categorical_variable in categorical_columns:\n",
    "    crosstab = pd.crosstab(df[categorical_variable], df['class'])\n",
    "    chi_square, p_value, degree_of_freedom, _ = stats.chi2_contingency(crosstab)\n",
    "    print(\"chi_square: \" + str(chi_square) + \" p_value: \" + str(p_value) + \" for \" + \"'\" + categorical_variable + \"'.\")\n",
    "    "
   ]
  },
  {
   "cell_type": "markdown",
   "metadata": {},
   "source": [
    "From above, we know the attribute 'checking_status' depend strongest on the target, as its $\\chi^2$ (chi_square) has the largest value 123.7209 (or with smallest $p$ value). **So the 'checking_status' is the best categorical feature/attribute**. This can also be clearly seen in the following figure.   "
   ]
  },
  {
   "cell_type": "code",
   "execution_count": 44,
   "metadata": {},
   "outputs": [
    {
     "data": {
      "image/png": "[encoded data removed]",
      "text/plain": [
       "<Figure size 460.8x316.8 with 1 Axes>"
      ]
     },
     "metadata": {},
     "output_type": "display_data"
    }
   ],
   "source": [
    "draw('checking_status')"
   ]
  },
  {
   "cell_type": "markdown",
   "metadata": {},
   "source": [
    "Almost every categorical level is strongly dependent on the target class, for example: '<0' case (red) has more probability to be 'bad'; 'no checking' case (light blue) has more probability to be 'good'. In other words, their bar heights are strongly related to whether they are 'good' or 'bad'.  \n",
    "\n",
    "Now we check the second best categorical attribute 'credit_history' with the $\\chi^2$ value of 61.69139. Again we see that each level of the variable depends heavily on 'good' or 'bad'. In other words, the same color bars for the 'good' and 'bad' are very different (except the gray and dark orange). "
   ]
  },
  {
   "cell_type": "code",
   "execution_count": 47,
   "metadata": {},
   "outputs": [
    {
     "data": {
      "image/png": "[encoded data removed]",
      "text/plain": [
       "<Figure size 460.8x316.8 with 1 Axes>"
      ]
     },
     "metadata": {},
     "output_type": "display_data"
    }
   ],
   "source": [
    "draw('credit_history')"
   ]
  },
  {
   "cell_type": "markdown",
   "metadata": {},
   "source": [
    "After checking the best and second best categorical features, let's check the two worst ones, 'job' and 'own_telephone'. Their $\\chi^2$ values are respectively 1.8851 and 1.1725, much smaller than the counterparts of the two best ones introduced earlier. \n",
    "\n",
    "For the two worst ones, the levels (the heights of same color bars) are almost same for 'good' and 'bad'. Or, they are independent of the target class 'good' and 'bad'. "
   ]
  },
  {
   "cell_type": "code",
   "execution_count": 45,
   "metadata": {},
   "outputs": [
    {
     "data": {
      "image/png": "[encoded data removed]",
      "text/plain": [
       "<Figure size 460.8x316.8 with 1 Axes>"
      ]
     },
     "metadata": {},
     "output_type": "display_data"
    }
   ],
   "source": [
    "draw('job')"
   ]
  },
  {
   "cell_type": "markdown",
   "metadata": {},
   "source": [
    "In the above figure, the heights of two light blue bars are almost same. Similar conclusions hold the bars of other colors. This indicates the attribute 'job' and target class have almost no depending relation.  "
   ]
  },
  {
   "cell_type": "code",
   "execution_count": 46,
   "metadata": {},
   "outputs": [
    {
     "data": {
      "image/png": "[encoded data removed]",
      "text/plain": [
       "<Figure size 460.8x316.8 with 1 Axes>"
      ]
     },
     "metadata": {},
     "output_type": "display_data"
    }
   ],
   "source": [
    "draw('own_telephone')"
   ]
  },
  {
   "cell_type": "markdown",
   "metadata": {},
   "source": [
    "In the above figure, two blue bars are with similar height. Same thing for two light-blue bars. So attribute 'own_telephone' and target class has no appreciable dependence. "
   ]
  },
  {
   "cell_type": "markdown",
   "metadata": {},
   "source": [
    "### Test feature selection by eliminating of two best/worst categorical attributes\n",
    "To verify our conclusions, we now run a cross-validated logistic regression model below. First we run the model without eliminating any attributes. "
   ]
  },
  {
   "cell_type": "code",
   "execution_count": 93,
   "metadata": {},
   "outputs": [],
   "source": [
    "y = df['class'].replace('good',0).replace('bad',1).values\n",
    "X = df.drop(['class'], axis = 1)\n",
    "X = pd.get_dummies(X, drop_first=True).values"
   ]
  },
  {
   "cell_type": "code",
   "execution_count": 94,
   "metadata": {},
   "outputs": [],
   "source": [
    "from sklearn.linear_model import LogisticRegressionCV\n",
    "cross_valid = LogisticRegressionCV(cv=5, random_state=0,solver='lbfgs', max_iter=1000,\n",
    "                            multi_class='multinomial').fit(X, y)\n"
   ]
  },
  {
   "cell_type": "code",
   "execution_count": 95,
   "metadata": {},
   "outputs": [
    {
     "data": {
      "text/plain": [
       "0.783"
      ]
     },
     "execution_count": 95,
     "metadata": {},
     "output_type": "execute_result"
    }
   ],
   "source": [
    "cross_valid.score(X, y) "
   ]
  },
  {
   "cell_type": "markdown",
   "metadata": {},
   "source": [
    "Then we run the model by only eliminating the two worst categorical attributes 'job' and 'own_telephone'. "
   ]
  },
  {
   "cell_type": "code",
   "execution_count": 96,
   "metadata": {},
   "outputs": [],
   "source": [
    "y = df['class'].replace('good',0).replace('bad',1).values\n",
    "X = df.drop(['class'], axis = 1)\n",
    "X = X.drop(['job'], axis = 1)\n",
    "X = X.drop(['own_telephone'], axis = 1)\n",
    "X = pd.get_dummies(X, drop_first=True).values"
   ]
  },
  {
   "cell_type": "code",
   "execution_count": 97,
   "metadata": {},
   "outputs": [
    {
     "data": {
      "text/plain": [
       "0.779"
      ]
     },
     "execution_count": 97,
     "metadata": {},
     "output_type": "execute_result"
    }
   ],
   "source": [
    "cross_valid = LogisticRegressionCV(cv=5, random_state=0,solver='lbfgs', max_iter=1000,\n",
    "                            multi_class='multinomial').fit(X, y)\n",
    "cross_valid.score(X, y) "
   ]
  },
  {
   "cell_type": "markdown",
   "metadata": {},
   "source": [
    "Finally we run the model by only eliminating two best categorical attributes."
   ]
  },
  {
   "cell_type": "code",
   "execution_count": 98,
   "metadata": {},
   "outputs": [],
   "source": [
    "y = df['class'].replace('good',0).replace('bad',1).values\n",
    "X = df.drop(['class'], axis = 1)\n",
    "X = X.drop(['checking_status'], axis = 1)\n",
    "X = X.drop(['credit_history'], axis = 1)\n",
    "X = pd.get_dummies(X, drop_first=True).values\n"
   ]
  },
  {
   "cell_type": "code",
   "execution_count": 99,
   "metadata": {},
   "outputs": [
    {
     "data": {
      "text/plain": [
       "0.747"
      ]
     },
     "execution_count": 99,
     "metadata": {},
     "output_type": "execute_result"
    }
   ],
   "source": [
    "cross_valid = LogisticRegressionCV(cv=5, random_state=0,solver='lbfgs', max_iter=1000,\n",
    "                            multi_class='multinomial').fit(X, y)\n",
    "cross_valid.score(X, y) "
   ]
  },
  {
   "cell_type": "markdown",
   "metadata": {},
   "source": [
    "**Summary**: \n",
    "\n",
    "* By eliminating the two worst categorical variables, the performance goes down by 0.4%, almost no effect. So the two worst features can be eliminated to reduce data dimension. \n",
    "* By eliminating the two best categorical variables, the performance goes down by 3.7%, an appreciable effect. So we cannot eliminate these two best categorical features. \n",
    "* The $\\chi^2$ testing approach **can thus help us to preliminarily design and select important categorical features when a target is also categorical.** \n",
    "* We have studied only the target-feature relation by $\\chi^2$ testing, where we keep a feature if $\\chi^2$ is very big and eliminate a feature when $\\chi^2$ is very tiny.\n",
    "* We can also do feature selection by studying the feature-feature relation by $\\chi^2$ testing if the two features are both categorical. However, unlike the examination of target-feature relation, here we eliminate a feature when the $\\chi^2$ is very big. "
   ]
  },
  {
   "cell_type": "markdown",
   "metadata": {},
   "source": [
    "### Feature selection for categorical-numerical relation with analysis of variance (ANCOVA) \n",
    "Like the categorical-categorical case, we first draw the target-attribute relation to check whether the target and feature is strongly related. The difference here is that the attribute is a continuous variable instead of categorical. We thus draw the box plot to show these relations. Let's first check the target-'duration' plot below.  "
   ]
  },
  {
   "cell_type": "code",
   "execution_count": 100,
   "metadata": {},
   "outputs": [
    {
     "data": {
      "image/png": "[encoded data removed]",
      "text/plain": [
       "<Figure size 432x288 with 1 Axes>"
      ]
     },
     "metadata": {},
     "output_type": "display_data"
    }
   ],
   "source": [
    "draw_box('duration')"
   ]
  },
  {
   "cell_type": "markdown",
   "metadata": {},
   "source": [
    "It is clear that the 'duration' distributions for 'good' and 'bad' cases are different. Thus 'duration' is dependent on the target class 'good' and 'bad'. For example, for the 'bad' case, the median 'duration' value (the black line in orange box) is higher than that of 'good' case (the black line in blue box). "
   ]
  },
  {
   "cell_type": "code",
   "execution_count": 101,
   "metadata": {},
   "outputs": [
    {
     "data": {
      "image/png": "[encoded data removed]",
      "text/plain": [
       "<Figure size 432x288 with 1 Axes>"
      ]
     },
     "metadata": {},
     "output_type": "display_data"
    }
   ],
   "source": [
    "draw_box('residence_since')"
   ]
  },
  {
   "cell_type": "markdown",
   "metadata": {},
   "source": [
    "The distributions for 'residence_since' are similar to each other for 'good' and 'bad'. Thus we conclude that the 'residence_since' is weakly related to the target class.  \n",
    "\n",
    "The quantitatively describe the above dependences, we may use the F-value, as employed ANCOVA. This is different from the $\\chi^2$ as we used in the categorical-categorical case. Because now we are considering categorical-numerical case, we thus select features based on the F-value. "
   ]
  },
  {
   "cell_type": "markdown",
   "metadata": {},
   "source": [
    "### Feature selection for numerical-numerical relation with correlation\n",
    "For numerical-numerical case, we usually use correlation to select features. If target-feature has a strong correlation, then keep the feature. If feature-feature has a very strong correlation, then eliminate one of features. Let's plot the 'duration'-'credit_amount' relation first.   "
   ]
  },
  {
   "cell_type": "code",
   "execution_count": 102,
   "metadata": {},
   "outputs": [],
   "source": [
    "def draw_plot(column_name1,column_name2):\n",
    "    _=plt.plot(np.array(df[column_name1]),np.array(df[column_name2]),marker='.', linestyle='none',color='blue') \n",
    "    _=plt.xlabel(column_name1)\n",
    "    _=plt.ylabel(column_name2)\n",
    "\n",
    "    _=plt.show()"
   ]
  },
  {
   "cell_type": "code",
   "execution_count": 103,
   "metadata": {},
   "outputs": [
    {
     "data": {
      "image/png": "[encoded data removed]",
      "text/plain": [
       "<Figure size 432x288 with 1 Axes>"
      ]
     },
     "metadata": {},
     "output_type": "display_data"
    }
   ],
   "source": [
    "draw_plot('duration','credit_amount')"
   ]
  },
  {
   "cell_type": "markdown",
   "metadata": {},
   "source": [
    "There is sort of correlation: as duration becomes larger, credit_amount also has a tendency to be larger. However, they are far from strong correlated. In this data set, the correlation among different numerical features are normally small. So it is not justifiable to eliminate one of features. This can be further proved by the following code where we will eliminate a feature if the feature-feature correlation is bigger than 0.95. "
   ]
  },
  {
   "cell_type": "code",
   "execution_count": 87,
   "metadata": {},
   "outputs": [
    {
     "name": "stdout",
     "output_type": "stream",
     "text": [
      "[]\n"
     ]
    }
   ],
   "source": [
    "corr_matrix = df.corr().abs()\n",
    "\n",
    "# Select upper triangle of correlation matrix\n",
    "upper = corr_matrix.where(np.triu(np.ones(corr_matrix.shape), k=1).astype(np.bool))\n",
    "# print(upper)\n",
    "\n",
    "# Find index of feature columns with correlation greater than 0.95\n",
    "to_drop = [column for column in upper.columns if any(upper[column] > 0.95)]\n",
    "print(to_drop)"
   ]
  },
  {
   "cell_type": "markdown",
   "metadata": {},
   "source": [
    "# Part 7 Feature selection with wrapper methods\n",
    "\n",
    "The feature selection in Part 6 considers feature-feature or feature-target relation without considering the whole performance. With wrapper methods such as 'sequential feature selection algorithm', we always consider a combination of features with best metric such as ROC_AUC. This type of approach is usually expensive in calculation and thus is not suitable for very big data set with high dimension.  \n",
    "\n",
    "An example of using 'sequential feature selection algorithm' can be found in the following link: \n",
    "\n",
    "https://github.com/ljyang100/dataScience/blob/master/machineLearning/featureEngineering/forward%20step-wise%20feature%20selection%20using%20ROC_AUC.pdf\n"
   ]
  },
  {
   "cell_type": "markdown",
   "metadata": {},
   "source": [
    "# Part 8 Feature extraction, nonlinear models and other possible improvements\n",
    "\n",
    "* Feature selection in Part 6 and 7 only selects from the available features. Feature extraction, however, may create new features by linearly or nonlinearly combine the original features. Typical ways of doing so include linear dimension reduction ways such as PCA and LDA. LDA is particularly useful for maximizing the separation of classes. Nonlinear dimension reduction techniques such as image encoding, word embedding, etc. can significantly reduce the original dimension of data without losing essential information. \n",
    "\n",
    "* In this project, we employ a linear classifier: logistic regression model. However, the target and feature relation might be nonlinear. If so, then we may improve the performance by employing typical nonlinear models such as support vector machine, tree-based models such as random forest, neural network, etc. \n"
   ]
  }
 ],
 "metadata": {
  "kernelspec": {
   "display_name": "Python 3",
   "language": "python",
   "name": "python3"
  },
  "language_info": {
   "codemirror_mode": {
    "name": "ipython",
    "version": 3
   },
   "file_extension": ".py",
   "mimetype": "text/x-python",
   "name": "python",
   "nbconvert_exporter": "python",
   "pygments_lexer": "ipython3",
   "version": "3.6.4"
  }
 },
 "nbformat": 4,
 "nbformat_minor": 2
}
