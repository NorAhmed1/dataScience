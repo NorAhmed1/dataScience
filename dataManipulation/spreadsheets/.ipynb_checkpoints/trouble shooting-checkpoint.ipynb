{
 "cells": [
  {
   "cell_type": "markdown",
   "metadata": {},
   "source": [
    "### Formula not executing\n",
    "The spread sheet is downloaded from Google sheet as a EXCEL file. The formula below is not executing.  \n",
    "=RIGHT(C2, G2)  \n",
    "Right click the cell -> format cell -> and find the format of it is \"Text\". Change it to general, and then it works. \n",
    "\n",
    "Always right clicking a cell and check the type of contents. It may help a lot. "
   ]
  },
  {
   "cell_type": "markdown",
   "metadata": {},
   "source": [
    "### Broadcasting in Google sheets but not in EXCEL \n",
    "The formula\n",
    "=PRODUCT(1+D3:D62) will not add 1 to all the cells in the range D3:D62 and then multiplying. In other words, no broadcasting. \n",
    "\n",
    "In Google formula, it is OK if we use ARRAYFORMULA() to wrap the above formula. However, this does not work in EXCEL. \n"
   ]
  },
  {
   "cell_type": "markdown",
   "metadata": {},
   "source": [
    "### Problems in calculating volatility\n",
    "\n",
    "=SQRT(SUM((D3:D62-AVERAGE(D3:D62))^2)/(COUNT(D3:D62)-1)) \n",
    "\n",
    "This formula will run in Google sheets but will give wrong results.  If we wrap it with =arrayformula(), then it will work in Google sheets. \n",
    "\n",
    "However, it still does not work in EXCEL. One reason is that it does not broadcasting in EXCEL [in Google sheets it does broadcasting with the help of arrayformula()].  The other reason is from the following:   \n",
    "In EXCEL, the formula  '= sum(D3:D62)^2' will give same result when we executing it in any cell.   This formula is very different from '=sum((D3:D62)^2)', and this later formula will give different results  when excecuting in different cells.  It seems at least the current EXCEL version does not support the above syntax.  Even in Google sheets, this syntax will give different results  with and without using the =arrayformula(). \n",
    "\n",
    "In either EXCEL or google sheets, we can use \"=stdev()\" to calculate volatility (not using \"var\" which calculate variance, square of stdev).   In EXCEL or google sheet, if we want to calcuate volatility from lower level, I may add another column to store the square of D3:D62 values, and then sum this column, in order to avoid the error mentioned before. \n",
    "\n",
    "Excel or google sheets calculation can be very dangerous as we don't know the  details on how the calculations are made.  So always checking carefully. "
   ]
  },
  {
   "cell_type": "code",
   "execution_count": null,
   "metadata": {},
   "outputs": [],
   "source": []
  }
 ],
 "metadata": {
  "kernelspec": {
   "display_name": "Python 3",
   "language": "python",
   "name": "python3"
  },
  "language_info": {
   "codemirror_mode": {
    "name": "ipython",
    "version": 3
   },
   "file_extension": ".py",
   "mimetype": "text/x-python",
   "name": "python",
   "nbconvert_exporter": "python",
   "pygments_lexer": "ipython3",
   "version": "3.6.4"
  }
 },
 "nbformat": 4,
 "nbformat_minor": 2
}
