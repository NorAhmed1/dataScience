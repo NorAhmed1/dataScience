{
 "cells": [
  {
   "cell_type": "markdown",
   "metadata": {},
   "source": [
    "## Introduction to Pivot Tables for Google Sheets"
   ]
  },
  {
   "cell_type": "markdown",
   "metadata": {},
   "source": [
    "* Pivot is almost the EXCEL/spreadsheet equivalent of GROUP BY in SQL except some small difference. Now in SQL and Pandas, there is also PIVOT operations. See details in the notes about Pandas. After a good understanding of GROUP BY, pivoting, pivot_table, and even contingency table there, it should be straightforward to understand the following notes about pivot table in EXCEL. \n",
    "\n",
    "* Usually, the same operation, e.g. the pivoting here in EXCEL/spreads, can be done in different softwares such as SQL, Pandas, and EXCEL. So we may focus on being familiar one of them. If encountering a problem in spreadsheet which is not familiar with, one can easily export tables in EXCEL to csv files and import them into Pandas to do everything. However, the pivot table in EXCEL seems more pretty. "
   ]
  },
  {
   "cell_type": "markdown",
   "metadata": {},
   "source": [
    "### Create a pivot table\n",
    "In Google spreadsheets:  \n",
    "Build a pivot table from the dataset to the right.  \n",
    "Click anywhere within the dataset.    \n",
    "Click on the **Data tab** on the ribbon, and then select Pivot Table from the dropdown that appears. \n",
    "\n",
    "In EXCEL:  \n",
    "Select the table or cells (including column headers) containing the data you want to use. ...  \n",
    "From the **Insert tab**, click the PivotTable command or the icon....  \n",
    "The Create PivotTable dialog box will appear. ...  \n",
    "A blank PivotTable and Field List will appear on a new worksheet.  \n",
    "\n",
    "One can import Google sheet to EXCEL or verse versa. "
   ]
  },
  {
   "cell_type": "markdown",
   "metadata": {},
   "source": [
    "### Create a pivot table pt 2\n",
    "Let's try another one. This time there is a missing row and you'll need to select the dataset first.\n",
    " \n",
    "Select the entire dataset, from A1 through F11  \n",
    "Then click on Data on the ribbon, and choose Pivot Table.  "
   ]
  },
  {
   "cell_type": "markdown",
   "metadata": {},
   "source": [
    "### Create a pivot table pt 3\n",
    "One more. This time the dataset has multiple empty cells randomly dispersed throughout.  \n",
    " \n",
    "Click anywhere within the dataset, and create a pivot table.  \n",
    "Even though there is missing data, there aren't any completely empty rows or columns. So the pivot table should select the full range automatically.  "
   ]
  },
  {
   "cell_type": "markdown",
   "metadata": {},
   "source": [
    "### Select rows\n",
    "* Select one of **categorical** variables as Row. \n",
    "\n",
    "* Populate our pivot table by selecting the Row Labels. On the right, you'll find the blank pivot table that was created in the previous exercise, containing the Top 10 companies by Revenue for 2017.\n",
    "\n",
    "* Populate the Rows by selecting among the following categories: Name, Headquarters, and Industry.\n",
    "\n",
    "* Select Add in the pivot table editor next to the Rows section, and choose Name; this will list the name of each company in the dataset.\n",
    "\n",
    "* Now click the X in the upper right section of the Name box in the pivot table editor, this will remove the names.\n",
    "\n",
    "* Now select Add and choose Headquarters, select Add again, and choose Industry.\n"
   ]
  },
  {
   "cell_type": "markdown",
   "metadata": {},
   "source": [
    "### Select columns\n",
    "This is similar to the row selection. "
   ]
  },
  {
   "cell_type": "markdown",
   "metadata": {},
   "source": [
    "### Rearrange rows and columns\n",
    "Once you have selected Row and Column Labels, you can further finetune your Pivot Table by rearranging them.\n",
    "\n",
    "To do this, all you need to do is Click and Drag the Labels, and place them where you want them to go.\n",
    "\n",
    "Drag Industry into the Rows section, and place it above Name in the Pivot Table on the right."
   ]
  },
  {
   "cell_type": "markdown",
   "metadata": {},
   "source": [
    "### Selecting values\n",
    "The next step is to select the Values; which will populate the body of the pivot table.\n",
    "\n",
    "Click on the Add button in the Values section in order to choose the field that you want added to the pivot table.\n",
    "\n",
    "The pivot table will then perform a calculation, such as SUM or COUNT on your selected value, and it will populate the pivot table with the result of that calculation.  \n",
    "\n",
    "To remove the the value, click the X in the top right corner of the Profit box.  \n",
    "Now select Revenue in the Values section.\n"
   ]
  },
  {
   "cell_type": "markdown",
   "metadata": {},
   "source": [
    "### Selecting multiple values\n",
    "You can also select multiple values at the same time in order to see more data at once. The pivot table will then show each value separately.  \n",
    "\n",
    "You can rearrange the values using the same Click and Drag method as before.\n",
    "\n",
    "Select Profit in the Values section.  \n",
    "Then select Revenue in the Values section.  \n",
    "Now move Revenue above Profit.  \n",
    "\n"
   ]
  },
  {
   "cell_type": "markdown",
   "metadata": {},
   "source": [
    "### Pivot table basics\n",
    "What are the primary selections you will need to make when building your pivot table?  \n",
    "ANSWER THE QUESTION\n",
    "\n",
    "1. Height, Width, and Depth\n",
    "\n",
    "2. Row Labels, Column Labels, and Values\n",
    "\n",
    "3. Format, Function, and Calculation\n",
    "\n",
    "Answer 2"
   ]
  },
  {
   "cell_type": "markdown",
   "metadata": {},
   "source": [
    "## Behind the Scenes of the Pivot Table"
   ]
  },
  {
   "cell_type": "markdown",
   "metadata": {},
   "source": [
    "### What does a pivot table do?\n",
    "Which answer best describes what a pivot table does?\n",
    "\n",
    "1. It takes a dataset of any size, and allows you to build custom summaries of the data in an easy-to-manage table\n",
    "\n",
    "2. It converts your original data into a pre-defined format which you cannot adjust\n",
    "\n",
    "3. It subtotals your data only\n",
    "\n",
    "Answer: 1. "
   ]
  },
  {
   "cell_type": "markdown",
   "metadata": {},
   "source": [
    "### Selecting filters\n",
    "Now we have the body and layout of a pivot table, let's start organizing the data.\n",
    "\n",
    "One option is to filter the data. You can do this by selecting a field in the Filter section of the pivot table editor.\n",
    "\n",
    "This will then give you the option to filter based on the contents of that field.\n",
    "\n",
    "Click on the Add button in the Filters section and select Month.   \n",
    "Once the Month box appears, you can then click the dropdown box that appears, and select an individual month. This time, select January."
   ]
  },
  {
   "cell_type": "markdown",
   "metadata": {},
   "source": [
    "### Filtering by using a string\n",
    "Sometimes you will need to select multiple entries within the Filter, which you can do by clicking each selection individually.\n",
    "\n",
    "However; this can become time-consuming if there are many items to scroll through, such as this example which contains a list of 50 cities.\n",
    "\n",
    "There is a shortcut to save you some time though, as you can type in a text-string, and select all of the entries that contain that string. For instance, if you want to select all of the cities in California, you can type \"Cali\" in the filter, and it will return only those items that contain that string. \n",
    "\n",
    "Click on the Add button in the Filters section and select City.  \n",
    "Once the City box appears, you will need to clear all of the selections, then select only the cities in California.  "
   ]
  },
  {
   "cell_type": "markdown",
   "metadata": {},
   "source": [
    "### Filtering on min/max values  \n",
    "Even though filters are often used to select different groups of items, you can also filter on numerical values as well. In this example you will select the highest and lowest values in order to determine the extreme outliers of the dataset.  \n",
    "\n",
    "In the Filters section, select the two highest and two lowest values.  "
   ]
  },
  {
   "cell_type": "markdown",
   "metadata": {},
   "source": [
    "### Filtering on values  \n",
    "Let's try another example. This time you'll need to find the cities that receive the most days of rainfall in a month.  \n",
    "\n",
    "In the Filters section, select Days and then filter it to only show values of 20 or higher.  "
   ]
  },
  {
   "cell_type": "markdown",
   "metadata": {},
   "source": [
    "### Building a complete pivot table\n",
    "You have done all of the steps individually, now it's time to put them all together and build a complete Pivot Table from scratch.\n",
    "\n",
    "Build a pivot table that shows the rainfall by month in each city.\n",
    "\n",
    "In the Rows section, select City and then select Month\n",
    "In the Values section, select Millimetres\n"
   ]
  },
  {
   "cell_type": "markdown",
   "metadata": {},
   "source": [
    "### Building a complete pivot table pt 2\n",
    "One of the fields in the dataset is the number of days it rained in a given month and city. Build a pivot table that shows the frequency of each value (number of raindays), and how often each value occurred in each month.\n",
    "\n",
    "In the Rows section, select Days  \n",
    "In the Columns section, select Month  \n",
    "In the Values section, select City  "
   ]
  },
  {
   "cell_type": "markdown",
   "metadata": {},
   "source": [
    "### Building a complete pivot table pt 3\n",
    "Build a Pivot Table that shows the number of days and inches of rain for each city. Create a filter that allows you to filter by month, and filter the table to only show January.\n",
    "\n",
    "In the Rows section, select City\n",
    "In the Values section, select Days and Inches\n",
    "In the Filters section, select Month and then choose January"
   ]
  },
  {
   "cell_type": "markdown",
   "metadata": {},
   "source": [
    "## Advanced Options"
   ]
  },
  {
   "cell_type": "markdown",
   "metadata": {},
   "source": [
    "### Counting text values\n",
    "You just saw several ways to count data in a pivot table. In this example you will need to count how many films were released in each year.\n",
    "\n",
    "In order to do this, you'll need to use the following fields: Release Year and Title\n",
    "\n",
    "Add Release Year to the Rows section to list all of the years.  \n",
    "Add Title to the Values section, and select the proper counting method.  \n",
    "\n",
    "**using COUNTA to count text values**  "
   ]
  },
  {
   "cell_type": "markdown",
   "metadata": {},
   "source": [
    "### Counting numerical values\n",
    "This time we want to count how many films of each language made any amount of Gross Revenue.\n",
    "\n",
    "You'll need to find a way to distinguish the films by language, and then count how many have a numerical value for Gross Revenue.\n",
    "\n",
    "Add Language to the Rows section to list all of the languages.  \n",
    "Add Gross to the Values section, and select the proper counting method. Several methods may work, but in this case we want to use the method that counts numerical values.  \n",
    "\n",
    "**using COUNT to count numerical values**  "
   ]
  },
  {
   "cell_type": "markdown",
   "metadata": {},
   "source": [
    "### Minimum and maximum values\n",
    "In this example, you'll need to find the Minimum and Maximum Budgets for films in each country.\n",
    "\n",
    "You'll need to add Budget to the Values section twice, with the first one showing the minimum value, and the second one showing the maximum value.\n",
    "\n",
    "Add Country to the Rows section to list all of the countries.  \n",
    "Add Budget to the Values section twice, and select the proper calculations. Make sure that the minimum value appears first, followed by the maximum value."
   ]
  },
  {
   "cell_type": "markdown",
   "metadata": {},
   "source": [
    "### Average and median\n",
    "You'll need to find the Average and Median values for Gross Revenue each year.\n",
    "\n",
    "You'll need to add Gross to the Values section twice, with the first one showing the average value, and the second one showing the median value.\n",
    "\n",
    "Add Release Year to the Rows section to list all of the years.  \n",
    "Add Gross to the Values section twice, and select the proper calculations."
   ]
  },
  {
   "cell_type": "markdown",
   "metadata": {},
   "source": [
    "### What can be done with a calculated field\n",
    "Which answer best describes what a Calculated Field does?\n",
    "\n",
    "1. It allows you to input additional entries which are added as new rows into your dataset\n",
    "\n",
    "2. It re-calculates your original data based on the calculation you select; overwriting the original data\n",
    "\n",
    "3. It allows you to add additional fields to your pivot table, by performing simple mathematical functions on the existing data\n",
    "\n",
    "Answer: 3"
   ]
  },
  {
   "cell_type": "markdown",
   "metadata": {},
   "source": [
    "### Create a calculated field\n",
    "In this example, you'll need to calculate the profit by year. The pivot table is already partially built, showing the Gross Revenue and Budget for each year. You'll need to add the calculated field.\n",
    "INSTRUCTIONS\n",
    "Create a Calculated Field that will calculate the Profit for each year; Gross minus Budget.  \n",
    "\n",
    "**Note the calculated Field here is from \"VALUES\" not from ADD Column part. **  "
   ]
  },
  {
   "cell_type": "markdown",
   "metadata": {},
   "source": [
    "### Percentage of rows\n",
    "Let's look at a selection of films released in various languages over several years. You'll need to calculate the percentage of Gross Revenue that can be attributed to a certain language in each year. For instance, in 2010 there were films released in French, Hindi, and Spanish, totalling `$30M` of Gross Revenue. What percentage of that `$30M` can be attributed to each language.\n",
    "\n",
    "You will not need to add any additional fields to the pivot table editor for this exercise.\n",
    "\n",
    "INSTRUCTIONS  \n",
    "Modify the options for Gross so that the data in the pivot table is shown as percentages for each year. (Each year should add up to 100%). You may need to change the number format to show the data as percentages."
   ]
  },
  {
   "cell_type": "markdown",
   "metadata": {},
   "source": [
    "### What does drilling down do?\n",
    "If you were to double-click on cell B4 what would happen?\n",
    "\n",
    "1. You would be allowed to manually overwrite the data in that cell of the pivot table\n",
    "\n",
    "2. A new tab would open which contains a sub-selection of the original dataset which corresponds to the number you double-clicked\n",
    "\n",
    "3. The pivot table editor would open, allowing you to create a calculated field based on that category\n",
    "\n",
    "Answer 2 "
   ]
  },
  {
   "cell_type": "markdown",
   "metadata": {},
   "source": [
    "## Editing Data and Troubleshooting"
   ]
  },
  {
   "cell_type": "markdown",
   "metadata": {},
   "source": [
    "### Changing the source data\n",
    "This pivot table has an error in the data. One of the entries in the Data Source has been listed as 2020 by mistake.\n",
    "Which of the solutions below will correct the pivot table?\n",
    "\n",
    "1. Manually delete the value in cell E3 of the pivot table, by selecting that cell and clicking Delete\n",
    "\n",
    "2. Go to the Data Source tab, and modify cell A7 so that it reads 2017\n",
    "\n",
    "3. Add a Filter to your pivot table, and filter out the year 2020\n",
    "\n",
    "Answer 2 "
   ]
  },
  {
   "cell_type": "markdown",
   "metadata": {},
   "source": [
    "### Correct the dataset\n",
    "This dataset has inconsistent labels. One of the countries was listed as \"United States\", instead of \"USA\". Let's fix it.\n",
    "\n",
    "Find the inconsistent entry of \"United States\"  \n",
    "Change it to \"USA\" so that it will be consistent with the other entries  "
   ]
  },
  {
   "cell_type": "markdown",
   "metadata": {},
   "source": [
    "### Correcting Inconsistent Source Data\n",
    "This pivot table has some data that is classified incorrectly. The pivot table shows a category for Automotive and another category for Automobiles. This is an error, as both categories should be combined into one.\n",
    "Which of the solutions below will correct the pivot table?\n",
    "\n",
    "\n",
    "1. Go to the Data Source tab, and use Ctrl+F to find where Automobiles is listed. Change this cell to Automotive.\n",
    "\n",
    "2. Create a Calculated Field to add both categories together.\n",
    "\n",
    "3. Add a Filter to your pivot table, and filter out the category Automobiles\n"
   ]
  },
  {
   "cell_type": "markdown",
   "metadata": {},
   "source": [
    "### Adding data\n",
    "This pivot table is missing some data. Exxon Mobil is blank for 2015. Let's add this data to our pivot table.\n",
    "Which of the solutions below will correct the pivot table?\n",
    "\n",
    "\n",
    "1. Go to the Data Source tab and find the missing data in row 34. Copy & Paste this data into row 31. The Pivot Table will automatically update.\n",
    "\n",
    "2. Go to the Data Source tab and find the missing data in row 34. Copy & Paste this data into row 31. Then go back to the Pivot Table Editor, and update the source to show 'Data Source'!A1:F31.\n",
    "\n",
    "3. Go to cell B6 in the Pivot Table, and enter a formula which links back to the Data Source tab.\n",
    "\n",
    "Answer: 2.  \n",
    "\n",
    "Note this seems only true for Google sheet but not for Microsoft EXCEL. "
   ]
  },
  {
   "cell_type": "markdown",
   "metadata": {},
   "source": [
    "### Finding Missing Data in a Dataset\n",
    "If you suspect that your dataset may have missing data, what is one possible way to check to see if this is the case?\n",
    "\n",
    "1. Use the SUM formula in a row below your dataset, and see if any errors occur.\n",
    "\n",
    "2. Use the Control+F function to search for \"null\" cells.\n",
    "\n",
    "3. Use the COUNTA formula in a row below your dataset, and see if all of the columns have the same number of entries"
   ]
  },
  {
   "cell_type": "markdown",
   "metadata": {},
   "source": [
    "### Find missing data within this dataset\n",
    "This dataset has one blank cell. You'll need to find the blank cell to determine if this is acceptable or not.\n",
    "\n",
    "One way to find the blank cell, is to use the COUNTA formula. That formula has been added to Column A already. You'll need to Copy & Paste this formula across all of the columns in order to identify which column is missing data.\n",
    "\n",
    "INSTRUCTIONS\n",
    "Copy the COUNTA formula in cell A33, and Paste it across B33 through F33\n",
    "Use this to find the column with the discrepancy. Once you locate the blank cell, you can fill it in with the correct value, which is 24.1.\n",
    "\n",
    "**The above is a very simple way to finding whether there are missing data in a dataset**."
   ]
  },
  {
   "cell_type": "markdown",
   "metadata": {},
   "source": [
    "### Types of Categories\n",
    "The two primary types of fields in a dataset are Descriptions and Measurements. Which of the following are examples of Descriptions?\n",
    "\n",
    "\n",
    "1. Revenue, Expenses, Profit\n",
    "\n",
    "2. Location, Year, Category\n",
    "\n",
    "3. Inches of Rainfall, Days of Rainfall\n",
    "\n",
    "Answer 2"
   ]
  },
  {
   "cell_type": "markdown",
   "metadata": {},
   "source": [
    "### Alternatives to Pivot Tables\n",
    "Pivot Tables may not always be the best solution. If you have a small dataset, which of the following may be a good alternative for you to consider?\n",
    "\n",
    "1. Sorting, Filtering, Subtotaling\n",
    "\n",
    "2. VLookups\n",
    "\n",
    "3. Modifying the data\n",
    "\n",
    "Answer: 1"
   ]
  }
 ],
 "metadata": {
  "kernelspec": {
   "display_name": "Python 3",
   "language": "python",
   "name": "python3"
  },
  "language_info": {
   "codemirror_mode": {
    "name": "ipython",
    "version": 3
   },
   "file_extension": ".py",
   "mimetype": "text/x-python",
   "name": "python",
   "nbconvert_exporter": "python",
   "pygments_lexer": "ipython3",
   "version": "3.6.4"
  }
 },
 "nbformat": 4,
 "nbformat_minor": 2
}
