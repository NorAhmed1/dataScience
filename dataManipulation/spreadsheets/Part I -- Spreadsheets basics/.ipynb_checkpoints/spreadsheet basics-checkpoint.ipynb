{
 "cells": [
  {
   "cell_type": "markdown",
   "metadata": {},
   "source": [
    "## Getting started"
   ]
  },
  {
   "cell_type": "markdown",
   "metadata": {},
   "source": [
    "### Ranges \n",
    "A range is a rectangular group of cells. We define ranges from the top left to the bottom right. For example A1:B2. "
   ]
  },
  {
   "cell_type": "markdown",
   "metadata": {},
   "source": [
    "### Formulas\n",
    "In B2, add 29 to 121. You should use the + operator. **It's really important here to put the = in front of the cell**.  \n",
    "=29+121"
   ]
  },
  {
   "cell_type": "markdown",
   "metadata": {},
   "source": [
    "### Exponents and parentheses\n",
    "= (7 + 2)^2 - 16 "
   ]
  },
  {
   "cell_type": "markdown",
   "metadata": {},
   "source": [
    "### Percentage\n",
    "= 4*21% \n"
   ]
  },
  {
   "cell_type": "markdown",
   "metadata": {},
   "source": [
    "### Comparison operators\n",
    "= 0.4 < 1 will show a value of FALSE"
   ]
  },
  {
   "cell_type": "markdown",
   "metadata": {},
   "source": [
    "### Data types: text and numbers\n",
    "=\"Eggs\"+1 will give an error.  Hover over the cell to see the details.  \n",
    "\n",
    "Fill in '= 0.40 * 21% in F2, **mind the ' in front**. Spaces are important here. By using the single quote, you ensure the formula will not be calculated.  \n",
    "\n",
    "plain text, will be used if there's no other type recognized. You can force this with ', e.g.: 'text, or '2. Aligned to the left by default.  "
   ]
  },
  {
   "cell_type": "markdown",
   "metadata": {},
   "source": [
    "### Data types: currency and date\n",
    "Google Sheets tries to interpret the correct data type by default. For example, if you start a cell with $, it will be interpreted as a currency. Sometimes, it might be necessary to manually change a data type. You do this by selecting the cells you want to change and click on Format > Number in the menu bar.  \n",
    "\n",
    "Select the values in D2:D5. These currently have type date. Using the format menu, change the format to use / instead of - to separate the date parts. Use the 'More date and time formats...' option in 'Format > Number > More formats'.  \n",
    "\n",
    "Select the values in E2:E5. They currently have type currency, using the dollar $ sign. Change the format of these values to currency (rounded) You can use the format menu, or any other shortcuts you'd like."
   ]
  },
  {
   "cell_type": "markdown",
   "metadata": {},
   "source": [
    "### Data types: logic\n",
    "When you enter true or false in a cell, it's also recognized as a logical. Logicals are case insensitive, but Google Sheets will replace the value you entered by the capitalized logical: TRUE or FALSE.  \n",
    "\n",
    "=true <> false, fill a cell with this will give a TRUE. <> is != in C++. "
   ]
  },
  {
   "cell_type": "markdown",
   "metadata": {},
   "source": [
    "## References\n",
    "* Reference and absolute reference\n",
    "* Auto filling\n",
    "* Reactivity"
   ]
  },
  {
   "cell_type": "markdown",
   "metadata": {},
   "source": [
    "### Cell references\n",
    "For example, you could make a reference to cell A1 in another cell: = A1. The cell will then always be the same as what's in A1. As cell references are case insensitive, = a1 would be fine as well.\n",
    "\n",
    "In D2 cell, write = C2  \n",
    "In E2 cell, write = D2  \n",
    "If C2 is changed to 20, then D2 and E2 will be changed to 20 automatically.  "
   ]
  },
  {
   "cell_type": "markdown",
   "metadata": {},
   "source": [
    "### Circular references\n",
    "But what happens when the referencing cell and the referenced cell are the same? In other words, what happens if a cell references itself? It will have problems. "
   ]
  },
  {
   "cell_type": "markdown",
   "metadata": {},
   "source": [
    "### Copying references\n",
    "Referencing becomes especially useful if you start copying the references around. When you copy formulas containing references to neighbouring cells, the references will shift along.\n",
    "\n",
    "Assume you have = A1 in the cell with address B1. If you copy this cell to B2, the reference will change to = A2.\n",
    "\n",
    "To copy a cell to neighbouring cells, select the cell and move your mouse to the lower right corner. **The cursor should change to a \"+\"-sign. Drag and drop to where you want to copy.**\n"
   ]
  },
  {
   "cell_type": "markdown",
   "metadata": {},
   "source": [
    "### Copying horizontally\n",
    "Just like you can copy cells vertically, you can just as well copy cells horizontally. Once again, when copying references, they will shift along. This time they will change columns.\n"
   ]
  },
  {
   "cell_type": "markdown",
   "metadata": {},
   "source": [
    "### Copying columns\n",
    "Copy columns of references all at once!\n",
    "\n",
    "Start by filling in a reference to B2 in D2. Make sure to start the formula with a =.  \n",
    "\n",
    "Copy D2 down to D11 vertically by dragging it downwards.  \n",
    "\n",
    "Make sure D2:D11 is selected, copy this column one to the right to E2:E11, also by dragging.  "
   ]
  },
  {
   "cell_type": "markdown",
   "metadata": {},
   "source": [
    "### Mathematical operators and references\n",
    "Do calculations with references.\n",
    "\n",
    "Fill in the land area of China in miles in D2. To convert square kilometers to square miles, divide the values by 2.59. Use a reference to C2. That is: = C2/2.59\n",
    "Use the copying technique you learned in the previous exercises to fill down the square miles in D2:D11.  "
   ]
  },
  {
   "cell_type": "markdown",
   "metadata": {},
   "source": [
    "### Percentages and references\n",
    "First, fill in = B2 * 1.12% in D2. Then find the lower right corner to copy the values until D11 by dragging.   \n",
    "Fill in = B2 / C2 in E2, then use your copy skills to fill out the columns until E11."
   ]
  },
  {
   "cell_type": "markdown",
   "metadata": {},
   "source": [
    "### Comparison operators and references\n",
    "In F2:F11, fill in a column which is TRUE each time the density is bigger than the world average and FALSE otherwise. The world average is 51. That is, fill with: =E2 > 51\n",
    "\n",
    "In G2:G11, fill in a column which is TRUE each time the continent is equal to \"Asia\" and FALSE otherwise. That is fill with: =D2=\"Asia\""
   ]
  },
  {
   "cell_type": "markdown",
   "metadata": {},
   "source": [
    "### Absolute references\n",
    "If fill one cell with: = B2/B12 * 100, and they copy by dragging down, and then we will see B3/B13 * 100, B4/B14 * 100,... However, B13, B14, ... are not existed. So there will be error. \n",
    "\n",
    "We actually want B12 not changed in all the cells. So adding a `$` before B makes column B absolute (not changing when copying). Then adding a `$` before 12 makes row 12 absolute. That is, we fill the first cell with `=B2/$B$12 * 100`. When dragging down, we will have `B2/B12*100, B3/B12*100, B4/B12*100,...`\n"
   ]
  },
  {
   "cell_type": "markdown",
   "metadata": {},
   "source": [
    "### Absolute references: row\n",
    "\n",
    "Fill D2 with `=C2/C$12 * 100.` The `$` only makes the row absolute. "
   ]
  },
  {
   "cell_type": "markdown",
   "metadata": {},
   "source": [
    "### Absolute references: column\n",
    "\n",
    "Fill D2 with `=C2/$`C12` * 100`. The `$` only makes the row absolute. "
   ]
  },
  {
   "cell_type": "code",
   "execution_count": null,
   "metadata": {},
   "outputs": [],
   "source": []
  }
 ],
 "metadata": {
  "kernelspec": {
   "display_name": "Python 3",
   "language": "python",
   "name": "python3"
  },
  "language_info": {
   "codemirror_mode": {
    "name": "ipython",
    "version": 3
   },
   "file_extension": ".py",
   "mimetype": "text/x-python",
   "name": "python",
   "nbconvert_exporter": "python",
   "pygments_lexer": "ipython3",
   "version": "3.6.4"
  }
 },
 "nbformat": 4,
 "nbformat_minor": 2
}
