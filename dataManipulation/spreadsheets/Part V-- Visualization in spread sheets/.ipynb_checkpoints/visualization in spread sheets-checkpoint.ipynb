{
 "cells": [
  {
   "cell_type": "markdown",
   "metadata": {},
   "source": [
    "## Course Description\n",
    "A picture can tell a thousand words - but only if you use the right picture! This course teaches you the fundamentals of data visualization with Google Sheets. You'll learn how to create common chart types like bar charts, histograms, and scatter charts, as well as more advanced types, such as sparkline and candlestick charts. You will look at how to prepare your data and use Data Validation and VLookup formulas to target specific data to chart. You'll learn how to use Conditional Formatting to apply a format to a cell or a range of cells based on certain criteria, and finally, how to create a dashboard showing plots and data together. Along the way, you'll use data from the Olympics, sharks attacks, and Marine Technology from the ASX.\n"
   ]
  },
  {
   "cell_type": "markdown",
   "metadata": {},
   "source": [
    "### Business Intelligence and Using Dashboards\n",
    "Learn about business intelligence and dashboards for analyzing information in todays data-driven world. Create a basic dashboard and master setting up your data to get the most out of it.\n"
   ]
  },
  {
   "cell_type": "markdown",
   "metadata": {},
   "source": [
    "### Using data validation controls to pick from a list\n",
    "In the dashboard example, you are going to pick sequential numbers from a list to show countries meal rankings.\n",
    "INSTRUCTIONS\n",
    "Change the rank using the drop-down menu, so that the ranks are displayed in order for countries 1 through 5.\n",
    "\n",
    "See chapter1_1"
   ]
  },
  {
   "cell_type": "markdown",
   "metadata": {},
   "source": [
    "### Using conditional formatting on a dashboard\n",
    "Conditional formatting is another functionality that completed dashboards can contain that allows users to modify the visual display on the dashboard. Here, you will explore the conditional formatting on the same dashboard for the 2016 Olympic Games in Brazil.\n",
    "INSTRUCTIONS\n",
    "Highlight Gold, Silver, and Bronze figures and change the Conditional Formatting rule to Greater than or equal to number to 25.\n",
    "\n",
    "HINT\n",
    "The Gold, Silver, and Bronze figures are in F3:H12.\n",
    "Conditional formatting is found by selecting Format then Conditional formatting."
   ]
  },
  {
   "cell_type": "markdown",
   "metadata": {},
   "source": [
    "### Creating a column chart from your data\n",
    "In the dataset you'll find the medal statistics by country from the 2016 Olympic Games held in Brazil in order of ranking. Let's use the data to create a column chart to show the medal tallies of the first 3 ranked countries.\n",
    "\n",
    "INSTRUCTIONS\n",
    "Highlight Gold, Silver, and Bronze medal stats for the first three ranked countries, create a column chart and move it to the right of the data.\n",
    "\n",
    "See chapter1_2  \n",
    "\n",
    "Need select both data and the country names to the left.  May edit the type of chart as the default type might not be the column chart. "
   ]
  },
  {
   "cell_type": "markdown",
   "metadata": {},
   "source": [
    "### Setting up your worksheet with formulas of reference\n",
    "In this next task, you will showcase only the data you want to chart using formulas of reference to extract the top 3 countries medal tallies from the dataset and show them in the Dashboard.\n",
    "INSTRUCTIONS\n",
    "Create a formula of reference in cell A1 that shows the contents of A1 in the dataset.\n",
    "Copy the calculation down and across the sheet to show all data for the first 3 ranked countries.\n",
    "Make sure column B is wide enough to see the entire country name.\n",
    "\n",
    "See chapter1_3   \n",
    "\n",
    "=Olympics!A1  Write this in sheet 1 and they drag both vertically and horizontally. Note Olympics is the name of another sheet. "
   ]
  },
  {
   "cell_type": "markdown",
   "metadata": {},
   "source": [
    "### Charting the medal statistics\n",
    "Now that you have only the data you want to chart in this task you will create a column chart and display it underneath your extracted data.\n",
    "INSTRUCTIONS\n",
    "Create a column chart showing the country, Gold, Silver, and Bronze stats.\n",
    "Position the chart underneath the data.\n",
    "\n",
    "Just plot the data in the selected data in previous cell.  "
   ]
  },
  {
   "cell_type": "markdown",
   "metadata": {},
   "source": [
    "### Getting started\n",
    "Setting up your data in the correct way in the beginning will save you lots of time and effort later on. Here, you will set up your data so you have an efficient spreadsheet to work with as you create your dashboard.\n",
    "INSTRUCTIONS\n",
    "Remove all rows from the dataset that are empty.  \n",
    "\n",
    "You can select multiple rows at once by holding down the Ctrl or command key."
   ]
  },
  {
   "cell_type": "markdown",
   "metadata": {},
   "source": [
    "### Format dates and numbers\n",
    "To make your data clear at a glance, in this task you will apply a little bit of formatting to your data.\n",
    "INSTRUCTIONS\n",
    "Format the date so that it shows the day, month in full and year and widen the column so you can see it all.\n",
    "Ensure all numbers have 2 decimal places.\n",
    "\n",
    "HINT\n",
    "To format the date go to Format then Number. Then choose ....\n",
    "To increase decimals, use the toolbar icon. Select all the data values, and then click the relevant icon in toolbar.  "
   ]
  },
  {
   "cell_type": "markdown",
   "metadata": {},
   "source": [
    "## Efficient Column Charts\n",
    "\n",
    "Create and format a column chart to showcase data and learn a few smart tricks along the way. Look at using named ranges to refer to cells in your worksheet, making them user-friendly and easy to work with.\n",
    "\n"
   ]
  },
  {
   "cell_type": "markdown",
   "metadata": {},
   "source": [
    "### Creating a column chart for your dashboard\n",
    "In this chapter, you will start to put together your own dashboard.\n",
    "\n",
    "Your first step is to create a basic column chart showing fatalities, injured, and uninjured statistics for the states of Australia over the last 100 years.\n",
    "\n",
    "INSTRUCTIONS\n",
    "In A1 use a formula that refers to the heading on your dataset.\n",
    "Select the State column and the Fatal, Injured, and Uninjured statistics, and create a chart.\n",
    "Change the chart to a column chart.\n",
    "\n",
    "See chapter1_4\n",
    "Use the following to refer to the 'Shark Attacks' sheet and the range A1:E1. Note the ! sign.  \n",
    "='Shark Attacks'!A1:E1"
   ]
  },
  {
   "cell_type": "markdown",
   "metadata": {},
   "source": [
    "### Format chart, axis titles and series\n",
    "Your next task is to apply some basic formatting to the same chart to jazz it up a bit and make it a bit more pleasing to the readers eye.\n",
    "INSTRUCTIONS\n",
    "Alter the Title of your chart to Fatal, Injured and Uninjured Statistics make the color black and bold it.\n",
    "Change the series colors to Fatal - red, Injured - blue, Uninjured - green.\n",
    "\n",
    "In chart editor -> customize -> Select the drop down arrow next to All series and select each series in turn to change the color. "
   ]
  },
  {
   "cell_type": "markdown",
   "metadata": {},
   "source": [
    "### Removing a series\n",
    "Taking things a little further, in the next task you will manipulate the look of your chart a bit more and remove the Uninjured statistical data.\n",
    "INSTRUCTIONS\n",
    "Remove the Uninjured series from your chart.\n",
    "\n",
    "HINT\n",
    "On the setup tab, click the 3 dots to the right of the series you wish to remove to see this option.  \n",
    "See chapter1_5  "
   ]
  },
  {
   "cell_type": "markdown",
   "metadata": {},
   "source": [
    "### Changing the plotted range\n",
    "Its just as easy to change a range as it is to delete it. For this task, have a go at changing the range of your chart so it now only showcases the top 3 States Fatal satistics.\n",
    "INSTRUCTIONS\n",
    "Change the range of your chart so you are plotting only the fatalites from the 3 states with the highest numbers and change the chart title to Top 3 States Number of Fatalities.\n",
    "\n",
    "Don't forget you can select the range to be charted, or you can type it out. "
   ]
  },
  {
   "cell_type": "markdown",
   "metadata": {},
   "source": [
    "### Using named ranges\n",
    "In this task you are going find an existing range and insert a blank row within the range.\n",
    "INSTRUCTIONS\n",
    "'- Select Data in the menu then Named ranges and click on the SharkStats Named range to see the highlighted range.\n",
    "\n",
    "Insert a blank row after row 1.\n",
    "\n",
    " Did you notice that even though you inserted the blank row, your Named range didn't change? We have just looked at the basic named range in this course, but there are many other types you can use with your data, Remember that named ranges cannot contain spaces, however you can use an underscore to separate words."
   ]
  },
  {
   "cell_type": "markdown",
   "metadata": {},
   "source": [
    "### Summing using a Named range\n",
    "In this task you will remove a blank row and use a Named range in a formula.\n",
    "INSTRUCTIONS\n",
    "Remove the blank row you inserted in the last exercise.\n",
    "In B10 use the named range Total in-lieu of cell references to sum the totals in C10 :E10. \n",
    "Remember that if you create a named range in a sheet, it will still be be viewable and usable in the Named range menu on any sheet within your workbook.\n",
    "\n",
    "=sum(Total) Total is just the equivalent of range c10:E10"
   ]
  },
  {
   "cell_type": "markdown",
   "metadata": {},
   "source": [
    "### Averaging using a Named range\n",
    "In this task you will use a named range within a formula to find an average.\n",
    "INSTRUCTIONS\n",
    "In C11 use the named range Fatalities in-lieu of cell references to average the number of Fatalities.  \n",
    "\n",
    "=average(Fatalities) "
   ]
  },
  {
   "cell_type": "markdown",
   "metadata": {},
   "source": [
    "## Dashboard Controls\n",
    "A dashboard is like a control panel. Look at ways to allow a user to use this control panel to get different results from your dashboard."
   ]
  },
  {
   "cell_type": "markdown",
   "metadata": {},
   "source": [
    "### Setting up your data\n",
    "In this task, you are going to use data from the ASX for a Company that sells shark repellent systems and prepare it for charting. The first step is to tidy up and format the data.\n",
    "INSTRUCTIONS\n",
    "Remove the blank row and standardize your decimal places.\n",
    "Ensure the current date has is has the same format as the dates in column.\n",
    "\n",
    "See chapter1_6  "
   ]
  },
  {
   "cell_type": "markdown",
   "metadata": {},
   "source": [
    "### Format numbers within your dataset\n",
    "In your next task you will edit the numbers in your dataset so that they are all formatted the same way.\n",
    "INSTRUCTIONS\n",
    "Format the numbers in the Volume column so that they all include commas to label thousands.\n",
    "\n",
    "also See chapter1_6  \n"
   ]
  },
  {
   "cell_type": "markdown",
   "metadata": {},
   "source": [
    "### Creating and testing the data validation\n",
    "With your data optimized and your named ranges set up, in this task you will set up a data validation to allow a user to select a date from a list.\n",
    "INSTRUCTIONS\n",
    "Enter in the heading SM8 Smart Marine Systems ASX in A15.\n",
    "Starting in A16, enter in the column headings Date, Open, High, Low and Close.\n",
    "Create a data validation using the named range Dates in A17:26. **Click Data -> Data validation -> cell range is A17:26 -> another range choose the named range 'Dates'**  \n",
    "Ensure the following text is available for those who need help: Select a date from the list to see Opening and Closing prices."
   ]
  },
  {
   "cell_type": "markdown",
   "metadata": {},
   "source": []
  },
  {
   "cell_type": "markdown",
   "metadata": {},
   "source": []
  },
  {
   "cell_type": "markdown",
   "metadata": {},
   "source": []
  },
  {
   "cell_type": "markdown",
   "metadata": {},
   "source": []
  },
  {
   "cell_type": "markdown",
   "metadata": {},
   "source": []
  },
  {
   "cell_type": "markdown",
   "metadata": {},
   "source": []
  },
  {
   "cell_type": "markdown",
   "metadata": {},
   "source": []
  },
  {
   "cell_type": "markdown",
   "metadata": {},
   "source": []
  },
  {
   "cell_type": "markdown",
   "metadata": {},
   "source": []
  },
  {
   "cell_type": "markdown",
   "metadata": {},
   "source": []
  },
  {
   "cell_type": "markdown",
   "metadata": {},
   "source": []
  },
  {
   "cell_type": "markdown",
   "metadata": {},
   "source": []
  },
  {
   "cell_type": "markdown",
   "metadata": {},
   "source": []
  },
  {
   "cell_type": "markdown",
   "metadata": {},
   "source": []
  },
  {
   "cell_type": "markdown",
   "metadata": {},
   "source": []
  },
  {
   "cell_type": "markdown",
   "metadata": {},
   "source": []
  },
  {
   "cell_type": "markdown",
   "metadata": {},
   "source": []
  },
  {
   "cell_type": "markdown",
   "metadata": {},
   "source": []
  },
  {
   "cell_type": "markdown",
   "metadata": {},
   "source": []
  },
  {
   "cell_type": "markdown",
   "metadata": {},
   "source": []
  },
  {
   "cell_type": "markdown",
   "metadata": {},
   "source": []
  },
  {
   "cell_type": "markdown",
   "metadata": {},
   "source": []
  },
  {
   "cell_type": "markdown",
   "metadata": {},
   "source": []
  },
  {
   "cell_type": "markdown",
   "metadata": {},
   "source": []
  },
  {
   "cell_type": "markdown",
   "metadata": {},
   "source": []
  },
  {
   "cell_type": "markdown",
   "metadata": {},
   "source": []
  },
  {
   "cell_type": "markdown",
   "metadata": {},
   "source": []
  },
  {
   "cell_type": "markdown",
   "metadata": {},
   "source": []
  },
  {
   "cell_type": "markdown",
   "metadata": {},
   "source": []
  },
  {
   "cell_type": "markdown",
   "metadata": {},
   "source": []
  },
  {
   "cell_type": "markdown",
   "metadata": {},
   "source": []
  },
  {
   "cell_type": "markdown",
   "metadata": {},
   "source": []
  },
  {
   "cell_type": "markdown",
   "metadata": {},
   "source": []
  },
  {
   "cell_type": "markdown",
   "metadata": {},
   "source": []
  },
  {
   "cell_type": "markdown",
   "metadata": {},
   "source": []
  },
  {
   "cell_type": "markdown",
   "metadata": {},
   "source": []
  },
  {
   "cell_type": "markdown",
   "metadata": {},
   "source": []
  },
  {
   "cell_type": "markdown",
   "metadata": {},
   "source": []
  },
  {
   "cell_type": "markdown",
   "metadata": {},
   "source": []
  },
  {
   "cell_type": "markdown",
   "metadata": {},
   "source": []
  },
  {
   "cell_type": "markdown",
   "metadata": {},
   "source": []
  },
  {
   "cell_type": "markdown",
   "metadata": {},
   "source": []
  },
  {
   "cell_type": "markdown",
   "metadata": {},
   "source": []
  },
  {
   "cell_type": "markdown",
   "metadata": {},
   "source": []
  },
  {
   "cell_type": "markdown",
   "metadata": {},
   "source": []
  },
  {
   "cell_type": "markdown",
   "metadata": {},
   "source": []
  },
  {
   "cell_type": "markdown",
   "metadata": {},
   "source": []
  },
  {
   "cell_type": "markdown",
   "metadata": {},
   "source": []
  },
  {
   "cell_type": "markdown",
   "metadata": {},
   "source": []
  },
  {
   "cell_type": "markdown",
   "metadata": {},
   "source": []
  },
  {
   "cell_type": "markdown",
   "metadata": {},
   "source": []
  },
  {
   "cell_type": "markdown",
   "metadata": {},
   "source": []
  },
  {
   "cell_type": "markdown",
   "metadata": {},
   "source": []
  },
  {
   "cell_type": "markdown",
   "metadata": {},
   "source": []
  },
  {
   "cell_type": "markdown",
   "metadata": {},
   "source": []
  },
  {
   "cell_type": "markdown",
   "metadata": {},
   "source": []
  },
  {
   "cell_type": "markdown",
   "metadata": {},
   "source": []
  },
  {
   "cell_type": "markdown",
   "metadata": {},
   "source": []
  },
  {
   "cell_type": "markdown",
   "metadata": {},
   "source": []
  },
  {
   "cell_type": "markdown",
   "metadata": {},
   "source": []
  }
 ],
 "metadata": {
  "kernelspec": {
   "display_name": "Python 3",
   "language": "python",
   "name": "python3"
  },
  "language_info": {
   "codemirror_mode": {
    "name": "ipython",
    "version": 3
   },
   "file_extension": ".py",
   "mimetype": "text/x-python",
   "name": "python",
   "nbconvert_exporter": "python",
   "pygments_lexer": "ipython3",
   "version": "3.6.4"
  }
 },
 "nbformat": 4,
 "nbformat_minor": 2
}
