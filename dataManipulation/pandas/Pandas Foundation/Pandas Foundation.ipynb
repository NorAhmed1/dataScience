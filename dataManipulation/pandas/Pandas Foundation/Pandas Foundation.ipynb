{
 "cells": [
  {
   "cell_type": "markdown",
   "metadata": {},
   "source": [
    "# Pandas DataFrames\n",
    "\n",
    "## Building DataFrames\n",
    "Pandas DataFrames are the most widely used **in-memory representation** of complex data collections within Python. Here we summarize various ways of reading data to DataFrame."
   ]
  },
  {
   "cell_type": "markdown",
   "metadata": {},
   "source": [
    "### From dictionary to DataFrame"
   ]
  },
  {
   "cell_type": "code",
   "execution_count": null,
   "metadata": {},
   "outputs": [],
   "source": [
    "hello = pd.DataFrame({'e':[1,2,3],'d':['a', 'b', 'c']}) "
   ]
  },
  {
   "cell_type": "markdown",
   "metadata": {},
   "source": [
    "### From numpy array to DataFrame"
   ]
  },
  {
   "cell_type": "code",
   "execution_count": 1,
   "metadata": {},
   "outputs": [],
   "source": [
    "import pandas as pd\n",
    "import numpy as np\n",
    "var1 = np.array([137, 335, 172, 355, 303])\n",
    "\n",
    "var2 = np.array([ 1.84,0.91, 4.104,6.661, 15.285])\n",
    "\n",
    "var3 = np.array([2.89800e+00, 6.87000e-01, 8.32600e+00, 1.58200e+00, 1.10750e+02])\n",
    "\n",
    "dic = {'var1':var1, 'var2':var2,'var3':var3}\n",
    "data = pd.DataFrame(dic)"
   ]
  },
  {
   "cell_type": "markdown",
   "metadata": {},
   "source": [
    "### From lists to DataFrame \n",
    "route map: create DataFrame from dictionary with pd.DataFrame(dict) -> create dictionary from tuple pairs with zip() function. "
   ]
  },
  {
   "cell_type": "code",
   "execution_count": 20,
   "metadata": {},
   "outputs": [
    {
     "name": "stdout",
     "output_type": "stream",
     "text": [
      "          Country  Total\n",
      "0   United States   1118\n",
      "1    Soviet Union    473\n",
      "2  United Kingdom    273\n",
      "[]\n"
     ]
    }
   ],
   "source": [
    "import pandas as pd\n",
    "list_keys = ['Country', 'Total']\n",
    "list_values = [['United States', 'Soviet Union', 'United Kingdom'], [1118, 473, 273]]\n",
    "\n",
    "zipped = zip(list_keys, list_values)\n",
    "# The zip() function in Python 3 and above returns a special zip object, which is essentially \n",
    "# a generator. To disply the generator, convert the zip object to a list, and the print it.\n",
    "\n",
    "#print(list(zipped))\n",
    "\n",
    "data = dict(zipped) \n",
    "df = pd.DataFrame(data)\n",
    "print(df)\n",
    "\n",
    "print(list(zipped)) \n",
    "#Note the print sentence here or earlier will both print an empty list. This is because zipped is a \n",
    "#generator. After tranversing by the dict(),it is in the end of the zipped object. "
   ]
  },
  {
   "cell_type": "markdown",
   "metadata": {},
   "source": [
    "### From pandas Series to DataFrame\n",
    "Convert the Series x to a DataFrame and name the column x"
   ]
  },
  {
   "cell_type": "code",
   "execution_count": null,
   "metadata": {},
   "outputs": [],
   "source": [
    "x = pd.DataFrame(x, columns=['x'])"
   ]
  },
  {
   "cell_type": "markdown",
   "metadata": {},
   "source": [
    "### Building DataFrames with broadcasting"
   ]
  },
  {
   "cell_type": "code",
   "execution_count": 11,
   "metadata": {},
   "outputs": [
    {
     "name": "stdout",
     "output_type": "stream",
     "text": [
      "               city state\n",
      "0           Manheim    PA\n",
      "1      Preston park    PA\n",
      "2       Biglerville    PA\n",
      "3           Indiana    PA\n",
      "4      Curwensville    PA\n",
      "5             Crown    PA\n",
      "6      Harveys lake    PA\n",
      "7   Mineral springs    PA\n",
      "8         Cassville    PA\n",
      "9        Hannastown    PA\n",
      "10        Saltsburg    PA\n",
      "11      Tunkhannock    PA\n",
      "12       Pittsburgh    PA\n",
      "13        Lemasters    PA\n",
      "14       Great bend    PA\n"
     ]
    }
   ],
   "source": [
    "cities = ['Manheim',\n",
    " 'Preston park',\n",
    " 'Biglerville',\n",
    " 'Indiana',\n",
    " 'Curwensville',\n",
    " 'Crown',\n",
    " 'Harveys lake',\n",
    " 'Mineral springs',\n",
    " 'Cassville',\n",
    " 'Hannastown',\n",
    " 'Saltsburg',\n",
    " 'Tunkhannock',\n",
    " 'Pittsburgh',\n",
    " 'Lemasters',\n",
    " 'Great bend']\n",
    "\n",
    "state = 'PA'\n",
    "\n",
    "data = {'state':state, 'city':cities}\n",
    "\n",
    "df = pd.DataFrame(data)\n",
    "\n",
    "print(df)"
   ]
  },
  {
   "cell_type": "markdown",
   "metadata": {},
   "source": [
    "### Reading a flat file"
   ]
  },
  {
   "cell_type": "code",
   "execution_count": null,
   "metadata": {},
   "outputs": [],
   "source": [
    "df1 = pd.read_csv(data_file)\n",
    "new_labels = ['year', 'population']\n",
    "df2 = pd.read_csv(data_file, header=0, names=new_labels) \n",
    "#names can be directly assigned to df2. Or use\n",
    "#df2.columns = new_labels"
   ]
  },
  {
   "cell_type": "code",
   "execution_count": null,
   "metadata": {},
   "outputs": [],
   "source": [
    "df1 = pd.read_csv('messy_stock_data.txt')\n",
    "print(df1.head())\n",
    "\n",
    "df2 = pd.read_csv('messy_stock_data.txt', delimiter=' ', header=3, comment=\"#\")\n",
    "# header = 3. The third row as header\n",
    "print(df2.head())"
   ]
  },
  {
   "cell_type": "markdown",
   "metadata": {},
   "source": [
    "Unlike the above examples we can have one type of separation. The single field in one column also has its own white-space separation. For this case, we need a special read_fwf for handling fixed width separation"
   ]
  },
  {
   "cell_type": "code",
   "execution_count": null,
   "metadata": {},
   "outputs": [],
   "source": [
    "col_specification =[(0, 4), (5, 10), (11, 14), (16,21), (22,27), (28,34), (35,41), (42,47),\n",
    "                      (48,54), (55,90)]\n",
    "df_fuel = pd.read_fwf('fuel.txt', colspecs=col_specification)"
   ]
  },
  {
   "cell_type": "code",
   "execution_count": null,
   "metadata": {},
   "outputs": [],
   "source": [
    "df = pd.read_csv('hello.txt',delim_whitespace=True,index_col=0) \n",
    "#Different length of whitespace\n",
    "\n",
    "df = pd.read_csv('hello.txt',sep = '\\s+', index_col=0) \n",
    "# can achieve the same as the above delim_whitespace = True\n",
    "\n",
    "df = pd.read_csv('iris.txt',delimiter = '\\t', header=None) \n",
    "#Because each header is not continuous. So do this. \n",
    "df.columns=['sepal length (cm)', 'sepal width (cm)' , 'petal length (cm)', \n",
    "            'petal width (cm)', 'species']"
   ]
  },
  {
   "cell_type": "markdown",
   "metadata": {},
   "source": [
    "### Building DataFrame from copied data from web page\n",
    "    ID  impact_force\n",
    "20  A         1.612\n",
    "\n",
    "21  A         0.605\n",
    "\n",
    "22  A         0.327\n",
    "\n",
    "First paste the contents to Excel, and then save it as txt or csv file. Then read in with pd.read_csv.\n",
    "Note it is not necessary to save as .csv. Just a txt tab separated. The key is in read_csv, use sep = '\\s+'. "
   ]
  },
  {
   "cell_type": "markdown",
   "metadata": {},
   "source": [
    "### Write DataFrame to file"
   ]
  },
  {
   "cell_type": "code",
   "execution_count": null,
   "metadata": {},
   "outputs": [],
   "source": [
    "file_clean = 'file_clean'\n",
    "df2.to_csv(file_clean, index=False)\n",
    "df2.to_excel('file_clean.xlsx', index=False)"
   ]
  },
  {
   "cell_type": "markdown",
   "metadata": {},
   "source": [
    "## Exploratory data analysis"
   ]
  },
  {
   "cell_type": "code",
   "execution_count": 25,
   "metadata": {},
   "outputs": [
    {
     "name": "stdout",
     "output_type": "stream",
     "text": [
      "0.8\n",
      "19.0\n",
      "<class 'pandas.core.series.Series'>\n"
     ]
    },
    {
     "data": {
      "image/png": "[encoded data removed]",
      "text/plain": [
       "<matplotlib.figure.Figure at 0x214aabaa198>"
      ]
     },
     "metadata": {},
     "output_type": "display_data"
    }
   ],
   "source": [
    "import pandas as pd\n",
    "import matplotlib.pyplot as plt\n",
    "df = pd.read_csv(\"percent-bachelors-degrees-women-usa.csv\")\n",
    "print(df['Engineering'].min())\n",
    "print(df['Engineering'].max())\n",
    "mean = df.mean(axis='columns')\n",
    "mean.plot()\n",
    "plt.show()"
   ]
  },
  {
   "cell_type": "markdown",
   "metadata": {},
   "source": [
    "### Median vs mean\n",
    "In many data sets, there can be large differences in the mean and median value due to the presence of outliers."
   ]
  },
  {
   "cell_type": "code",
   "execution_count": 17,
   "metadata": {},
   "outputs": [
    {
     "name": "stdout",
     "output_type": "stream",
     "text": [
      "count    1308.000000\n",
      "mean       33.295479\n",
      "std        51.758668\n",
      "min         0.000000\n",
      "25%         7.895800\n",
      "50%        14.454200\n",
      "75%        31.275000\n",
      "max       512.329200\n",
      "Name: fare, dtype: float64\n"
     ]
    },
    {
     "data": {
      "image/png": "[encoded data removed]",
      "text/plain": [
       "<matplotlib.figure.Figure at 0x2851f021cf8>"
      ]
     },
     "metadata": {},
     "output_type": "display_data"
    }
   ],
   "source": [
    "import pandas as pd\n",
    "df = pd.read_csv(\"titanic.csv\")\n",
    "print(df.fare.describe())\n",
    "df.fare.plot(kind='box')\n",
    "plt.show()"
   ]
  },
  {
   "cell_type": "markdown",
   "metadata": {},
   "source": [
    "### Quantiles\n",
    "Compute the 5th and 95th percentiles of life expectancy over the entire dataset. "
   ]
  },
  {
   "cell_type": "code",
   "execution_count": 18,
   "metadata": {},
   "outputs": [
    {
     "name": "stdout",
     "output_type": "stream",
     "text": [
      "208\n",
      "      Unnamed: 0   1800   1801   1802  1803  1804   1805   1806   1807  1808  \\\n",
      "0.05       12.95  25.40  25.30  25.20  25.2  25.2  25.40  25.40  25.40  25.3   \n",
      "0.95      246.05  37.92  37.35  38.37  38.0  38.3  38.37  38.37  38.37  38.0   \n",
      "\n",
      "       ...      2007   2008    2009    2010   2011    2012    2013   2014  \\\n",
      "0.05   ...     53.07  53.60  54.235  54.935  55.97  56.335  56.705  56.87   \n",
      "0.95   ...     80.73  80.93  81.200  81.365  81.60  81.665  81.830  82.00   \n",
      "\n",
      "        2015     2016  \n",
      "0.05  57.855  59.2555  \n",
      "0.95  82.100  82.1650  \n",
      "\n",
      "[2 rows x 218 columns]\n"
     ]
    },
    {
     "data": {
      "image/png": "[encoded data removed]",
      "text/plain": [
       "<matplotlib.figure.Figure at 0x2851e9c6828>"
      ]
     },
     "metadata": {},
     "output_type": "display_data"
    }
   ],
   "source": [
    "import pandas as pd\n",
    "df = pd.read_csv(\"life_expectancy_at_birth.csv\")\n",
    "print(df['2015'].count())\n",
    "\n",
    "# Print the 5th and 95th percentiles for all columns\n",
    "print(df.quantile([0.05,0.95]))\n",
    "\n",
    "years = ['1800','1850','1900','1950','2000']\n",
    "df[years].plot(kind='box')\n",
    "plt.show()"
   ]
  },
  {
   "cell_type": "markdown",
   "metadata": {},
   "source": [
    "### Standard deviation of temperature"
   ]
  },
  {
   "cell_type": "code",
   "execution_count": null,
   "metadata": {},
   "outputs": [],
   "source": [
    "print(january.mean(), march.mean())\n",
    "print(january.std(), march.std())"
   ]
  },
  {
   "cell_type": "markdown",
   "metadata": {},
   "source": [
    "### Separate and summarize"
   ]
  },
  {
   "cell_type": "code",
   "execution_count": 26,
   "metadata": {},
   "outputs": [
    {
     "name": "stdout",
     "output_type": "stream",
     "text": [
      "mpg        -3.412449\n",
      "cyl         0.805612\n",
      "displ      53.100255\n",
      "hp         14.579592\n",
      "weight    394.905612\n",
      "accel      -0.551122\n",
      "yr         -0.387755\n",
      "dtype: float64\n",
      "mpg       -1.364623\n",
      "cyl       -0.049788\n",
      "displ     -6.267657\n",
      "hp         1.406630\n",
      "weight   -54.055870\n",
      "accel     -0.022844\n",
      "yr        -0.023369\n",
      "dtype: float64\n"
     ]
    }
   ],
   "source": [
    "import pandas as pd\n",
    "df = pd.read_csv(\"auto-mpg.csv\")\n",
    "global_mean = df.mean() \n",
    "#calculate mean of each columns (axis = 0). Also it calculates only the mean of numerical data types\n",
    "global_std = df.std()\n",
    "\n",
    "us =df[df['origin']=='US']\n",
    "\n",
    "us_mean = us.mean()\n",
    "us_std = us.std()\n",
    "\n",
    "print(us_mean - global_mean)\n",
    "print(us_std - global_std)"
   ]
  },
  {
   "cell_type": "markdown",
   "metadata": {},
   "source": [
    "### Separate and plot"
   ]
  },
  {
   "cell_type": "code",
   "execution_count": 30,
   "metadata": {},
   "outputs": [
    {
     "data": {
      "image/png": "[encoded data removed]",
      "text/plain": [
       "<matplotlib.figure.Figure at 0x214abe51ba8>"
      ]
     },
     "metadata": {},
     "output_type": "display_data"
    }
   ],
   "source": [
    "import pandas as pd\n",
    "titanic = pd.read_csv(\"titanic.csv\")\n",
    "fig, axes = plt.subplots(nrows=3, ncols=1)\n",
    "\n",
    "# Generate a box plot of the fare prices for the First passenger class\n",
    "titanic.loc[titanic['pclass'] == 1].plot(ax=axes[0], y='fare', kind='box')\n",
    "titanic.loc[titanic['pclass'] == 2].plot(ax=axes[1], y='fare', kind='box')\n",
    "titanic.loc[titanic['pclass'] == 3].plot(ax=axes[2], y='fare', kind='box')\n",
    "plt.show()"
   ]
  },
  {
   "cell_type": "markdown",
   "metadata": {},
   "source": [
    "## Case Study - Sunlight in Austin"
   ]
  },
  {
   "cell_type": "markdown",
   "metadata": {},
   "source": [
    "### Re-assigning column names"
   ]
  },
  {
   "cell_type": "code",
   "execution_count": 2,
   "metadata": {},
   "outputs": [
    {
     "name": "stdout",
     "output_type": "stream",
     "text": [
      "    Wban      date  Time  StationType sky_condition visibility dry_bulb_faren  \\\n",
      "0  13904  20110101   153           12        OVC049      10.00             51   \n",
      "1  13904  20110101   253           12        OVC060      10.00             51   \n",
      "2  13904  20110101   353           12        OVC065      10.00             50   \n",
      "3  13904  20110101   453           12        BKN070      10.00             50   \n",
      "4  13904  20110101   553           12        BKN065      10.00             49   \n",
      "\n",
      "  dry_bulb_cel wet_bulb_faren wet_bulb_cel dew_point_faren dew_point_cel  \\\n",
      "0         10.6             37          3.0              14         -10.0   \n",
      "1         10.6             37          2.9              13         -10.6   \n",
      "2         10.0             38          3.1              17          -8.3   \n",
      "3         10.0             37          2.8              15          -9.4   \n",
      "4          9.4             37          2.8              17          -8.3   \n",
      "\n",
      "  relative_humidity wind_speed wind_direction station_pressure  \\\n",
      "0                23         10            340            29.49   \n",
      "1                22         15            010            29.49   \n",
      "2                27          7            350            29.51   \n",
      "3                25         11            020            29.51   \n",
      "4                28          6            010            29.53   \n",
      "\n",
      "  sea_level_pressure  \n",
      "0              30.01  \n",
      "1              30.01  \n",
      "2              30.03  \n",
      "3              30.04  \n",
      "4              30.06  \n"
     ]
    }
   ],
   "source": [
    "import pandas as pd\n",
    "df = pd.read_csv(\"NOAA_QCLCD_2011_hourly_13904.txt\")\n",
    "# Split on the comma to create a list: column_labels_list\n",
    "\n",
    "column_labels = 'Wban,date,Time,StationType,sky_condition,sky_conditionFlag,visibility,visibilityFlag,wx_and_obst_to_vision,wx_and_obst_to_visionFlag,dry_bulb_faren,dry_bulb_farenFlag,dry_bulb_cel,dry_bulb_celFlag,wet_bulb_faren,wet_bulb_farenFlag,wet_bulb_cel,wet_bulb_celFlag,dew_point_faren,dew_point_farenFlag,dew_point_cel,dew_point_celFlag,relative_humidity,relative_humidityFlag,wind_speed,wind_speedFlag,wind_direction,wind_directionFlag,value_for_wind_character,value_for_wind_characterFlag,station_pressure,station_pressureFlag,pressure_tendency,pressure_tendencyFlag,presschange,presschangeFlag,sea_level_pressure,sea_level_pressureFlag,record_type,hourly_precip,hourly_precipFlag,altimeter,altimeterFlag,junk'\n",
    "list_to_drop = ['sky_conditionFlag', 'visibilityFlag', 'wx_and_obst_to_vision', 'wx_and_obst_to_visionFlag', 'dry_bulb_farenFlag', 'dry_bulb_celFlag', 'wet_bulb_farenFlag', 'wet_bulb_celFlag', 'dew_point_farenFlag', 'dew_point_celFlag', 'relative_humidityFlag', 'wind_speedFlag', 'wind_directionFlag', 'value_for_wind_character', 'value_for_wind_characterFlag', 'station_pressureFlag', 'pressure_tendencyFlag', 'pressure_tendency', 'presschange', 'presschangeFlag', 'sea_level_pressureFlag', 'hourly_precip', 'hourly_precipFlag', 'altimeter', 'record_type', 'altimeterFlag', 'junk']\n",
    "\n",
    "column_labels_list = column_labels.split(\",\")\n",
    "df.columns = column_labels_list\n",
    "df_dropped = df.drop(list_to_drop, axis='columns')\n",
    "\n",
    "print(df_dropped.head())\n"
   ]
  },
  {
   "cell_type": "markdown",
   "metadata": {},
   "source": [
    "### Cleaning and tidying datetime data\n",
    "**Note the date and time are in two columns and also are with zeros (the first row for example). So we cannot easily use standard way to transfer it into datetime object**. We need some special treatment as below. "
   ]
  },
  {
   "cell_type": "code",
   "execution_count": 3,
   "metadata": {},
   "outputs": [
    {
     "name": "stdout",
     "output_type": "stream",
     "text": [
      "                      Wban      date  Time  StationType sky_condition  \\\n",
      "2011-01-01 01:53:00  13904  20110101  0153           12        OVC049   \n",
      "2011-01-01 02:53:00  13904  20110101  0253           12        OVC060   \n",
      "2011-01-01 03:53:00  13904  20110101  0353           12        OVC065   \n",
      "2011-01-01 04:53:00  13904  20110101  0453           12        BKN070   \n",
      "2011-01-01 05:53:00  13904  20110101  0553           12        BKN065   \n",
      "\n",
      "                    visibility dry_bulb_faren dry_bulb_cel wet_bulb_faren  \\\n",
      "2011-01-01 01:53:00      10.00             51         10.6             37   \n",
      "2011-01-01 02:53:00      10.00             51         10.6             37   \n",
      "2011-01-01 03:53:00      10.00             50         10.0             38   \n",
      "2011-01-01 04:53:00      10.00             50         10.0             37   \n",
      "2011-01-01 05:53:00      10.00             49          9.4             37   \n",
      "\n",
      "                    wet_bulb_cel dew_point_faren dew_point_cel  \\\n",
      "2011-01-01 01:53:00          3.0              14         -10.0   \n",
      "2011-01-01 02:53:00          2.9              13         -10.6   \n",
      "2011-01-01 03:53:00          3.1              17          -8.3   \n",
      "2011-01-01 04:53:00          2.8              15          -9.4   \n",
      "2011-01-01 05:53:00          2.8              17          -8.3   \n",
      "\n",
      "                    relative_humidity wind_speed wind_direction  \\\n",
      "2011-01-01 01:53:00                23         10            340   \n",
      "2011-01-01 02:53:00                22         15            010   \n",
      "2011-01-01 03:53:00                27          7            350   \n",
      "2011-01-01 04:53:00                25         11            020   \n",
      "2011-01-01 05:53:00                28          6            010   \n",
      "\n",
      "                    station_pressure sea_level_pressure  \n",
      "2011-01-01 01:53:00            29.49              30.01  \n",
      "2011-01-01 02:53:00            29.49              30.01  \n",
      "2011-01-01 03:53:00            29.51              30.03  \n",
      "2011-01-01 04:53:00            29.51              30.04  \n",
      "2011-01-01 05:53:00            29.53              30.06  \n"
     ]
    }
   ],
   "source": [
    "df_dropped['date'] = df_dropped['date'].astype(str)\n",
    "#Because it is only the date part but not the whole date-time, so we cannot use pd_to_datetime()\n",
    "\n",
    "#print(df_dropped['Time'])\n",
    "# Pad leading zeros to the Time column: df_dropped['Time']\n",
    "df_dropped['Time'] = df_dropped['Time'].apply(lambda x:'{:0>4}'.format(x))\n",
    "# See details of padding and formating in python folder. Because there is only one parameter for \n",
    "# format(), an index, e.g. 0 is neglected before : in '{:0>4}'. The 0 in '{:0>4}' is the padding\n",
    "# element. > refers to right alignment.\n",
    "#print(df_dropped['Time'])\n",
    "\n",
    "date_string = df_dropped['date'] + df_dropped['Time']\n",
    "date_times = pd.to_datetime(date_string, format='%Y%m%d%H%M')\n",
    "df_clean = df_dropped.set_index(date_times)\n",
    "print(df_clean.head())"
   ]
  },
  {
   "cell_type": "markdown",
   "metadata": {},
   "source": [
    "### leaning the numeric columns\n",
    "The numeric columns contain missing values labeled as 'M'. We now transform these columns such that they contain only numeric values and interpret missing data as NaN.\n",
    "\n",
    "pd.to_numeric() converts a Series of values to floating-point values. Furthermore, by specifying the keyword argument errors='coerce', one can force strings like 'M' to be interpreted as NaN.  \n",
    "    - If 'raise', then invalid parsing will raise an exception\n",
    "    - If 'coerce', then invalid parsing will be set as NaN\n",
    "    - If 'ignore', then invalid parsing will return the input\n"
   ]
  },
  {
   "cell_type": "code",
   "execution_count": 4,
   "metadata": {},
   "outputs": [
    {
     "name": "stdout",
     "output_type": "stream",
     "text": [
      "2011-06-20 08:27:00     M\n",
      "2011-06-20 08:28:00     M\n",
      "2011-06-20 08:29:00     M\n",
      "2011-06-20 08:30:00     M\n",
      "2011-06-20 08:31:00     M\n",
      "2011-06-20 08:32:00     M\n",
      "2011-06-20 08:33:00     M\n",
      "2011-06-20 08:34:00     M\n",
      "2011-06-20 08:35:00     M\n",
      "2011-06-20 08:53:00    83\n",
      "Name: dry_bulb_faren, dtype: object\n",
      "2011-06-20 08:27:00     NaN\n",
      "2011-06-20 08:28:00     NaN\n",
      "2011-06-20 08:29:00     NaN\n",
      "2011-06-20 08:30:00     NaN\n",
      "2011-06-20 08:31:00     NaN\n",
      "2011-06-20 08:32:00     NaN\n",
      "2011-06-20 08:33:00     NaN\n",
      "2011-06-20 08:34:00     NaN\n",
      "2011-06-20 08:35:00     NaN\n",
      "2011-06-20 08:53:00    83.0\n",
      "Name: dry_bulb_faren, dtype: float64\n"
     ]
    }
   ],
   "source": [
    "print(df_clean.loc['2011-6-20 8:00:00':'2011-6-20 9:00:00', 'dry_bulb_faren'])\n",
    "\n",
    "df_clean['dry_bulb_faren'] = pd.to_numeric(df_clean['dry_bulb_faren'], errors='coerce')\n",
    "\n",
    "print(df_clean.loc['2011-6-20 8:00:00':'2011-6-20 9:00:00', 'dry_bulb_faren'])\n",
    "\n",
    "df_clean['wind_speed'] = pd.to_numeric(df_clean['wind_speed'], errors='coerce')\n",
    "df_clean['dew_point_faren'] = pd.to_numeric(df_clean['dew_point_faren'], errors='coerce')\n",
    "df_clean['visibility'] = pd.to_numeric(df_clean['visibility'], errors='coerce')"
   ]
  },
  {
   "cell_type": "markdown",
   "metadata": {},
   "source": [
    "### Signal min, max, median"
   ]
  },
  {
   "cell_type": "code",
   "execution_count": 5,
   "metadata": {},
   "outputs": [
    {
     "name": "stdout",
     "output_type": "stream",
     "text": [
      "72.0\n",
      "78.0\n",
      "48.0\n"
     ]
    }
   ],
   "source": [
    "print(df_clean['dry_bulb_faren'].median())\n",
    "print(df_clean.loc['2011-Apr':'2011-Jun', 'dry_bulb_faren'].median())\n",
    "print(df_clean.loc['2011-Jan', 'dry_bulb_faren'].median())"
   ]
  },
  {
   "cell_type": "markdown",
   "metadata": {},
   "source": [
    "### Signal variance\n",
    "**resample + aggregate is very similar to 'select column_name, aggregate() group by...**"
   ]
  },
  {
   "cell_type": "code",
   "execution_count": 6,
   "metadata": {},
   "outputs": [
    {
     "name": "stdout",
     "output_type": "stream",
     "text": [
      "1.330083921569873\n"
     ]
    }
   ],
   "source": [
    "import pandas as pd\n",
    "df_climate = pd.read_csv('weather_data_austin_2010.csv', index_col='Date', parse_dates=True)\n",
    "\n",
    "# Downsample df_clean by day and aggregate by mean: daily_mean_2011. Understand this by the \n",
    "# aggregating over subgroup in the group by in SQL. \n",
    "daily_mean_2011 = df_clean.resample('D').mean()  \n",
    "daily_temp_2011 = daily_mean_2011['dry_bulb_faren'].values\n",
    "\n",
    "daily_climate = df_climate.resample('D').mean()\n",
    "\n",
    "# Extract the Temperature column from daily_climate using .reset_index(): daily_temp_climate\n",
    "daily_temp_climate = daily_climate.reset_index()['Temperature'] \n",
    "\n",
    "# Compute the difference between the two arrays and print the mean difference\n",
    "difference = daily_temp_2011 - daily_temp_climate\n",
    "print(difference.mean())"
   ]
  },
  {
   "cell_type": "markdown",
   "metadata": {},
   "source": [
    "### Sunny or cloudy\n",
    "**Some ways of identifying values in a column:**\n",
    "- For same values, use .loc and filter mask  \n",
    "- For values contain only partial common strings, use .str.contains(). Regular expression might be helpful sometimes.\n",
    "- In SQL, use LIKE, where we can also use regular expression."
   ]
  },
  {
   "cell_type": "code",
   "execution_count": 20,
   "metadata": {},
   "outputs": [
    {
     "name": "stdout",
     "output_type": "stream",
     "text": [
      "365\n",
      "362\n",
      "Wban               0.000000\n",
      "StationType        0.000000\n",
      "visibility         0.174359\n",
      "dry_bulb_faren     6.504304\n",
      "dew_point_faren   -4.339286\n",
      "wind_speed        -3.246062\n",
      "dtype: float64\n"
     ]
    }
   ],
   "source": [
    "sunny = df_clean.loc[df_clean['sky_condition']=='CLR']\n",
    "overcast = df_clean.loc[df_clean['sky_condition'].str.contains('OVC')] #overcast: cloudy\n",
    "\n",
    "# Resample sunny and overcast, aggregating by maximum daily temperature. Original is hourly data\n",
    "# Like \"group by day\" in SQL, i.e., each day is a group. There are so many days, so we have many\n",
    "# max temperature.\n",
    "sunny_daily_max = sunny.resample('D').max()\n",
    "overcast_daily_max = overcast.resample('D').max()\n",
    "\n",
    "print(len(sunny_daily_max))\n",
    "print(len(overcast_daily_max))\n",
    "#The numbers of sunny and cloudy days are different. Thus we cannot calculate their difference \n",
    "#day by day. Instead, calculate the difference of their mean.\n",
    "\n",
    "print(sunny_daily_max.mean() - overcast_daily_max.mean())\n",
    "# print(overcast.head())\n"
   ]
  },
  {
   "cell_type": "markdown",
   "metadata": {},
   "source": [
    "### Weekly average temperature and visibility"
   ]
  },
  {
   "cell_type": "code",
   "execution_count": 16,
   "metadata": {},
   "outputs": [
    {
     "name": "stdout",
     "output_type": "stream",
     "text": [
      "                visibility  dry_bulb_faren\n",
      "visibility         1.00000         0.49004\n",
      "dry_bulb_faren     0.49004         1.00000\n"
     ]
    },
    {
     "data": {
      "text/plain": [
       "<matplotlib.figure.Figure at 0x20be57c8240>"
      ]
     },
     "metadata": {},
     "output_type": "display_data"
    }
   ],
   "source": [
    "import matplotlib.pyplot as plt\n",
    "\n",
    "weekly_mean = df_clean[['visibility','dry_bulb_faren']].resample('W').mean()\n",
    "print(weekly_mean.corr())\n",
    "weekly_mean.plot(subplots=True)\n",
    "plt.show()"
   ]
  },
  {
   "cell_type": "code",
   "execution_count": 79,
   "metadata": {},
   "outputs": [
    {
     "name": "stdout",
     "output_type": "stream",
     "text": [
      "<class 'pandas.core.frame.DataFrame'>\n",
      "DatetimeIndex: 10336 entries, 2011-01-01 01:53:00 to 2011-12-31 23:53:00\n",
      "Data columns (total 2 columns):\n",
      "visibility        10324 non-null object\n",
      "dry_bulb_faren    10325 non-null float64\n",
      "dtypes: float64(1), object(1)\n",
      "memory usage: 562.2+ KB\n",
      "None\n"
     ]
    }
   ],
   "source": [
    "df_clean['visibility']\n",
    "weekly_mean = df_clean[['visibility','dry_bulb_faren']]\n",
    "print(weekly_mean.info())"
   ]
  },
  {
   "cell_type": "markdown",
   "metadata": {},
   "source": [
    "### Daily hours of clear sky"
   ]
  },
  {
   "cell_type": "code",
   "execution_count": 19,
   "metadata": {},
   "outputs": [
    {
     "name": "stdout",
     "output_type": "stream",
     "text": [
      "2011-01-01    0.478261\n",
      "2011-01-02    0.291667\n",
      "2011-01-03    0.115385\n",
      "2011-01-04    0.000000\n",
      "2011-01-05    0.034483\n",
      "Freq: D, Name: sky_condition, dtype: float64\n"
     ]
    },
    {
     "data": {
      "image/png": "[encoded data removed]",
      "text/plain": [
       "<matplotlib.figure.Figure at 0x20be7fe2630>"
      ]
     },
     "metadata": {},
     "output_type": "display_data"
    }
   ],
   "source": [
    "# Create a Boolean Series for sunny days: sunny\n",
    "sunny = df_clean['sky_condition'] == 'CLR'\n",
    "sunny_hours = sunny.resample('D').sum()\n",
    "total_hours = sunny.resample('D').count()\n",
    "sunny_fraction = sunny_hours / total_hours\n",
    "sunny_fraction.plot(kind='box')\n",
    "plt.show()"
   ]
  },
  {
   "cell_type": "markdown",
   "metadata": {},
   "source": [
    "### Heat or humidity"
   ]
  },
  {
   "cell_type": "code",
   "execution_count": 21,
   "metadata": {},
   "outputs": [
    {
     "data": {
      "image/png": "[encoded data removed]",
      "text/plain": [
       "<matplotlib.figure.Figure at 0x20be7fc5a20>"
      ]
     },
     "metadata": {},
     "output_type": "display_data"
    }
   ],
   "source": [
    "monthly_max = df_clean[['dew_point_faren','dry_bulb_faren']].resample('M').max()\n",
    "monthly_max.plot(kind='hist', bins=8, alpha=0.5, subplots=True)\n",
    "plt.show()"
   ]
  },
  {
   "cell_type": "markdown",
   "metadata": {},
   "source": [
    "### Probability of high temperatures"
   ]
  },
  {
   "cell_type": "code",
   "execution_count": 22,
   "metadata": {},
   "outputs": [
    {
     "data": {
      "image/png": "[encoded data removed]",
      "text/plain": [
       "<matplotlib.figure.Figure at 0x20be854bc18>"
      ]
     },
     "metadata": {},
     "output_type": "display_data"
    }
   ],
   "source": [
    "august_max = df_climate.loc['2010-Aug','Temperature'].max()\n",
    "august_2011 = df_clean.loc['2011-Aug','dry_bulb_faren'].resample('D').max()\n",
    "august_2011_high = august_2011.loc[august_2011 > august_max]\n",
    "august_2011_high.plot(kind='hist', normed=True, cumulative=True, bins=25)\n",
    "plt.show()\n"
   ]
  }
 ],
 "metadata": {
  "kernelspec": {
   "display_name": "Python 3",
   "language": "python",
   "name": "python3"
  },
  "language_info": {
   "codemirror_mode": {
    "name": "ipython",
    "version": 3
   },
   "file_extension": ".py",
   "mimetype": "text/x-python",
   "name": "python",
   "nbconvert_exporter": "python",
   "pygments_lexer": "ipython3",
   "version": "3.6.4"
  }
 },
 "nbformat": 4,
 "nbformat_minor": 2
}
