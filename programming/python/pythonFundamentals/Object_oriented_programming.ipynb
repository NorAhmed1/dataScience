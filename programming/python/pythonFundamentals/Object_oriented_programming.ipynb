{
 "cells": [
  {
   "cell_type": "markdown",
   "metadata": {},
   "source": [
    "# Class basics"
   ]
  },
  {
   "cell_type": "code",
   "execution_count": null,
   "metadata": {},
   "outputs": [],
   "source": [
    "class Sample(): \n",
    "    #[1] No () after Sample if no parameters are needed. [2] First letter of a word capitalized.\n",
    "    pass\n",
    "\n",
    "x = Sample()\n",
    "# With or without () after Sample, type(x) is different. Figure out!\n",
    "# When defining a class, seems a () is optional, at least in Python 3. \n",
    "# However, when instantiate a class object, it requires a (), as shown above.\n",
    "print(type(x))"
   ]
  },
  {
   "cell_type": "code",
   "execution_count": null,
   "metadata": {},
   "outputs": [],
   "source": [
    "class Dog:\n",
    "    def __init__(aself,breed): \n",
    "        aself.breed = breed\n",
    "sam = Dog(breed='Lab')\n",
    "frank = Dog(breed='Huskie')\n",
    "# The two 'breed' in the right can also be written as other names, such as myBreed. However, because they are function \n",
    "# parameters, any names are OK. So we write it as breed.\n",
    "# Unlike C++, python makes explicit referecence to current instance object, conventionally named self (can be any names).  \n",
    "# The __init__ does not have kw arguments, but we still can pass-into kw-like arguments. Why? "
   ]
  },
  {
   "cell_type": "code",
   "execution_count": null,
   "metadata": {},
   "outputs": [],
   "source": [
    "class Dog:\n",
    "    \n",
    "    # Class Object Attribute, which are same for any instance of the class. Usually placed before init.\n",
    "    species = 'mammal'\n",
    "    \n",
    "    def __init__(self,breed,name):\n",
    "        self.breed = breed\n",
    "        self.name = name"
   ]
  },
  {
   "cell_type": "code",
   "execution_count": null,
   "metadata": {},
   "outputs": [],
   "source": [
    "class Circle:\n",
    "    pi = 3.14\n",
    "    # Class object attribute \n",
    "    #In python, class is also a kind of object (of meta class?). So the pi here is defined in that object, but not \n",
    "    #in the specific object below yet. So I cannot access this pi directly below? (see comments next)\n",
    "    #**Check a chapter later about \"class object attribute and instance attribute have same name?\"\n",
    "\n",
    "    # Circle gets instantiated with a radius (default is 1)\n",
    "    def __init__(self, radius=1):\n",
    "        self.radius = radius \n",
    "        self.area = radius * radius * Circle.pi \n",
    "        #Circle.pi, or self-pi, both are OK.\n",
    "\n",
    "    # Method for resetting Radius\n",
    "    def setRadius(self, new_radius):\n",
    "        self.radius = new_radius\n",
    "        self.area = new_radius * new_radius * self.pi\n",
    "\n",
    "    # Method for getting Circumference\n",
    "    def getCircumference(self):\n",
    "        return self.radius * self.pi * 2\n",
    "    #Every method must have self as its parameter, even though no other parameter to be passed into \n",
    "\n",
    "    def getCircumferenceHello():\n",
    "        #Note that methods defined in a class normally need the parameter 'self'. However, if we don't need use the \n",
    "        #members of this class instance, then without 'self' also OK, e.g. the getCircumferenceHello()\n",
    "        return 0"
   ]
  },
  {
   "cell_type": "code",
   "execution_count": null,
   "metadata": {},
   "outputs": [],
   "source": [
    "c = Circle()\n",
    "\n",
    "print('Radius is: ', c.radius)\n",
    "print('Area is: ',c.area)\n",
    "print('Circumference is: ',c.getCircumference())"
   ]
  },
  {
   "cell_type": "code",
   "execution_count": 1,
   "metadata": {},
   "outputs": [],
   "source": [
    "class Account:\n",
    "    def __init__(self,owner,balance=0):\n",
    "        self.owner = owner\n",
    "        self.balance = balance\n",
    "        \n",
    "    def __str__(self):\n",
    "        return f'Account owner:   {self.owner}\\nAccount balance: ${self.balance}'\n",
    "        \n",
    "    def deposit(self,dep_amt):\n",
    "        self.balance += dep_amt\n",
    "        print('Deposit Accepted')\n",
    "        \n",
    "    def withdraw(self,wd_amt):\n",
    "        if self.balance >= wd_amt:\n",
    "            self.balance -= wd_amt\n",
    "            print('Withdrawal Accepted')\n",
    "        else:\n",
    "            print('Funds Unavailable!')"
   ]
  },
  {
   "cell_type": "code",
   "execution_count": 2,
   "metadata": {},
   "outputs": [],
   "source": [
    "# 1. Instantiate the class\n",
    "acct1 = Account('Jose',100)"
   ]
  },
  {
   "cell_type": "code",
   "execution_count": 3,
   "metadata": {},
   "outputs": [
    {
     "name": "stdout",
     "output_type": "stream",
     "text": [
      "Account owner:   Jose\n",
      "Account balance: $100\n"
     ]
    }
   ],
   "source": [
    "# 2. Print the object\n",
    "print(acct1)"
   ]
  },
  {
   "cell_type": "code",
   "execution_count": 4,
   "metadata": {},
   "outputs": [
    {
     "data": {
      "text/plain": [
       "'Jose'"
      ]
     },
     "execution_count": 4,
     "metadata": {},
     "output_type": "execute_result"
    }
   ],
   "source": [
    "# 3. Show the account owner attribute\n",
    "acct1.owner"
   ]
  },
  {
   "cell_type": "code",
   "execution_count": 5,
   "metadata": {},
   "outputs": [
    {
     "data": {
      "text/plain": [
       "100"
      ]
     },
     "execution_count": 5,
     "metadata": {},
     "output_type": "execute_result"
    }
   ],
   "source": [
    "# 4. Show the account balance attribute\n",
    "acct1.balance"
   ]
  },
  {
   "cell_type": "code",
   "execution_count": 6,
   "metadata": {},
   "outputs": [
    {
     "name": "stdout",
     "output_type": "stream",
     "text": [
      "Deposit Accepted\n"
     ]
    }
   ],
   "source": [
    "# 5. Make a series of deposits and withdrawals\n",
    "acct1.deposit(50)"
   ]
  },
  {
   "cell_type": "code",
   "execution_count": 7,
   "metadata": {},
   "outputs": [
    {
     "name": "stdout",
     "output_type": "stream",
     "text": [
      "Withdrawal Accepted\n"
     ]
    }
   ],
   "source": [
    "acct1.withdraw(75)"
   ]
  },
  {
   "cell_type": "code",
   "execution_count": 8,
   "metadata": {},
   "outputs": [
    {
     "name": "stdout",
     "output_type": "stream",
     "text": [
      "Funds Unavailable!\n"
     ]
    }
   ],
   "source": [
    "# 6. Make a withdrawal that exceeds the available balance\n",
    "acct1.withdraw(500)"
   ]
  },
  {
   "cell_type": "markdown",
   "metadata": {},
   "source": [
    "# Inheritance\n",
    "\n",
    "**From web:** \n",
    "A metaclass is the class of a class. Like a class defines how an instance of the class behaves, a metaclass defines how a class behaves. A class is an instance of a metaclass.\n",
    "A metaclass is most commonly used as a class-factory. Like you create an instance of the class by calling the class, Python creates a new class (when it executes the 'class' statement) by calling the metaclass. Combined with the normal __init__ and __new__ methods, metaclasses therefore allow you to do 'extra things' when creating a class, like registering the new class with some registry, or even replace the class with something else entirely.\n"
   ]
  },
  {
   "cell_type": "code",
   "execution_count": null,
   "metadata": {},
   "outputs": [],
   "source": [
    "class Animal:\n",
    "    def __init__(self):\n",
    "        print(\"Animal created\")\n",
    "\n",
    "    def whoAmI(self):\n",
    "        print(\"Animal\")\n",
    "\n",
    "    def eat(self):\n",
    "        print(\"Eating\")\n",
    "\n",
    "\n",
    "class Dog(Animal):\n",
    "    #The so called inheritance is just pass the base class as a parameter.\n",
    "    #The key reason is that Animal is a instance of metaclass. Or we can think it is an object. See comments earlier\n",
    "    def __init__(self):\n",
    "        Animal.__init__(self)\n",
    "        print(\"Dog created\")\n",
    "        #After pass base class into the child class as a parameter, then we run the constructor of base class.\n",
    "\n",
    "    def whoAmI(self):\n",
    "        print(\"Dog\")\n",
    "\n",
    "    def bark(self):\n",
    "        print(\"Woof!\")"
   ]
  },
  {
   "cell_type": "markdown",
   "metadata": {},
   "source": [
    "# Polymorphism\n",
    "We've learned that while functions can take in different arguments, methods belong to the objects they act on. In Python, *polymorphism* refers to the way in which different object classes can share the same method name, and those methods can be called from the same place even though a variety of different objects might be passed in. The best way to explain this is by example:\n"
   ]
  },
  {
   "cell_type": "code",
   "execution_count": null,
   "metadata": {},
   "outputs": [],
   "source": [
    "class Dog:\n",
    "    def __init__(self, name):\n",
    "        self.name = name\n",
    "\n",
    "    def speak(self):\n",
    "        return self.name+' says Woof!'\n",
    "    \n",
    "class Cat:\n",
    "    def __init__(self, name):\n",
    "        self.name = name\n",
    "\n",
    "    def speak(self):\n",
    "        return self.name+' says Meow!' \n",
    "    \n",
    "niko = Dog('Niko')\n",
    "felix = Cat('Felix')\n",
    "\n",
    "print(niko.speak())\n",
    "print(felix.speak())"
   ]
  },
  {
   "cell_type": "markdown",
   "metadata": {},
   "source": [
    "Here we have a Dog class and a Cat class, and each has a `.speak()` method. When called, each object's `.speak()` method returns a result unique to the object.\n",
    "\n",
    "There a few different ways to demonstrate polymorphism. First, with a for loop:"
   ]
  },
  {
   "cell_type": "code",
   "execution_count": null,
   "metadata": {},
   "outputs": [],
   "source": [
    "for pet in [niko,felix]:\n",
    "    print(pet.speak())\n",
    "\n",
    "Another is with functions:\n",
    "\n",
    "def pet_speak(pet):\n",
    "    print(pet.speak())\n",
    "\n",
    "pet_speak(niko)\n",
    "pet_speak(felix)"
   ]
  },
  {
   "cell_type": "markdown",
   "metadata": {},
   "source": [
    "In both cases we were able to pass in different object types, and we obtained object-specific results from the same mechanism.\n",
    "\n",
    "A more common practice is to use abstract classes and inheritance. An abstract class is one that never expects to be instantiated. For example, we will never have an Animal object, only Dog and Cat objects, although Dogs and Cats are derived from Animals:"
   ]
  },
  {
   "cell_type": "code",
   "execution_count": null,
   "metadata": {},
   "outputs": [],
   "source": [
    "class Animal:\n",
    "    def __init__(self, name):    # Constructor of the class\n",
    "        self.name = name\n",
    "\n",
    "    def speak(self):              # Abstract method, defined by convention only\n",
    "        raise NotImplementedError(\"Subclass must implement abstract method\")\n",
    "\n",
    "\n",
    "class Dog(Animal):\n",
    "    \n",
    "    def speak(self):\n",
    "        return self.name+' says Woof!'\n",
    "    \n",
    "class Cat(Animal):\n",
    "\n",
    "    def speak(self):\n",
    "        return self.name+' says Meow!'\n",
    "    \n",
    "fido = Dog('Fido')\n",
    "isis = Cat('Isis')\n",
    "\n",
    "print(fido.speak())\n",
    "print(isis.speak())"
   ]
  },
  {
   "cell_type": "markdown",
   "metadata": {},
   "source": [
    "## More on polymorphism\n",
    "Check the details of the c++ polymorphism after the python example. There seems to be some real difference. "
   ]
  },
  {
   "cell_type": "code",
   "execution_count": 4,
   "metadata": {},
   "outputs": [
    {
     "name": "stdout",
     "output_type": "stream",
     "text": [
      "Missy: Meow!\n",
      "Mr. Mistoffelees: Meow!\n",
      "Lassie: Woof! Woof!\n"
     ]
    }
   ],
   "source": [
    "class Animal:\n",
    "    def __init__(self, name):    # Constructor of the class\n",
    "        self.name = name\n",
    "    def talk(self):              # Abstract method, defined by convention only\n",
    "        raise NotImplementedError(\"Subclass must implement abstract method\")\n",
    "\n",
    "class Cat(Animal):\n",
    "    def talk(self):\n",
    "        return 'Meow!'\n",
    "\n",
    "class Dog(Animal):\n",
    "    def talk(self):\n",
    "        return 'Woof! Woof!'\n",
    "\n",
    "\n",
    "animals = [Cat('Missy'),\n",
    "           Cat('Mr. Mistoffelees'),\n",
    "           Dog('Lassie')]\n",
    "\n",
    "for animal in animals:\n",
    "    print( animal.name + ': ' + animal.talk())\n",
    "\n",
    "# prints the following:\n",
    "#\n",
    "# Missy: Meow!\n",
    "# Mr. Mistoffelees: Meow!\n",
    "# Lassie: Woof! Woof!"
   ]
  },
  {
   "cell_type": "code",
   "execution_count": null,
   "metadata": {},
   "outputs": [],
   "source": []
  },
  {
   "cell_type": "code",
   "execution_count": null,
   "metadata": {},
   "outputs": [],
   "source": [
    "class Animal {\n",
    "public:\n",
    "  Animal(const std::string& name) : name_(name) {}\n",
    "  virtual ~Animal() {}\n",
    "\n",
    "  virtual std::string talk() = 0;\n",
    "  std::string name_;\n",
    "};\n",
    "\n",
    "class Dog : public Animal {\n",
    "public:\n",
    "  virtual std::string talk() { return \"woof!\"; }\n",
    "};  \n",
    "\n",
    "class Cat : public Animal {\n",
    "public:\n",
    "  virtual std::string talk() { return \"meow!\"; }\n",
    "};  \n",
    "\n",
    "void main() {\n",
    "\n",
    "  Cat c(\"Miffy\");\n",
    "  Dog d(\"Spot\");\n",
    "\n",
    "  #This shows typical inheritance and basic polymorphism, as the objects are typed by definition \n",
    "  # and cannot change types at runtime. \n",
    "  printf(\"%s says %s\\n\", c.name_.c_str(), c.talk().c_str());\n",
    "  printf(\"%s says %s\\n\", d.name_.c_str(), d.talk().c_str());\n",
    "\n",
    "  Animal* c2 = new Cat(\"Miffy\"); # polymorph this animal pointer into a cat!\n",
    "  Animal* d2 = new Dog(\"Spot\");  # or a dog!\n",
    "\n",
    "  # This shows full polymorphism as the types are only known at runtime,\n",
    "  # and the execution of the \"talk\" function has to be determined by\n",
    "  # the runtime type, not by the type definition, and can actually change \n",
    "  # depending on runtime factors (user choice, for example).\n",
    "  printf(\"%s says %s\\n\", c2->name_.c_str(), c2->talk().c_str());\n",
    "  printf(\"%s says %s\\n\", d2->name_.c_str(), d2->talk().c_str());\n",
    "\n",
    "  # This will not compile as Animal cannot be instanced with an undefined function\n",
    "  Animal c;\n",
    "  Animal* c = new Animal(\"amby\");\n",
    "\n",
    "  # This is fine, however\n",
    "  Animal* a;  # hasn't been polymorphed yet, so okay.\n",
    "\n",
    "}"
   ]
  },
  {
   "cell_type": "markdown",
   "metadata": {},
   "source": [
    "Real life examples of polymorphism include:\n",
    "* opening different file types - different tools are needed to display Word, pdf and Excel files\n",
    "* adding different objects - the `+` operator performs arithmetic and concatenation\n",
    "\n",
    "**Comments:** Catching the spirit of polymorphism at all? Check more example on polymorphism."
   ]
  },
  {
   "cell_type": "markdown",
   "metadata": {},
   "source": [
    "# Special Methods\n",
    "\n",
    "Finally let's go over special methods. Classes in Python can implement certain operations with special method names. These methods are not actually called directly but by Python specific language syntax. For example let's create a Book class:"
   ]
  },
  {
   "cell_type": "code",
   "execution_count": null,
   "metadata": {},
   "outputs": [],
   "source": [
    "class Book:\n",
    "    def __init__(self, title, author, pages):\n",
    "        print(\"A book is created\")\n",
    "        self.title = title\n",
    "        self.author = author\n",
    "        self.pages = pages\n",
    "\n",
    "    def __str__(self):\n",
    "        return \"Title: %s, author: %s, pages: %s\" %(self.title, self.author, self.pages)\n",
    "\n",
    "    def __len__(self):\n",
    "        return self.pages\n",
    "\n",
    "    def __del__(self):\n",
    "        print(\"A book is destroyed\")\n",
    "        #Without the __del__ method described above, the command (later) \"del book\" can still delete the book instance.\n",
    "        #It is only without the notice of \"A book is destroyed\". \n",
    "\n",
    "book = Book(\"Python Rocks!\", \"Jose Portilla\", 159)\n",
    "#Special Methods\n",
    "print(book)\n",
    "print(len(book))\n",
    "del book"
   ]
  },
  {
   "cell_type": "markdown",
   "metadata": {
    "collapsed": true
   },
   "source": [
    "# Advanced Object Oriented Programming\n"
   ]
  },
  {
   "cell_type": "markdown",
   "metadata": {},
   "source": [
    "## Inheritance Revisited\n",
    "\n",
    "Recall that with Inheritance, one or more derived classes can inherit attributes and methods from a base class. This reduces duplication, and means that any changes made to the base class will automatically translate to derived classes. As a review:"
   ]
  },
  {
   "cell_type": "code",
   "execution_count": 1,
   "metadata": {},
   "outputs": [
    {
     "name": "stdout",
     "output_type": "stream",
     "text": [
      "Fido says Woof!\n",
      "Isis says Meow!\n"
     ]
    }
   ],
   "source": [
    "class Animal:\n",
    "    def __init__(self, name):    # Constructor of the class\n",
    "        self.name = name\n",
    "\n",
    "    def speak(self):              # Abstract method, defined by convention only\n",
    "        raise NotImplementedError(\"Subclass must implement abstract method\")\n",
    "\n",
    "\n",
    "class Dog(Animal):\n",
    "    def speak(self):\n",
    "        return self.name+' says Woof!'\n",
    "    \n",
    "class Cat(Animal):\n",
    "    def speak(self):\n",
    "        return self.name+' says Meow!'\n",
    "    \n",
    "fido = Dog('Fido')\n",
    "isis = Cat('Isis')\n",
    "\n",
    "print(fido.speak())\n",
    "print(isis.speak())"
   ]
  },
  {
   "cell_type": "markdown",
   "metadata": {},
   "source": [
    "In this example, the derived classes did not need their own `__init__` methods because the base class `__init__` gets called automatically. However, if you do define an `__init__` in the derived class, this will override the base:"
   ]
  },
  {
   "cell_type": "markdown",
   "metadata": {},
   "source": [
    "## Multiple Inheritance\n",
    "\n",
    "Sometimes it makes sense for a derived class to inherit qualities from two or more base classes. Python allows for this with multiple inheritance."
   ]
  },
  {
   "cell_type": "code",
   "execution_count": 4,
   "metadata": {},
   "outputs": [],
   "source": [
    "class Car:\n",
    "    def __init__(self,wheels=4):\n",
    "        self.wheels = wheels\n",
    "        # We'll say that all cars, no matter their engine, have four wheels by default.\n",
    "\n",
    "class Gasoline(Car):\n",
    "    def __init__(self,engine='Gasoline',tank_cap=20):\n",
    "        Car.__init__(self)\n",
    "        self.engine = engine\n",
    "        self.tank_cap = tank_cap # represents fuel tank capacity in gallons\n",
    "        self.tank = 0\n",
    "        \n",
    "    def refuel(self):\n",
    "        self.tank = self.tank_cap\n",
    "        \n",
    "    \n",
    "class Electric(Car):\n",
    "    def __init__(self,engine='Electric',kWh_cap=60):\n",
    "        Car.__init__(self)\n",
    "        self.engine = engine\n",
    "        self.kWh_cap = kWh_cap # represents battery capacity in kilowatt-hours\n",
    "        self.kWh = 0\n",
    "    \n",
    "    def recharge(self):\n",
    "        self.kWh = self.kWh_cap"
   ]
  },
  {
   "cell_type": "markdown",
   "metadata": {},
   "source": [
    "So what happens if we have an object that shares properties of both Gasolines and Electrics? We can create a derived class that inherits from both!"
   ]
  },
  {
   "cell_type": "code",
   "execution_count": 5,
   "metadata": {},
   "outputs": [
    {
     "name": "stdout",
     "output_type": "stream",
     "text": [
      "0\n",
      "0\n"
     ]
    }
   ],
   "source": [
    "class Hybrid(Gasoline, Electric):\n",
    "    def __init__(self,engine='Hybrid',tank_cap=11,kWh_cap=5):\n",
    "        Gasoline.__init__(self,engine,tank_cap)\n",
    "        Electric.__init__(self,engine,kWh_cap)\n",
    "        \n",
    "        \n",
    "prius = Hybrid()\n",
    "print(prius.tank)\n",
    "print(prius.kWh)"
   ]
  },
  {
   "cell_type": "code",
   "execution_count": 6,
   "metadata": {},
   "outputs": [
    {
     "name": "stdout",
     "output_type": "stream",
     "text": [
      "5\n"
     ]
    }
   ],
   "source": [
    "prius.recharge()\n",
    "print(prius.kWh)"
   ]
  },
  {
   "cell_type": "markdown",
   "metadata": {},
   "source": [
    "## Why do we use `self`?\n",
    "\n",
    "We've seen the word \"self\" show up in almost every example. What's the deal? The answer is, Python uses `self` to find the right set of attributes and methods to apply to an object. When we say:\n",
    "\n",
    "    prius.recharge()\n",
    "\n",
    "What really happens is that Python first looks up the class belonging to `prius` (Hybrid), and then passes `prius` to the `Hybrid.recharge()` method.\n",
    "\n",
    "It's the same as running:\n",
    "\n",
    "    Hybrid.recharge(prius)\n",
    "    \n",
    "but shorter and more intuitive!"
   ]
  },
  {
   "cell_type": "markdown",
   "metadata": {},
   "source": [
    "## Method Resolution Order (MRO)\n",
    "Things get complicated when you have several base classes and levels of inheritance. This is resolved using Method Resolution Order - a formal plan that Python follows when running object methods.\n",
    "\n",
    "To illustrate, if classes B and C each derive from A, and class D derives from both B and C, which class is \"first in line\" when a method is called on D?<br>Consider the following:"
   ]
  },
  {
   "cell_type": "code",
   "execution_count": 7,
   "metadata": {},
   "outputs": [],
   "source": [
    "class A:\n",
    "    num = 4\n",
    "    \n",
    "class B(A):\n",
    "    pass\n",
    "\n",
    "class C(A):\n",
    "    num = 5\n",
    "    \n",
    "class D(B,C):\n",
    "    pass"
   ]
  },
  {
   "cell_type": "markdown",
   "metadata": {},
   "source": [
    "Schematically, the relationship looks like this:\n",
    "\n",
    "\n",
    "         A\n",
    "       num=4\n",
    "      /     \\\n",
    "     /       \\\n",
    "     B       C\n",
    "    pass   num=5\n",
    "     \\       /\n",
    "      \\     /\n",
    "         D\n",
    "        pass\n",
    "\n",
    "Here `num` is a class attribute belonging to all four classes. So what happens if we call `D.num`?"
   ]
  },
  {
   "cell_type": "code",
   "execution_count": 8,
   "metadata": {},
   "outputs": [
    {
     "data": {
      "text/plain": [
       "5"
      ]
     },
     "execution_count": 8,
     "metadata": {},
     "output_type": "execute_result"
    }
   ],
   "source": [
    "D.num"
   ]
  },
  {
   "cell_type": "markdown",
   "metadata": {},
   "source": [
    "You would think that `D.num` would follow `B` up to `A` and return **4**. Instead, Python obeys the first method in the chain that *defines* num. The order followed is `[D, B, C, A, object]` where *object* is Python's base object class.\n",
    "\n",
    "In our example, the first class to define and/or override a previously defined `num` is `C`."
   ]
  },
  {
   "cell_type": "markdown",
   "metadata": {},
   "source": [
    "## `super()`\n",
    "\n",
    "Python's built-in `super()` function provides a shortcut for calling base classes, because it automatically follows Method Resolution Order.\n",
    "\n",
    "In its simplest form with single inheritance, `super()` can be used in place of the base class name :"
   ]
  },
  {
   "cell_type": "code",
   "execution_count": 9,
   "metadata": {},
   "outputs": [],
   "source": [
    "class MyBaseClass:\n",
    "    def __init__(self,x,y):\n",
    "        self.x = x\n",
    "        self.y = y\n",
    "    \n",
    "class MyDerivedClass(MyBaseClass):\n",
    "    def __init__(self,x,y,z):\n",
    "        super().__init__(x,y)\n",
    "        self.z = z\n",
    "    "
   ]
  },
  {
   "cell_type": "markdown",
   "metadata": {},
   "source": [
    "Note that we don't pass `self` to `super().__init__()` as `super()` handles this automatically.\n",
    "\n",
    "In a more dynamic form, with multiple inheritance like the \"diamond diagram\" shown above, `super()` can be used to properly manage method definitions:"
   ]
  },
  {
   "cell_type": "code",
   "execution_count": 10,
   "metadata": {},
   "outputs": [],
   "source": [
    "class A:\n",
    "    def truth(self):\n",
    "        return 'All numbers are even'\n",
    "    \n",
    "class B(A):\n",
    "    pass\n",
    "\n",
    "class C(A):\n",
    "    def truth(self):\n",
    "        return 'Some numbers are even'\n",
    "    \n"
   ]
  },
  {
   "cell_type": "code",
   "execution_count": 11,
   "metadata": {},
   "outputs": [
    {
     "data": {
      "text/plain": [
       "'All numbers are even'"
      ]
     },
     "execution_count": 11,
     "metadata": {},
     "output_type": "execute_result"
    }
   ],
   "source": [
    "class D(B,C):\n",
    "    def truth(self,num):\n",
    "        if num%2 == 0:\n",
    "            return A.truth(self)\n",
    "        else:\n",
    "            return super().truth()\n",
    "            \n",
    "d = D()\n",
    "d.truth(6)"
   ]
  },
  {
   "cell_type": "code",
   "execution_count": 12,
   "metadata": {},
   "outputs": [
    {
     "data": {
      "text/plain": [
       "'Some numbers are even'"
      ]
     },
     "execution_count": 12,
     "metadata": {},
     "output_type": "execute_result"
    }
   ],
   "source": [
    "d.truth(5)"
   ]
  },
  {
   "cell_type": "markdown",
   "metadata": {},
   "source": [
    "In the above example, if we pass an even number to `d.truth()`, we'll believe the `A` version of `.truth()` and run with it. Otherwise, follow the MRO and return the more general case."
   ]
  },
  {
   "cell_type": "markdown",
   "metadata": {},
   "source": [
    "For more information on `super()` visit https://docs.python.org/3/library/functions.html#super<br>  and https://rhettinger.wordpress.com/2011/05/26/super-considered-super/"
   ]
  },
  {
   "cell_type": "markdown",
   "metadata": {},
   "source": [
    "# What happens when class attribute, instance attribute, and method all have the same name?  "
   ]
  },
  {
   "cell_type": "code",
   "execution_count": 14,
   "metadata": {},
   "outputs": [
    {
     "name": "stdout",
     "output_type": "stream",
     "text": [
      "<function Exam.test at 0x00000205E5C6D8C8>\n"
     ]
    }
   ],
   "source": [
    "class Exam(object):\n",
    "    test = \"class var\"\n",
    "    def __init__(self, n):\n",
    "        self.test = n\n",
    "    def test(self):\n",
    "        print (\"method : \",self.test)\n",
    "        \n",
    "test_o = Exam(\"Fine\")\n",
    "\n",
    "print (Exam.test)"
   ]
  },
  {
   "cell_type": "code",
   "execution_count": 18,
   "metadata": {},
   "outputs": [
    {
     "data": {
      "text/plain": [
       "2"
      ]
     },
     "execution_count": 18,
     "metadata": {},
     "output_type": "execute_result"
    }
   ],
   "source": [
    "instance = Exam(2)\n",
    "instance.test"
   ]
  },
  {
   "cell_type": "code",
   "execution_count": 19,
   "metadata": {},
   "outputs": [
    {
     "name": "stdout",
     "output_type": "stream",
     "text": [
      "method :  2\n"
     ]
    }
   ],
   "source": [
    "Exam.test(instance)"
   ]
  },
  {
   "cell_type": "markdown",
   "metadata": {},
   "source": [
    "**Comments**  \n",
    "\n",
    "* Class attributes are accessible through the class:  YourClass.clsattribute, or through the instance (if the instance has not overwritten the class attribute): instance.clsattribute \n",
    "\n",
    "* Methods are descriptors and are set as class attributes. If you access a method through the instance, then the instance is passed as the self parameter to the descriptor. If you want to call a method from the class, then you must explicitly pass an instance as the first argument. So these are equivalent:\n",
    "    - instance.method()\n",
    "    - MyClass.method(instance)\n",
    "\n",
    "* Using the same name for an instance attribute and a method will make the method hidden via the instance, but the method is still available via the class:"
   ]
  },
  {
   "cell_type": "code",
   "execution_count": 3,
   "metadata": {},
   "outputs": [
    {
     "data": {
      "text/plain": [
       "<function __main__.C.a>"
      ]
     },
     "execution_count": 3,
     "metadata": {},
     "output_type": "execute_result"
    }
   ],
   "source": [
    "class C:\n",
    "    def __init__(self):\n",
    "         self.a = 1\n",
    "    def a(self):\n",
    "         print('hello')\n",
    "C.a"
   ]
  },
  {
   "cell_type": "code",
   "execution_count": 4,
   "metadata": {},
   "outputs": [
    {
     "data": {
      "text/plain": [
       "1"
      ]
     },
     "execution_count": 4,
     "metadata": {},
     "output_type": "execute_result"
    }
   ],
   "source": [
    "instance = C()\n",
    "instance.a"
   ]
  },
  {
   "cell_type": "code",
   "execution_count": 5,
   "metadata": {},
   "outputs": [
    {
     "name": "stdout",
     "output_type": "stream",
     "text": [
      "hello\n"
     ]
    }
   ],
   "source": [
    "C.a(instance)"
   ]
  },
  {
   "cell_type": "markdown",
   "metadata": {},
   "source": [
    "Conclusion: do not give the same name to instance attributes and methods. I avoid this by giving meaningful names. Methods are actions, so I usually use verbs or sentences for them. Attributes are data, so I use nouns/adjectives for them, and this avoids using the same names for both methods and attributes.  \n",
    "\n",
    "Note that you simply cannot have a class attribute with the same name as a method, because the method would completely override it (in the end, methods are just class attributes that are callable and that automatically receive an instance of the class as first attribute).  "
   ]
  }
 ],
 "metadata": {
  "kernelspec": {
   "display_name": "Python 3",
   "language": "python",
   "name": "python3"
  },
  "language_info": {
   "codemirror_mode": {
    "name": "ipython",
    "version": 3
   },
   "file_extension": ".py",
   "mimetype": "text/x-python",
   "name": "python",
   "nbconvert_exporter": "python",
   "pygments_lexer": "ipython3",
   "version": "3.6.4"
  }
 },
 "nbformat": 4,
 "nbformat_minor": 2
}
