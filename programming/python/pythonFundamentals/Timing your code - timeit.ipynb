{
 "cells": [
  {
   "cell_type": "markdown",
   "metadata": {},
   "source": [
    "# Timing with time.time\n",
    "the big difference between explicit loops and vectorization\n",
    "See more about vectorization in https://stackoverflow.com/questions/35091979/why-is-vectorization-faster-in-general-than-loops.  Vectorization uses special hardware. Unlike a multicore CPU, for which each of the parallel processing units is a fully functional CPU core, vector processing units can perform only simple operations, and all the units perform the same operation at the same time, operating on a sequence of data values (a vector) simultaneously. This is not same as the traditional multi-threading.  \n",
    "* Avoid explicit loops as much as possible and favor vectorization. \n",
    "* Avoid using list, DataFrames to calculate and favor numpy arrays."
   ]
  },
  {
   "cell_type": "markdown",
   "metadata": {},
   "source": [
    "In the following example, the same calculation with vectorization can be 500 times faster. Vectorization can be much faster in either CPU or GPU. In numpy, if v is vector, then directly use np.exp(v), np.log(v), np.abs(v)... will be much faster than the for loop version. \n"
   ]
  },
  {
   "cell_type": "code",
   "execution_count": 4,
   "metadata": {},
   "outputs": [
    {
     "name": "stdout",
     "output_type": "stream",
     "text": [
      "249974.5258138627\n",
      "Vectorization version: 1.0030269622802734ms\n",
      "249974.52581385977\n",
      "For loop version: 571.9444751739502ms\n"
     ]
    }
   ],
   "source": [
    "import time\n",
    "import numpy as np\n",
    "\n",
    "a = np.random.rand(1000000)\n",
    "b = np.random.rand(1000000)\n",
    "\n",
    "tic = time.time()\n",
    "c = np.dot(a,b)\n",
    "toc = time.time()\n",
    "print(c)\n",
    "print(\"Vectorization version: \"+str(1000*(toc-tic))+\"ms\")\n",
    "\n",
    "c = 0\n",
    "tic = time.time()\n",
    "for i in range(1000000):\n",
    "    c += a[i]*b[i]\n",
    "toc = time.time()\n",
    "print(c)\n",
    "print(\"For loop version: \"+str(1000*(toc-tic))+\"ms\")"
   ]
  },
  {
   "cell_type": "code",
   "execution_count": 22,
   "metadata": {},
   "outputs": [
    {
     "name": "stdout",
     "output_type": "stream",
     "text": [
      "(1000000, 1) (1, 1000000)\n",
      "[[249982.58653862]]\n",
      "Vectorization version: 0.0ms\n",
      "[249982.58653862]\n",
      "For loop version: 1857.5315475463867ms\n"
     ]
    }
   ],
   "source": [
    "import time\n",
    "import numpy as np\n",
    "\n",
    "a = np.random.rand(1000000,1)\n",
    "b = np.random.rand(1000000,1)\n",
    "ra = np.transpose(a)\n",
    "print(a.shape, ra.shape)\n",
    "\n",
    "tic = time.time()\n",
    "c = np.dot(np.transpose(a),b) \n",
    "#This inner-dot is consistent with the mathematical defintion.\n",
    "#However, np.dot(a,np.transpose(b)) will give a matrix (outer product, even though it is called dot)\n",
    "\n",
    "toc = time.time()\n",
    "print(c)\n",
    "print(\"Vectorization version: \"+str(1000*(toc-tic))+\"ms\")\n",
    "#The performance here has NOT been affected after reshaping a and b to be column vectors. \n",
    "\n",
    "d = 0\n",
    "tic = time.time()\n",
    "for i in range(1000000):\n",
    "    d += a[i]*b[i]\n",
    "toc = time.time()\n",
    "print(d)\n",
    "print(\"For loop version: \"+str(1000*(toc-tic))+\"ms\")\n",
    "# The performance get three times slower after reshaping a and be to be column vectors. "
   ]
  },
  {
   "cell_type": "markdown",
   "metadata": {},
   "source": [
    "# Timing with timeit.timeit \n",
    "Python has a built-in timing module to timing your code. This module provides a simple way to time small bits of Python code. It has **both a Command-Line Interface as well as a callable one**. It avoids a number of common traps for measuring execution times. "
   ]
  },
  {
   "cell_type": "code",
   "execution_count": 11,
   "metadata": {},
   "outputs": [],
   "source": [
    "import timeit"
   ]
  },
  {
   "cell_type": "markdown",
   "metadata": {},
   "source": [
    "Let's use timeit to time various methods of creating the string '0-1-2-3-.....-99'"
   ]
  },
  {
   "cell_type": "code",
   "execution_count": 12,
   "metadata": {},
   "outputs": [
    {
     "data": {
      "text/plain": [
       "0.24557954196961873"
      ]
     },
     "execution_count": 12,
     "metadata": {},
     "output_type": "execute_result"
    }
   ],
   "source": [
    "# For loop\n",
    "timeit.timeit('\"-\".join(str(n) for n in range(100))', number=10000)"
   ]
  },
  {
   "cell_type": "code",
   "execution_count": 13,
   "metadata": {},
   "outputs": [
    {
     "data": {
      "text/plain": [
       "0.21757246250376738"
      ]
     },
     "execution_count": 13,
     "metadata": {},
     "output_type": "execute_result"
    }
   ],
   "source": [
    "# List comprehension\n",
    "timeit.timeit('\"-\".join([str(n) for n in range(100)])', number=10000)"
   ]
  },
  {
   "cell_type": "code",
   "execution_count": 17,
   "metadata": {},
   "outputs": [
    {
     "data": {
      "text/plain": [
       "0.17361728926744036"
      ]
     },
     "execution_count": 17,
     "metadata": {},
     "output_type": "execute_result"
    }
   ],
   "source": [
    "# Map()\n",
    "timeit.timeit('\"-\".join(map(str, range(100)))', number=10000)"
   ]
  },
  {
   "cell_type": "markdown",
   "metadata": {},
   "source": [
    "We see a significant time difference by using map()! This is good to know and we should keep this in mind.\n",
    "\n",
    "Now let's introduce iPython's magic function **%timeit**<br>, which is specific to jupyter notebooks!*\n",
    "\n",
    "iPython's %timeit will perform the same lines of code a certain number of times (loops) and will give you the fastest performance time (best of 3).\n",
    "\n",
    "Now repeat the above examinations using iPython magic!"
   ]
  },
  {
   "cell_type": "code",
   "execution_count": 8,
   "metadata": {},
   "outputs": [
    {
     "name": "stdout",
     "output_type": "stream",
     "text": [
      "23.9 µs ± 75 ns per loop (mean ± std. dev. of 7 runs, 10000 loops each)\n"
     ]
    }
   ],
   "source": [
    "%timeit \"-\".join(str(n) for n in range(100))"
   ]
  },
  {
   "cell_type": "code",
   "execution_count": 9,
   "metadata": {},
   "outputs": [
    {
     "name": "stdout",
     "output_type": "stream",
     "text": [
      "20.7 µs ± 86.8 ns per loop (mean ± std. dev. of 7 runs, 10000 loops each)\n"
     ]
    }
   ],
   "source": [
    "%timeit \"-\".join([str(n) for n in range(100)])"
   ]
  },
  {
   "cell_type": "code",
   "execution_count": 10,
   "metadata": {},
   "outputs": [
    {
     "name": "stdout",
     "output_type": "stream",
     "text": [
      "16.2 µs ± 214 ns per loop (mean ± std. dev. of 7 runs, 100000 loops each)\n"
     ]
    }
   ],
   "source": [
    "%timeit \"-\".join(map(str, range(100)))"
   ]
  },
  {
   "cell_type": "markdown",
   "metadata": {},
   "source": [
    "It's important to note that iPython will limit the amount of *real time* it will spend on its timeit procedure. For instance if running 100000 loops took 10 minutes, iPython would automatically reduce the number of loops to something more reasonable like 100 or 1000.\n",
    "\n",
    "Now we can we can easily time lines of code both in and out of iPython. Check out the documentation for more information:\n",
    "https://docs.python.org/3/library/timeit.html"
   ]
  },
  {
   "cell_type": "markdown",
   "metadata": {},
   "source": [
    "# Time.time vs timeit.timeit\n",
    "https://stackoverflow.com/questions/17579357/time-time-vs-timeit-timeit\n",
    "timeit is more accurate, for three reasons:\n",
    "\n",
    "- it repeats the tests many times to eliminate the influence of other tasks on your machine, such as disk flushing and OS scheduling.  \n",
    "- it disables the garbage collector to prevent that process from skewing the results by scheduling a collection run at an inopportune moment.  \n",
    "- it picks the most accurate timer for your OS, time.time or time.clock in Python 2 and time.perf_counter() on Python 3. See timeit.default_timer.  "
   ]
  }
 ],
 "metadata": {
  "kernelspec": {
   "display_name": "Python 3",
   "language": "python",
   "name": "python3"
  },
  "language_info": {
   "codemirror_mode": {
    "name": "ipython",
    "version": 3
   },
   "file_extension": ".py",
   "mimetype": "text/x-python",
   "name": "python",
   "nbconvert_exporter": "python",
   "pygments_lexer": "ipython3",
   "version": "3.6.4"
  }
 },
 "nbformat": 4,
 "nbformat_minor": 1
}
