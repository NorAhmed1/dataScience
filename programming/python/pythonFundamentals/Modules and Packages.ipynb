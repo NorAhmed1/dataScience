{
 "cells": [
  {
   "cell_type": "markdown",
   "metadata": {},
   "source": [
    "# Modules and Packages Basics\n",
    "\n",
    "* One of the key features of Python is that the actual core language is fairly small. This is an intentional design feature to maintain simplicity. Much of the powerful functionality comes through external modules and packages.\n",
    "\n",
    "* Modules are just .py scripts call in another .py scrips. Packages are collection of modules.\n",
    "\n",
    "The best online resource is the official docs:\n",
    "https://docs.python.org/3/tutorial/modules.html#packages\n",
    "\n",
    "\n",
    "\n",
    "## Modules basics\n",
    "### Create and import modules\n",
    "The first time a module is loaded into a running Python script, it is initialized by executing the code in the module once. If another module in your code imports the same module again, it will not be loaded twice but once only - so local variables inside the module act as a \"singleton\" - they are initialized only once.  \n",
    "\n",
    "A general rule of thumb is that from <module> import * is OK for interactive analysis within IPython but you should avoid using it within scripts.\n",
    "\n",
    "\n"
   ]
  },
  {
   "cell_type": "code",
   "execution_count": 1,
   "metadata": {
    "scrolled": true
   },
   "outputs": [
    {
     "name": "stdout",
     "output_type": "stream",
     "text": [
      "Writing file1.py\n"
     ]
    }
   ],
   "source": [
    "%%writefile file1.py\n",
    "def myfunc(x):\n",
    "    return [num for num in range(x) if num%2==0]\n",
    "list1 = myfunc(11)"
   ]
  },
  {
   "cell_type": "markdown",
   "metadata": {},
   "source": [
    "file1.py is going to be used as a module."
   ]
  },
  {
   "cell_type": "code",
   "execution_count": 3,
   "metadata": {},
   "outputs": [
    {
     "name": "stdout",
     "output_type": "stream",
     "text": [
      "Overwriting file2.py\n"
     ]
    }
   ],
   "source": [
    "%%writefile file2.py\n",
    "import file1 #We can also use: from file1 import myfunc\n",
    "file1.list1.append(12)\n",
    "print(file1.list1)"
   ]
  },
  {
   "cell_type": "code",
   "execution_count": 4,
   "metadata": {},
   "outputs": [
    {
     "name": "stdout",
     "output_type": "stream",
     "text": [
      "[0, 2, 4, 6, 8, 10, 12]\n"
     ]
    }
   ],
   "source": [
    "! python file2.py"
   ]
  },
  {
   "cell_type": "code",
   "execution_count": 5,
   "metadata": {},
   "outputs": [
    {
     "name": "stdout",
     "output_type": "stream",
     "text": [
      "[0, 2, 4, 6, 8, 10]\n"
     ]
    }
   ],
   "source": [
    "import file1\n",
    "print(file1.list1)"
   ]
  },
  {
   "cell_type": "markdown",
   "metadata": {},
   "source": [
    "The above cell proves that we never altered file1.py, we just appended a number to the list *after* it was brought into file2. The following is an example on how to import function of a module but not import the module name."
   ]
  },
  {
   "cell_type": "code",
   "execution_count": 7,
   "metadata": {},
   "outputs": [
    {
     "name": "stdout",
     "output_type": "stream",
     "text": [
      "Writing myModule.py\n"
     ]
    }
   ],
   "source": [
    "%%writefile myModule.py\n",
    "def func(): #func can have not arguments but () cannot be eliminated. \n",
    "    return [num for num in range(10) if num%2==0]"
   ]
  },
  {
   "cell_type": "code",
   "execution_count": 8,
   "metadata": {},
   "outputs": [
    {
     "name": "stdout",
     "output_type": "stream",
     "text": [
      "Writing myApp.py\n"
     ]
    }
   ],
   "source": [
    "%%writefile myApp.py\n",
    "from myModule import func\n",
    "\n",
    "print(func()) #func can have not arguments but () cannot be eliminated. "
   ]
  },
  {
   "cell_type": "code",
   "execution_count": 9,
   "metadata": {},
   "outputs": [
    {
     "name": "stdout",
     "output_type": "stream",
     "text": [
      "[0, 2, 4, 6, 8]\n"
     ]
    }
   ],
   "source": [
    "!python myApp.py"
   ]
  },
  {
   "cell_type": "markdown",
   "metadata": {},
   "source": [
    "### Passing command line arguments\n",
    "Python's `sys` module gives you access to command line arguments when calling scripts."
   ]
  },
  {
   "cell_type": "code",
   "execution_count": 5,
   "metadata": {},
   "outputs": [
    {
     "name": "stdout",
     "output_type": "stream",
     "text": [
      "Overwriting file3.py\n"
     ]
    }
   ],
   "source": [
    "%%writefile file3.py\n",
    "import sys\n",
    "import file1\n",
    "num = int(sys.argv[1])\n",
    "\n",
    "#extra code\n",
    "print(type(sys))\n",
    "print(sys)\n",
    "print(sys.argv[0])\n",
    "print(sys.argv[1])\n",
    "#extra code\n",
    "\n",
    "print(file1.myfunc(num))"
   ]
  },
  {
   "cell_type": "markdown",
   "metadata": {},
   "source": [
    "Note that we selected the second item in the list of arguments with `sys.argv[1]`.<br>\n",
    "This is because the list created with `sys.argv` always starts with the name of the file being used.<br>"
   ]
  },
  {
   "cell_type": "code",
   "execution_count": 6,
   "metadata": {},
   "outputs": [
    {
     "name": "stdout",
     "output_type": "stream",
     "text": [
      "<class 'module'>\n",
      "<module 'sys' (built-in)>\n",
      "file3.py\n",
      "27\n",
      "[0, 2, 4, 6, 8, 10, 12, 14, 16, 18, 20, 22, 24, 26]\n"
     ]
    }
   ],
   "source": [
    "! python file3.py 27"
   ]
  },
  {
   "cell_type": "markdown",
   "metadata": {},
   "source": [
    "### Exploring built-in modules\n",
    "Two very important functions come in handy when exploring modules in Python - the <code>dir</code> and <code>help</code> functions. (1) We can look for which functions are implemented in each module by using the <code>dir</code> function. (2) When we find the function in the module we want to use, we can read about it more using the <code>help</code> function. **In Jupyter, use Shift+Tab. In VS code, it might be OK to use right clicking**. "
   ]
  },
  {
   "cell_type": "code",
   "execution_count": 15,
   "metadata": {},
   "outputs": [
    {
     "name": "stdout",
     "output_type": "stream",
     "text": [
      "['__doc__', '__loader__', '__name__', '__package__', '__spec__', 'acos', 'acosh', 'asin', 'asinh', 'atan', 'atan2', 'atanh', 'ceil', 'copysign', 'cos', 'cosh', 'degrees', 'e', 'erf', 'erfc', 'exp', 'expm1', 'fabs', 'factorial', 'floor', 'fmod', 'frexp', 'fsum', 'gamma', 'gcd', 'hypot', 'inf', 'isclose', 'isfinite', 'isinf', 'isnan', 'ldexp', 'lgamma', 'log', 'log10', 'log1p', 'log2', 'modf', 'nan', 'pi', 'pow', 'radians', 'sin', 'sinh', 'sqrt', 'tan', 'tanh', 'tau', 'trunc']\n"
     ]
    }
   ],
   "source": [
    "import math\n",
    "print(dir(math))"
   ]
  },
  {
   "cell_type": "code",
   "execution_count": 16,
   "metadata": {},
   "outputs": [
    {
     "name": "stdout",
     "output_type": "stream",
     "text": [
      "Help on built-in function ceil in module math:\n",
      "\n",
      "ceil(...)\n",
      "    ceil(x)\n",
      "    \n",
      "    Return the ceiling of x as an Integral.\n",
      "    This is the smallest integer >= x.\n",
      "\n"
     ]
    }
   ],
   "source": [
    "help(math.ceil)"
   ]
  },
  {
   "cell_type": "markdown",
   "metadata": {},
   "source": [
    "## Packages basics\n",
    "Packages are name-spaces which contain multiple packages and modules themselves. They are simply directories, but with a twist.\n",
    "\n",
    "Each package in Python is a directory which MUST contain a special file called **\\__init\\__.py**. This file can be empty, and it indicates that the directory it contains is a Python package, so it can be imported the same way a module can be imported.\n",
    "\n",
    "If we create a directory called foo, which marks the package name, we can then create a module inside that package called bar. We also must not forget to add the **\\__init\\__.py** file inside the foo directory.\n",
    "\n",
    "To use the module bar, we can import it in two ways:\n",
    "\n",
    "### Create and import packages"
   ]
  },
  {
   "cell_type": "code",
   "execution_count": null,
   "metadata": {
    "collapsed": true
   },
   "outputs": [],
   "source": [
    "import foo.bar"
   ]
  },
  {
   "cell_type": "code",
   "execution_count": null,
   "metadata": {},
   "outputs": [],
   "source": [
    "# OR could do it this way\n",
    "from foo import bar"
   ]
  },
  {
   "cell_type": "markdown",
   "metadata": {},
   "source": [
    "In the first method, we must use the foo prefix whenever we access the module bar. In the second method, we don't, because we import the module to our module's name-space.\n",
    "\n",
    "The **\\__init\\__.py** file can also decide which modules the package exports as the API, while keeping other modules internal, by overriding the **\\__all\\__** variable, like so:"
   ]
  },
  {
   "cell_type": "code",
   "execution_count": null,
   "metadata": {},
   "outputs": [],
   "source": [
    "__init__.py:\n",
    "\n",
    "__all__ = [\"bar\"]"
   ]
  },
  {
   "cell_type": "markdown",
   "metadata": {
    "collapsed": true
   },
   "source": [
    "Check a Flask example from the following folder: C:\\Users\\ljyan\\Desktop\\courseNotes\\web\\Flask\\06-Larger-Flask-Applications\\01-Using-Blueprints\\myproject\\__init__.py. There we have a different story. "
   ]
  },
  {
   "cell_type": "markdown",
   "metadata": {},
   "source": [
    "### __main__  and __name__  \n",
    "When running your script, python will first initialize some hidden special variables. `__name__` is one of them. If run the code directly with \"python script name\", or Ctrl-shift in Jupyter to run a block, then the `__name__` is initialized as `__main__`. If we run the script by import it, then `__name__` is initialized as the module name.  \n",
    "\n",
    "**My comments**. Either the imported modules, or the current module (not the imported) all have their `__name__`'s. What will assigned to these `__name__`'s are decided by whether these modules are imported or not. **The key is there are many `__name__`'s to be assigned**. \n",
    "\n",
    "Python has no main() as in C/C++, the code in indentation level 0 is automatically the code to run. That is, they are the main() codes.\n",
    "\n",
    "**Be careful the following code: if `__name__`=='__main__', but not if `__name__`== __main__**\n",
    "\n",
    "**Example 1** "
   ]
  },
  {
   "cell_type": "code",
   "execution_count": 21,
   "metadata": {},
   "outputs": [
    {
     "name": "stdout",
     "output_type": "stream",
     "text": [
      "Overwriting printExample.py\n"
     ]
    }
   ],
   "source": [
    "%%writefile printExample.py\n",
    "if __name__ == '__main__':\n",
    "    print(\"hello\")\n",
    "else:\n",
    "    print(\"printExample module's name: {}\".format(__name__))"
   ]
  },
  {
   "cell_type": "code",
   "execution_count": 22,
   "metadata": {},
   "outputs": [
    {
     "name": "stdout",
     "output_type": "stream",
     "text": [
      "hello\n"
     ]
    }
   ],
   "source": [
    "# Need keep the .py in the file name in the following.\n",
    "!python printExample.py\n",
    "# However, when importing the module, I don't need .py. "
   ]
  },
  {
   "cell_type": "code",
   "execution_count": 23,
   "metadata": {},
   "outputs": [
    {
     "name": "stdout",
     "output_type": "stream",
     "text": [
      "Writing secondFile\n"
     ]
    }
   ],
   "source": [
    "%%writefile secondFile\n",
    "import printExample"
   ]
  },
  {
   "cell_type": "code",
   "execution_count": 24,
   "metadata": {},
   "outputs": [
    {
     "name": "stdout",
     "output_type": "stream",
     "text": [
      "printExample module's name: printExample\n"
     ]
    }
   ],
   "source": [
    "!python secondFile"
   ]
  },
  {
   "cell_type": "code",
   "execution_count": 25,
   "metadata": {},
   "outputs": [
    {
     "name": "stdout",
     "output_type": "stream",
     "text": [
      "Overwriting secondFile\n"
     ]
    }
   ],
   "source": [
    "%%writefile secondFile\n",
    "#Now change the secondFile to be:\n",
    "import printExample\n",
    "print(\"SecondFile module's name: {}\".format(__name__))"
   ]
  },
  {
   "cell_type": "code",
   "execution_count": 33,
   "metadata": {},
   "outputs": [
    {
     "name": "stdout",
     "output_type": "stream",
     "text": [
      "printExample module's name: printExample\n",
      "SecondFile module's name: __main__\n"
     ]
    }
   ],
   "source": [
    "!python secondFile\n",
    "#Next we explore why the __name__ and __main__ is useful"
   ]
  },
  {
   "cell_type": "markdown",
   "metadata": {},
   "source": [
    "**Example 2**"
   ]
  },
  {
   "cell_type": "code",
   "execution_count": 27,
   "metadata": {},
   "outputs": [
    {
     "name": "stdout",
     "output_type": "stream",
     "text": [
      "Overwriting printExample.py\n"
     ]
    }
   ],
   "source": [
    "%%writefile printExample.py\n",
    "def main():\n",
    "    print(\"printExample module's name: {}\".format(__name__))\n",
    "if __name__ == '__main__':\n",
    "    main()"
   ]
  },
  {
   "cell_type": "code",
   "execution_count": 28,
   "metadata": {},
   "outputs": [
    {
     "name": "stdout",
     "output_type": "stream",
     "text": [
      "printExample module's name: __main__\n"
     ]
    }
   ],
   "source": [
    "!python printExample.py"
   ]
  },
  {
   "cell_type": "code",
   "execution_count": 29,
   "metadata": {},
   "outputs": [
    {
     "name": "stdout",
     "output_type": "stream",
     "text": [
      "Overwriting secondFile\n"
     ]
    }
   ],
   "source": [
    "%%writefile secondFile\n",
    "import printExample\n",
    "print(\"SecondFile module's name: {}\".format(__name__))"
   ]
  },
  {
   "cell_type": "code",
   "execution_count": 30,
   "metadata": {},
   "outputs": [
    {
     "name": "stdout",
     "output_type": "stream",
     "text": [
      "SecondFile module's name: __main__\n"
     ]
    }
   ],
   "source": [
    "!python secondFile"
   ]
  },
  {
   "cell_type": "markdown",
   "metadata": {},
   "source": [
    "In the above code. when importing printExample, the __name__ is set to the module name  (i.e,printExample here) but not __main__. So the main() in the printExample.py will not be run. \n",
    "\n",
    "**Example 3** "
   ]
  },
  {
   "cell_type": "code",
   "execution_count": 135,
   "metadata": {},
   "outputs": [
    {
     "name": "stdout",
     "output_type": "stream",
     "text": [
      "Overwriting printExample.py\n"
     ]
    }
   ],
   "source": [
    "%%writefile printExample.py\n",
    "if __name__ == '__main__':\n",
    "    print(\"Run directly!\")\n",
    "else:\n",
    "    print(\"Run indirectly\")\n"
   ]
  },
  {
   "cell_type": "code",
   "execution_count": 136,
   "metadata": {},
   "outputs": [
    {
     "name": "stdout",
     "output_type": "stream",
     "text": [
      "Run directly!\n"
     ]
    }
   ],
   "source": [
    "!python printExample.py"
   ]
  },
  {
   "cell_type": "code",
   "execution_count": 140,
   "metadata": {},
   "outputs": [
    {
     "name": "stdout",
     "output_type": "stream",
     "text": [
      "Overwriting secondFile\n"
     ]
    }
   ],
   "source": [
    "%%writefile secondFile\n",
    "import printExample\n",
    "print(\"SecondFile module's name: {}\".format(__name__))"
   ]
  },
  {
   "cell_type": "code",
   "execution_count": 138,
   "metadata": {},
   "outputs": [
    {
     "name": "stdout",
     "output_type": "stream",
     "text": [
      "Run indirectly\n",
      "SecondFile module's name: __main__\n"
     ]
    }
   ],
   "source": [
    "!python secondFile"
   ]
  },
  {
   "cell_type": "markdown",
   "metadata": {},
   "source": [
    "**Example 4** "
   ]
  },
  {
   "cell_type": "code",
   "execution_count": 141,
   "metadata": {},
   "outputs": [
    {
     "name": "stdout",
     "output_type": "stream",
     "text": [
      "Overwriting printExample.py\n"
     ]
    }
   ],
   "source": [
    "%%writefile printExample.py\n",
    "print(\"This will always be run\")\n",
    "\n",
    "def main():\n",
    "    print(\"printExample module's name: {}\".format(__name__))\n",
    "if __name__ == '__main__':\n",
    "    main()"
   ]
  },
  {
   "cell_type": "code",
   "execution_count": 142,
   "metadata": {},
   "outputs": [
    {
     "name": "stdout",
     "output_type": "stream",
     "text": [
      "Overwriting secondFile\n"
     ]
    }
   ],
   "source": [
    "%%writefile secondFile\n",
    "import printExample\n",
    "print(\"SecondFile module's name: {}\".format(__name__))"
   ]
  },
  {
   "cell_type": "code",
   "execution_count": 108,
   "metadata": {},
   "outputs": [
    {
     "name": "stdout",
     "output_type": "stream",
     "text": [
      "This will always be run\n",
      "SecondFile module's name: __main__\n"
     ]
    }
   ],
   "source": [
    "!python secondFile"
   ]
  },
  {
   "cell_type": "markdown",
   "metadata": {},
   "source": [
    "The main() of printExample is not run when we run secondFile because in the second file, printExample is imported, and thus its __name__ is not set to __main__. However, if we really want to run the main() in the printExample, change the secondFile to be \n"
   ]
  },
  {
   "cell_type": "code",
   "execution_count": 31,
   "metadata": {},
   "outputs": [
    {
     "name": "stdout",
     "output_type": "stream",
     "text": [
      "Overwriting secondFile\n"
     ]
    }
   ],
   "source": [
    "%%writefile secondFile\n",
    "import printExample\n",
    "printExample.main()\n",
    "print(\"SecondFile module's name: {}\".format(__name__))"
   ]
  },
  {
   "cell_type": "code",
   "execution_count": 32,
   "metadata": {},
   "outputs": [
    {
     "name": "stdout",
     "output_type": "stream",
     "text": [
      "printExample module's name: printExample\n",
      "SecondFile module's name: __main__\n"
     ]
    }
   ],
   "source": [
    "!python secondFile"
   ]
  },
  {
   "cell_type": "markdown",
   "metadata": {},
   "source": [
    "# Modules and Packages: Advanced"
   ]
  },
  {
   "cell_type": "markdown",
   "metadata": {},
   "source": [
    "## Where are the packages?\n",
    "\n",
    "### Where to find packages to install?\n",
    "PyPI  \n",
    "The Python Package Index is the main repository for 3rd party Python packages (about 14000 packages and growing). \n",
    "The advantage of being on PyPI is the ease of installation using pip install <package_name>.    "
   ]
  },
  {
   "cell_type": "markdown",
   "metadata": {},
   "source": [
    "### Where are the packages installed?"
   ]
  },
  {
   "cell_type": "markdown",
   "metadata": {},
   "source": [
    "#### Method 1\n",
    "https://stackoverflow.com/questions/122327/how-do-i-find-the-location-of-my-python-site-packages-directory\n",
    "\n",
    "There are two types of site-packages directories, global and per user.  \n",
    "(1) Global site-packages (\"dist-packages\") directories are listed in sys.path when you run:  \n",
    "python -m site\n",
    "(2) The per user site-packages directory (PEP 370) is where Python installs your local packages:\n",
    "python -m site --user-site"
   ]
  },
  {
   "cell_type": "code",
   "execution_count": 7,
   "metadata": {},
   "outputs": [
    {
     "name": "stdout",
     "output_type": "stream",
     "text": [
      "sys.path = [\n",
      "    'C:\\\\Users\\\\ljyan\\\\Desktop\\\\courseNotes\\\\python\\\\pythonFundamentals',\n",
      "    'C:\\\\Users\\\\ljyan\\\\Anaconda3\\\\python36.zip',\n",
      "    'C:\\\\Users\\\\ljyan\\\\Anaconda3\\\\DLLs',\n",
      "    'C:\\\\Users\\\\ljyan\\\\Anaconda3\\\\lib',\n",
      "    'C:\\\\Users\\\\ljyan\\\\Anaconda3',\n",
      "    'C:\\\\Users\\\\ljyan\\\\AppData\\\\Roaming\\\\Python\\\\Python36\\\\site-packages',\n",
      "    'C:\\\\Users\\\\ljyan\\\\Anaconda3\\\\lib\\\\site-packages',\n",
      "    'C:\\\\Users\\\\ljyan\\\\Anaconda3\\\\lib\\\\site-packages\\\\win32',\n",
      "    'C:\\\\Users\\\\ljyan\\\\Anaconda3\\\\lib\\\\site-packages\\\\win32\\\\lib',\n",
      "    'C:\\\\Users\\\\ljyan\\\\Anaconda3\\\\lib\\\\site-packages\\\\Pythonwin',\n",
      "]\n",
      "USER_BASE: 'C:\\\\Users\\\\ljyan\\\\AppData\\\\Roaming\\\\Python' (exists)\n",
      "USER_SITE: 'C:\\\\Users\\\\ljyan\\\\AppData\\\\Roaming\\\\Python\\\\Python36\\\\site-packages' (exists)\n",
      "ENABLE_USER_SITE: True\n"
     ]
    }
   ],
   "source": [
    "import site\n",
    "!python -m site "
   ]
  },
  {
   "cell_type": "code",
   "execution_count": 21,
   "metadata": {},
   "outputs": [
    {
     "name": "stdout",
     "output_type": "stream",
     "text": [
      "C:\\Users\\ljyan\\AppData\\Roaming\\Python\\Python36\\site-packages\n"
     ]
    }
   ],
   "source": [
    "!python -m site --user-site"
   ]
  },
  {
   "cell_type": "markdown",
   "metadata": {},
   "source": [
    "#### Method 2"
   ]
  },
  {
   "cell_type": "code",
   "execution_count": null,
   "metadata": {},
   "outputs": [],
   "source": [
    "import os\n",
    "help(os)"
   ]
  },
  {
   "cell_type": "code",
   "execution_count": 22,
   "metadata": {},
   "outputs": [
    {
     "data": {
      "text/plain": [
       "['',\n",
       " 'C:\\\\Users\\\\ljyan\\\\Anaconda3\\\\python36.zip',\n",
       " 'C:\\\\Users\\\\ljyan\\\\Anaconda3\\\\DLLs',\n",
       " 'C:\\\\Users\\\\ljyan\\\\Anaconda3\\\\lib',\n",
       " 'C:\\\\Users\\\\ljyan\\\\Anaconda3',\n",
       " 'C:\\\\Users\\\\ljyan\\\\AppData\\\\Roaming\\\\Python\\\\Python36\\\\site-packages',\n",
       " 'C:\\\\Users\\\\ljyan\\\\Anaconda3\\\\lib\\\\site-packages',\n",
       " 'C:\\\\Users\\\\ljyan\\\\Anaconda3\\\\lib\\\\site-packages\\\\win32',\n",
       " 'C:\\\\Users\\\\ljyan\\\\Anaconda3\\\\lib\\\\site-packages\\\\win32\\\\lib',\n",
       " 'C:\\\\Users\\\\ljyan\\\\Anaconda3\\\\lib\\\\site-packages\\\\Pythonwin',\n",
       " 'C:\\\\Users\\\\ljyan\\\\Anaconda3\\\\lib\\\\site-packages\\\\IPython\\\\extensions',\n",
       " 'C:\\\\Users\\\\ljyan\\\\.ipython']"
      ]
     },
     "execution_count": 22,
     "metadata": {},
     "output_type": "execute_result"
    }
   ],
   "source": [
    "import sys\n",
    "sys.path"
   ]
  },
  {
   "cell_type": "markdown",
   "metadata": {},
   "source": [
    "### How Python looks for modules?\n",
    "When the Python interpreter executes an import statement, it looks for modules on a search path. A default value for the path is configured into the Python binary when the interpreter is built. You can determine the path by importing the sys module and printing the value of sys.path (introduced earlier).    \n",
    "Within a script it is possible to adjust the search path by modify sys.path which is just a Python list. Generally speaking you will want to put your path at the front of the list using insert:  \n",
    "\n",
    "import sys\n",
    "sys.path.insert(0, '/my/path/python/packages')"
   ]
  },
  {
   "cell_type": "markdown",
   "metadata": {
    "scrolled": true
   },
   "source": [
    "### Are python libraries compiled? \n",
    "Python can execute functions written in Python (interpreted) and compiled functions. There are whole API docs about writing code for integration with Python. cython is one of the easier tools for doing this.\n",
    "\n",
    "Libraries can be **any combination** - pure Python, Python plus interfaces to compiled code, or all compiled. The interpreted files end with .py, the compiled stuff usually is .so or .dll (depending on the operating system). It's easy to install pure Python code - just load, unzip if needed, and put the right directory. **Mixed code requires a compilation step (and hence a c compiler, etc), or downloading a version with binaries.**  \n",
    "\n",
    "Typically developers get the code working in Python, and then rewrite speed sensitive portions in c. Or they find some external library of working c or Fortran code, and link to that.  \n",
    "\n",
    "numpy and scipy are mixed. They have lots of Python code, core compiled portions, and use external libraries. And the c code can be extraordinarily hard to read.  \n",
    "\n",
    "As a numpy user, you should first try to get as much clarity and performance with Python code. Most of the optimization SO questions discuss ways of making use of the compiled functionality of numpy - all the operations that work on whole arrays. It's only when you can't express your operations in efficient numpy code that you need to resort to using a tool like cython or numba.\n",
    "\n",
    "In general if you have to iterate extensively then you are using low level operations. Either replace the loops with array operations, or rewrite the loop in cython.\n",
    "\n",
    "**Important point**. From above, we know that we cannot always find a source python script for any thing.  Here is an example true for linux. For a pure python module you can find the source by looking at themodule.__file__. The datetime module, however, is written in C, and therefore datetime.__file__ points to a .so file (there is no datetime.__file__ on Windows), and therefore, you can't see the source. "
   ]
  }
 ],
 "metadata": {
  "kernelspec": {
   "display_name": "Python 3",
   "language": "python",
   "name": "python3"
  },
  "language_info": {
   "codemirror_mode": {
    "name": "ipython",
    "version": 3
   },
   "file_extension": ".py",
   "mimetype": "text/x-python",
   "name": "python",
   "nbconvert_exporter": "python",
   "pygments_lexer": "ipython3",
   "version": "3.6.4"
  }
 },
 "nbformat": 4,
 "nbformat_minor": 2
}
