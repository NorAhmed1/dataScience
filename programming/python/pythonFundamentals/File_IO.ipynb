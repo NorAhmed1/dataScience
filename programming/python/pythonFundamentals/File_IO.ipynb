{
 "cells": [
  {
   "cell_type": "markdown",
   "metadata": {},
   "source": [
    "## Questions\n",
    "* Check the import data section of data-camp data science career track for python.\n",
    "\n",
    "## file IO with \n"
   ]
  },
  {
   "cell_type": "code",
   "execution_count": 2,
   "metadata": {},
   "outputs": [
    {
     "name": "stdout",
     "output_type": "stream",
     "text": [
      "Writing file1.py\n"
     ]
    }
   ],
   "source": [
    "%%writefile file1.py\n",
    "def myfunc(x):\n",
    "    return [num for num in range(x) if num%2==0]\n",
    "list1 = myfunc(11)\n",
    "# Make sure the syntax of following stuff: %%, writefile.\n",
    "# Note I cannot write comments before two %%. "
   ]
  },
  {
   "cell_type": "code",
   "execution_count": 1,
   "metadata": {},
   "outputs": [],
   "source": [
    "\n",
    "import csv\n",
    "\n",
    "all_chords = ['C', 'C', 'E', 'G']\n",
    "myfile = open('C_chords.csv','w')\n",
    "wr = csv.writer(myfile, delimiter=',')\n",
    "myfile.close()\n",
    "\n",
    "#Open in context manager\n",
    "with open ('companies', 'rb') as fp:\n",
    "     companies = pickle.load(fp)\n",
    "     #This way does not need to explicitly close the opened file. However,sometimes we need open a file and \n",
    "     #and then read the file contents to a list, then we don't want close the file first.\n",
    "     #Thus we need read the file in the current indentation level. Otherwise, the file is already close.\n",
    "\n",
    "    \n",
    "#Another example of opening in context manager\n",
    "with engine.connect() as con:\n",
    "    rs = con.execute(\"SELECT LastName, Title FROM Employee\")\n",
    "    df = pd.DataFrame(rs.fetchmany(size=3))\n",
    "    df.columns = rs.keys()\n",
    "\n",
    "print(len(df))\n",
    "\n",
    "print(df.head())"
   ]
  },
  {
   "cell_type": "markdown",
   "metadata": {},
   "source": [
    "## file IO with Pandas\n",
    "* This should be the most important IO scheme for data science. See another file for DataFrameCreation. "
   ]
  },
  {
   "cell_type": "code",
   "execution_count": null,
   "metadata": {},
   "outputs": [],
   "source": [
    "import pandas as pd\n",
    "df = pd.read_csv('filename')"
   ]
  },
  {
   "cell_type": "markdown",
   "metadata": {},
   "source": [
    "## file IO with Numpy\n",
    "\n",
    "In fact, I can use pandas to replace this. I can just read in a csv file with pd.read_csv and use the .values attribute to directly assign to np array. So the following is not critical. Knowing it is enough. \n",
    "\n",
    "If all data in csv file are numbers of array, use np.loadtext, we obtain directly np.array, without loading as dataframe and takes values as np array.\n"
   ]
  },
  {
   "cell_type": "code",
   "execution_count": null,
   "metadata": {},
   "outputs": [],
   "source": [
    "import numpy as np\n",
    "samples = np.loadtxt('seeds.csv',delimiter = ',')\n",
    "np.savetxt('new_points.csv', new_points, delimiter=\",\")\n"
   ]
  },
  {
   "cell_type": "markdown",
   "metadata": {},
   "source": [
    "## file IO with pickle\n",
    "\n",
    "**My Comments**: Unlike other approaches which is good for one format or other, this pickel method can handle either DataFrame in pandas, array in numpy, list in python. So whenever I just need output and then read in without readability for others, then picke is a general approach? And it save space?"
   ]
  },
  {
   "cell_type": "code",
   "execution_count": 9,
   "metadata": {},
   "outputs": [
    {
     "name": "stdout",
     "output_type": "stream",
     "text": [
      "   d  e\n",
      "0  1  a\n",
      "1  2  b\n",
      "2  3  c\n"
     ]
    }
   ],
   "source": [
    "import pandas as pd\n",
    "import numpy as np\n",
    "hello = pd.DataFrame({'d':[1,2,3],'e':['a', 'b', 'c']}) # don't forget the {}\n",
    "#hello = [['1',2,3], '2', 'a']\n",
    "#hello = np.array([1, 2 ,3])\n",
    "print(hello.head())\n",
    "import pickle\n",
    "with open('C:\\\\Users\\\\ljyan\\\\Desktop\\\\courseNotes\\\\python\\\\Summaries\\\\temp', 'wb') as fp:\n",
    "    pickle.dump(hello, fp)\n",
    "with open ('temp', 'rb') as fp:\n",
    "    x = pickle.load(fp)\n",
    "# How does pickle know the type of x. In the pickle file there might be such informaiton?"
   ]
  }
 ],
 "metadata": {
  "kernelspec": {
   "display_name": "Python 3",
   "language": "python",
   "name": "python3"
  },
  "language_info": {
   "codemirror_mode": {
    "name": "ipython",
    "version": 3
   },
   "file_extension": ".py",
   "mimetype": "text/x-python",
   "name": "python",
   "nbconvert_exporter": "python",
   "pygments_lexer": "ipython3",
   "version": "3.6.4"
  }
 },
 "nbformat": 4,
 "nbformat_minor": 2
}
