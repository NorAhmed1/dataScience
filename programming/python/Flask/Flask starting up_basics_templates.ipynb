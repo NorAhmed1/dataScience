{
 "cells": [
  {
   "cell_type": "markdown",
   "metadata": {},
   "source": [
    "## Installation Python, Atom and Flask"
   ]
  },
  {
   "cell_type": "markdown",
   "metadata": {},
   "source": [
    "### Install and configure Atom\n",
    "* Python has already been installed. So download and install Atom first. \n",
    "* File -> settings, check packages. Now click install, in the search form, type python, then find autocomplete-python, and install it. Then repeat the above to install another package of using terminal, which is called 'platformio-ide-terminal. After installing it, we may **click the + sign in the bottom left, and create a new terminal**. In windows, the default shell is Power Shell, but it might have issues with Conda. So to prevent Atom from using the default Windows Power Shell but use our just installed platformio-ide-terminal, we need do a fix: go to packages, click the settings button on the installed platformio-ide-terminal, find the shell override, and write: C:\\WINDOWS\\System32\\cmd.exe. After this, Atom will not use the Windows default Powerful shell, but use our installed new terminal. \n",
    "* File -> settings, check themes, then install the themes (color font, etc.) you like. This can be changed all time. \n",
    "\n",
    "**Important Comments**. \n",
    "Note in Atom we only install autocomplete-python package which is related to python. No python interpretor is installed, and thus we cannot debug line by line in Atom? Compare this to VS code debugging detailed in second part of this note. "
   ]
  },
  {
   "cell_type": "markdown",
   "metadata": {},
   "source": [
    "### Install Flask and create virtual environment\n",
    "\n",
    "* Create a virtual environment to make sure original .py code works even after new update from either python or Flask. This makes it possible to send others the parameters of virtual environment, and thus make sure others can use your code elsewhere without any issues due to system updates.  \n",
    "\n",
    "* For Conda, go to Conda webpage -> user guide -> tasks -> managing environments.... to have an idea what is going on. Note however, creating a virtual environment is not a must to run Flask. We can also install Flask directly on the current Python system and then run Flask directly there. This might have some issues as either Python or Flask keeps upgrading in the future.  \n",
    "\n",
    "* In a cmd window, go to: C:\\Users\\ljyan\\Desktop\\coursenotes\\web\\Flask, run: conda create -n myflaskenv flask. It says environment will be installed in C:\\users\\ljyan\\Anaconda3\\envs\\myflaskenv, which is not the directory I was in. \n",
    "\n",
    "* Activate the environment: activate myflaskenv. Once is is dene, there is a (myflaskenv) before the path I am running my code. \n",
    "\n",
    "* We can also run 'deactivate myflaskenv' to deactivate my virtual environment. \n",
    "\n",
    "* Go to: C:\\Users\\ljyan\\Desktop\\coursenotes\\web\\Flask where requirement.txt exists, run 'pip install -r requirements.txt'\n",
    "\n",
    "* Once the above installation is done. run python first, and within python, run import flask. If there are no error, then everything is fine now. "
   ]
  },
  {
   "cell_type": "markdown",
   "metadata": {},
   "source": [
    "## Resources for this course\n",
    "* There are many comments in the files provided that might be helpful. \n",
    "* Check what video course the topic being studied belongs to. Then find the video, and check the Q&A there. Usually there will be answer there. I can also search or study the Q&A in whole to find important questions. \n",
    "* If still not working, checking Google. "
   ]
  },
  {
   "cell_type": "markdown",
   "metadata": {},
   "source": [
    "## Section 7:  Flask basics\n",
    "All other sections before Section 7 focus on html, css and bootstrap (see relevant folders under the folder /web). "
   ]
  },
  {
   "cell_type": "markdown",
   "metadata": {},
   "source": [
    "### Running steps  \n",
    "* Click the + sign in the left bottom of Atom to open a terminal (note this is note defaulted to Windows Power Shell, but the newly installed one). \n",
    "\n",
    "* Click Atom -> File -> Open folder -> Browse to 'C:\\Users\\ljyan>cd C:\\Users\\ljyan\\Desktop\\courseNotes\\web\\Flask. This opens a big folder with almost all the files in the course. If we want to more specific, go to the 'above path\\02-Flask-Basics'. -> Then a project and a folder appear in the left of Atom IDE. -> double click a file and open it. -> click the file name at the left bottom, then it shows the path and file name copied. -> In the terminal. go to this path by: 'cd: the path', where the path is obtained by right clicking and Pasting the formerly copied path and filename, and deleting the file name part. \n",
    "\n",
    "* After arrive the path where the file located, run 'activate myflaskenv'. This should also be done in other folders. Without activating the virtual environment, I cannot go through, unless I have also install Flask in the relevant environment.\n",
    "\n",
    "* Run 'python filename' by using auto-complete. \n",
    "\n",
    "* Copy the http://127.0.0.1:5000/ in the terminal (don't use Ctrl-C) to a browser. \n",
    "\n",
    "**Note I cannot run directly this file within Jupyter notebook, but only run within my established virtual environment, as the former has not been configured properly.**  "
   ]
  },
  {
   "cell_type": "markdown",
   "metadata": {},
   "source": [
    "### Debugging mode steps\n",
    "* Set app.run(debug=True). \n",
    "* Make some error such as array out-of-range etc. and run the code. Then there will be error in the browser. \n",
    "* The errors is just like the error structure as given in the Jupyter notebook for Python. Usually we need just check the final ones. Others are sometimes also helpful. \n",
    "* In each error item shown above, there is a corresponding console icon to the right. To use this console, first go to the terminal with the running application, scrow up, and find the debugger PIN. Select it and copy it with right-click plus copy (not use Ctrl-C). \n",
    "* Click the small console mentioned above, and then paste the debugger PIN into it. After confirming this, go after the error item, and check the one-line console for debugging. **This provides a place for us to evaluate variables and check functions in that particular view (the page).** \n",
    "* **When deploy the app to production, never use (debug = True), otherwise, others may see your error information.** \n",
    "* **Important Note: The above debugging method might be replaced by a better way in VS Code, check it out later.** "
   ]
  },
  {
   "cell_type": "markdown",
   "metadata": {},
   "source": [
    "### 00-Hello-Puppy.py\n",
    "See running steps in the previous cell. "
   ]
  },
  {
   "cell_type": "code",
   "execution_count": null,
   "metadata": {},
   "outputs": [],
   "source": [
    "from flask import Flask\n",
    "app = Flask(__name__)\n",
    "\n",
    "@app.route('/')\n",
    "def index():\n",
    "    return '<h1>Hello Puppy!</h1>'\n",
    "\n",
    "if __name__ == '__main__':\n",
    "    app.run()"
   ]
  },
  {
   "cell_type": "markdown",
   "metadata": {},
   "source": [
    "The above file directly returns a html code, as it is wrapped by `<h1></h1>.`  "
   ]
  },
  {
   "cell_type": "markdown",
   "metadata": {},
   "source": [
    "### 01-Basic-Routes.py"
   ]
  },
  {
   "cell_type": "code",
   "execution_count": null,
   "metadata": {},
   "outputs": [],
   "source": [
    "from flask import Flask\n",
    "app = Flask(__name__)\n",
    "\n",
    "@app.route('/') #This is a decorator function to decorate another function index() by taking index() as its parameter. \n",
    "def index():  \n",
    "    return '<h1>Hello Puppy!</h1>'\n",
    "\n",
    "@app.route('/information')\n",
    "def info():\n",
    "    return '<h1>Puppies are cute!</h1>'\n",
    "\n",
    "if __name__ == '__main__':\n",
    "    app.run(debug=False)"
   ]
  },
  {
   "cell_type": "markdown",
   "metadata": {},
   "source": [
    "* After typing http://127.0.0.1:5000/ in a browswer, we first see \"Hello Puppy!\". \n",
    "* Then if we type http://127.0.0.1:5000/information, then \"Puppies are cute!\" will be shown.  "
   ]
  },
  {
   "cell_type": "markdown",
   "metadata": {},
   "source": [
    "### 02-Dynamic-Routes.py"
   ]
  },
  {
   "cell_type": "code",
   "execution_count": null,
   "metadata": {},
   "outputs": [],
   "source": [
    "from flask import Flask\n",
    "app = Flask(__name__)\n",
    "\n",
    "@app.route('/') #This is a decorator function to decorate another function index() by taking index() as its parameter. \n",
    "def index():  \n",
    "    return '<h1>Hello Puppy!</h1>'\n",
    "\n",
    "@app.route('/information')\n",
    "def info():\n",
    "    return '<h1>Puppies are cute!</h1>'\n",
    "\n",
    "@app.route('/puppy/<name>') #Note the <> outside the name. \n",
    "def puppy(name):\n",
    "    # Page for an individual puppy.\n",
    "    return '<h1>This is a page for {}<h1>'.format(name)\n",
    "\n",
    "if __name__ == '__main__':\n",
    "    app.run(debug=False)"
   ]
  },
  {
   "cell_type": "markdown",
   "metadata": {},
   "source": [
    "### 03-Debug-Mode.py"
   ]
  },
  {
   "cell_type": "code",
   "execution_count": null,
   "metadata": {},
   "outputs": [],
   "source": [
    "from flask import Flask\n",
    "app = Flask(__name__)\n",
    "\n",
    "@app.route('/')\n",
    "def index():\n",
    "    return '<h1>Hello Puppy!</h1>'\n",
    "\n",
    "@app.route('/information')\n",
    "def info():\n",
    "    return '<h1>Puppies are cute!</h1>'\n",
    "\n",
    "@app.route('/puppy/<name>')\n",
    "def puppy(name):\n",
    "    # Page for an individual puppy.\n",
    "    return '<h1>This is a page for {}</h1>'.format(name)\n",
    "\n",
    "if __name__ == '__main__':\n",
    "    # Never have debug=True for production apps!\n",
    "    app.run(debug=True)"
   ]
  },
  {
   "cell_type": "markdown",
   "metadata": {},
   "source": [
    "### 04-Request-Contexts-Basics.py"
   ]
  },
  {
   "cell_type": "code",
   "execution_count": null,
   "metadata": {},
   "outputs": [],
   "source": [
    "from flask import Flask\n",
    "from flask import request\n",
    "app = Flask(__name__)\n",
    "\n",
    "@app.route('/')\n",
    "def index():\n",
    "    # Grab the visitors User Agent information\n",
    "    browser_info = request.headers.get('User-Agent')\n",
    "    return '<h2>Here is your browser info:</h2> <p>{}</p>'.format(browser_info)\n",
    "\n",
    "if __name__ == '__main__':\n",
    "    app.run(debug=True)"
   ]
  },
  {
   "cell_type": "markdown",
   "metadata": {},
   "source": [
    "Here is your browser info:  \n",
    "Mozilla/5.0 (Windows NT 10.0; Win64; x64) AppleWebKit/537.36 (KHTML, like Gecko) Chrome/71.0.3578.98 Safari/537.36 "
   ]
  },
  {
   "cell_type": "markdown",
   "metadata": {},
   "source": [
    "### 06-Routing-Exercise-Solution.py"
   ]
  },
  {
   "cell_type": "code",
   "execution_count": null,
   "metadata": {},
   "outputs": [],
   "source": [
    "from flask import Flask\n",
    "from flask import request\n",
    "app = Flask(__name__)\n",
    "\n",
    "@app.route('/')\n",
    "def index():\n",
    "    # Welcome Page\n",
    "    return \"<h1>Welcome! Go to /puppy_latin/name to see your name in puppy latin!</h1>\"\n",
    "\n",
    "@app.route('/puppy_latin/<name>')\n",
    "def puppylatin(name):\n",
    "    # Puppy Latin the name that comes in!\n",
    "    pupname = ''\n",
    "    if name[-1]=='y':\n",
    "        pupname = name[:-1]+'iful'\n",
    "    else:\n",
    "        pupname = name+'y'\n",
    "\n",
    "    return \"<h1>Hi {}! Your puppylatin name is {} </h1>\".format(name,pupname)\n",
    "\n",
    "\n",
    "if __name__ == '__main__':\n",
    "    app.run(debug=True)"
   ]
  },
  {
   "cell_type": "markdown",
   "metadata": {},
   "source": [
    "## Section 8: Templates"
   ]
  },
  {
   "cell_type": "markdown",
   "metadata": {},
   "source": [
    "### 00-Basic-Template.py\n",
    "* In Atom, right click the project folder name, and create a new folder called templates. And move our templates into that folder. **Flask will by default search this folder and find the file there. Therefore, the file name \"00-Basic-Template.html\" in the file below deos not need a path.**. \n",
    "\n",
    "* Here we already have the templates folder, and in fact have template html files there. So we don't have to create that folder and the file. "
   ]
  },
  {
   "cell_type": "code",
   "execution_count": null,
   "metadata": {},
   "outputs": [],
   "source": [
    "from flask import Flask, render_template\n",
    "app = Flask(__name__)\n",
    "\n",
    "@app.route('/')\n",
    "def index():\n",
    "    return render_template('00-Basic-Template.html')\n",
    "    #With this sentence, Flask will find the 00-Basic-Template.html in current folder\n",
    "    #or in the templates folder. \n",
    " \n",
    "\n",
    "if __name__ == '__main__':\n",
    "    app.run(debug=True)"
   ]
  },
  {
   "cell_type": "markdown",
   "metadata": {},
   "source": [
    "Below is the template file in the ../templates/ folder. "
   ]
  },
  {
   "cell_type": "code",
   "execution_count": null,
   "metadata": {},
   "outputs": [],
   "source": [
    "<!-- 00-Basic-Template.html in the same -->\n",
    "\n",
    "<!DOCTYPE html>\n",
    "<html>\n",
    "  <head>\n",
    "    <meta charset=\"utf-8\">\n",
    "    <title>Basic</title>\n",
    "  </head>\n",
    "  <body>\n",
    "    <h1>Hello!</h1>\n",
    "    <h2>Here is a cute picture of a puppy!</h2>\n",
    "    <img src=\"../static/puppy_pic.jpg\" width=\"600\" height=\"400\">\n",
    "\n",
    "  </body>\n",
    "</html>"
   ]
  },
  {
   "cell_type": "markdown",
   "metadata": {},
   "source": [
    "### 01-Template-Variables.py\n",
    "* Similar to previous example, the template file is in the /templates folder. \n",
    "* Create variables: name, mylist and dic; pass into render_template as below; in the template html file, using {{}} to use these variables. This is the so-called Jinja templating syntax. See other syntax for transferring variables in a control-flow structures such as for loop and if-then structure. "
   ]
  },
  {
   "cell_type": "code",
   "execution_count": null,
   "metadata": {},
   "outputs": [],
   "source": [
    "from flask import Flask, render_template\n",
    "app = Flask(__name__)\n",
    "\n",
    "@app.route('/')\n",
    "def index():\n",
    "    name = \"Lijun\"\n",
    "    mylist = list(name)\n",
    "    dic = {\"Key\":25}\n",
    "    return render_template('01-Template-Variables.html',name=name,mylist=mylist, dic = dic)\n",
    "\n",
    "if __name__ == '__main__':\n",
    "    app.run(debug=True)"
   ]
  },
  {
   "cell_type": "code",
   "execution_count": null,
   "metadata": {},
   "outputs": [],
   "source": [
    "<!-- 01-Basic-Template.html in the same -->\n",
    "<!DOCTYPE html>\n",
    "<html>\n",
    "  <head>\n",
    "    <meta charset=\"utf-8\">\n",
    "    <title>Basic</title>\n",
    "  </head>\n",
    "  <body>\n",
    "    <h1>Basic variable insert: {{name}}!</h1>\n",
    "    <h1>List example: {{mylist}}</h1>\n",
    "    <h1>Puppy name from dictionary: {{dic}}</h1>\n",
    "  </body>\n",
    "</html>"
   ]
  },
  {
   "cell_type": "markdown",
   "metadata": {},
   "source": [
    "### 03-Template-Control-Flow.py"
   ]
  },
  {
   "cell_type": "code",
   "execution_count": null,
   "metadata": {},
   "outputs": [],
   "source": [
    "from flask import Flask, render_template\n",
    "app = Flask(__name__)\n",
    "\n",
    "@app.route('/')\n",
    "def index():\n",
    "    puppies = ['Fluffy','Rufus','Spike']\n",
    "    return render_template('03-Template-Control-Flow.html',\n",
    "                           puppies=puppies)\n",
    "\n",
    "if __name__ == '__main__':\n",
    "    app.run(debug=True)"
   ]
  },
  {
   "cell_type": "code",
   "execution_count": null,
   "metadata": {},
   "outputs": [],
   "source": [
    "#03-Template-Control-Flow.html\n",
    "<!DOCTYPE html>\n",
    "<html>\n",
    "  <head>\n",
    "    <meta charset=\"utf-8\">\n",
    "    <title></title>\n",
    "  </head>\n",
    "  <body>\n",
    "    <p>Here we use a for loop for a list</p>\n",
    "    <ul>\n",
    "      {% for pup in puppies %}\n",
    "      <li>{{pup}}</li>\n",
    "      {% endfor %}\n",
    "    </ul>\n",
    "    <p>We can also add if/else statements</p>\n",
    "    {% if 'Rufus' in puppies %}\n",
    "      <p>Found you in the list of puppies Rufus!</p>\n",
    "    {% else %}\n",
    "      <p>Hmm, Rufus isn't in this list.</p>\n",
    "    {% endif %}\n",
    "\n",
    "  </body>\n",
    "</html>"
   ]
  },
  {
   "cell_type": "markdown",
   "metadata": {},
   "source": [
    "**Unlike transfer just single variable with {{}}}, here we use {%%} to transfer variables in loop or other logical structure.**"
   ]
  },
  {
   "cell_type": "markdown",
   "metadata": {},
   "source": [
    "### 05-URL-For-Help.py\n",
    "No need to study the 04-template-inheritance.py as it is the simpler version of 05-URL-For-Help.py"
   ]
  },
  {
   "cell_type": "code",
   "execution_count": null,
   "metadata": {},
   "outputs": [],
   "source": [
    "from flask import Flask, render_template\n",
    "app = Flask(__name__)\n",
    "\n",
    "@app.route('/')\n",
    "def index():\n",
    "    return render_template('05-Home.html')\n",
    "\n",
    "@app.route('/puppy/<name>')\n",
    "def pup_name(name):\n",
    "    return render_template('05-Puppy.html',name=name)\n",
    "\n",
    "if __name__ == '__main__':\n",
    "    app.run(debug=True)"
   ]
  },
  {
   "cell_type": "code",
   "execution_count": null,
   "metadata": {},
   "outputs": [],
   "source": [
    "#05-base.html\n",
    "<!DOCTYPE html>\n",
    "<html>\n",
    "  <head>\n",
    "    <meta charset=\"utf-8\">\n",
    "    <title>Puppy Rock</title>\n",
    "    <link rel=\"stylesheet\" href=\"https://maxcdn.bootstrapcdn.com/bootstrap/4.0.0/css/bootstrap.min.css\" integrity=\"sha384-Gn5384xqQ1aoWXA+058RXPxPg6fy4IWvTNh0E263XmFcJlSAwiGgFAW/dAiS6JXm\" crossorigin=\"anonymous\">\n",
    "    <script src=\"https://maxcdn.bootstrapcdn.com/bootstrap/4.0.0/js/bootstrap.min.js\" integrity=\"sha384-JZR6Spejh4U02d8jOt6vLEHfe/JQGiRRSQQxSfFWpi1MquVdAyjUar5+76PVCmYl\" crossorigin=\"anonymous\"></script>\n",
    "  </head>\n",
    "\n",
    "  <body>\n",
    "    <nav class=\"navbar navbar-expand-lg navbar-light bg-light\">\n",
    "      <a class=\"navbar-brand\" href=\"{{url_for('index')}}\">Home Page</a>\n",
    "      <!--The above is a help function. When clicking, it will guide you to home page. That is, the page given by index() --> \n",
    "    </nav>\n",
    "    {% block content %}\n",
    "    {% endblock %}\n",
    "  </body>\n",
    "</html>"
   ]
  },
  {
   "cell_type": "markdown",
   "metadata": {},
   "source": [
    "* Within the <head></head>, there are things for using Bootstrap.\n",
    "* Within the <body></body> create a nav bar. \n",
    "* The structure below define the code for nav bar to be a block for other files to use. Note the block has a name of 'content' but can also be other name.  \n",
    "`  \n",
    "{% block content %}\n",
    "{% endblock %}\n",
    "`  \n",
    "* The first type of application of {{url_for('index')}}. The 'index' indicates the index view function in the main py file.    \n",
    "    \n"
   ]
  },
  {
   "cell_type": "code",
   "execution_count": null,
   "metadata": {},
   "outputs": [],
   "source": [
    "#05_Home.html\n",
    "{% extends \"05-base.html\"%}\n",
    "{% block content %}\n",
    "<h1>This is the home page.</h1>\n",
    "<h2>Go to /puppy/name</h2>\n",
    "{% endblock %}"
   ]
  },
  {
   "cell_type": "code",
   "execution_count": null,
   "metadata": {},
   "outputs": [],
   "source": [
    "#05-Puppy.html\n",
    "{% extends \"05-base.html\"%}\n",
    "{% block content %}\n",
    "<h1>This is the page for the puppy: {{name|capitalize}}.</h1>\n",
    "<h1><a href=\"{{ url_for('static', filename='puppy_pic.jpg') }}\"></a></h1>\n",
    "{% endblock %}"
   ]
  },
  {
   "cell_type": "markdown",
   "metadata": {},
   "source": [
    "* Here we have a filter |capitalize when transfer name to the html.\n",
    "* **The second type of url_for. Unfortunately, the picture does not show when I run this in the virtual environment. Figure out in the future.** "
   ]
  },
  {
   "cell_type": "markdown",
   "metadata": {},
   "source": [
    "### 06-Form-Example.py\n",
    "Here we connect Flask with html Form. In next chapter we will use Flask Form. "
   ]
  },
  {
   "cell_type": "code",
   "execution_count": null,
   "metadata": {},
   "outputs": [],
   "source": [
    "# Note we imported request!\n",
    "from flask import Flask, render_template, request\n",
    "app = Flask(__name__)\n",
    "\n",
    "@app.route('/')\n",
    "def index():\n",
    "    return render_template('06-index.html')\n",
    "\n",
    "# This page will have the sign up form\n",
    "@app.route('/signup_form')\n",
    "def signup_form():\n",
    "    return render_template('06-Sign-up.html')\n",
    "\n",
    "# This page will be the page after the form\n",
    "@app.route('/thankyou')\n",
    "def thank_you():\n",
    "    first = request.args.get('first')\n",
    "    last = request.args.get('last')\n",
    "    return render_template('06-thankyou.html',first=first,last=last)\n",
    "\n",
    "@app.errorhandler(404)\n",
    "def page_not_found(e):\n",
    "    return render_template('06-404.html'), 404\n",
    "\n",
    "if __name__ == '__main__':\n",
    "    app.run(debug=True)"
   ]
  },
  {
   "cell_type": "markdown",
   "metadata": {},
   "source": [
    "* Note the usage of request. We use it to grab information from Form. In the signup_form view, we obtain information for 'first' and 'last'. Here we obtain these information and pass them to thankyou view function. \n",
    "* The last function describe the way of handling error. "
   ]
  },
  {
   "cell_type": "code",
   "execution_count": null,
   "metadata": {},
   "outputs": [],
   "source": [
    "#06-base.html\n",
    "<!DOCTYPE html>\n",
    "<html>\n",
    "  <head>\n",
    "    <meta charset=\"utf-8\">\n",
    "    <title>Puppy Rock</title>\n",
    "    <link rel=\"stylesheet\" href=\"https://maxcdn.bootstrapcdn.com/bootstrap/4.0.0/css/bootstrap.min.css\" integrity=\"sha384-Gn5384xqQ1aoWXA+058RXPxPg6fy4IWvTNh0E263XmFcJlSAwiGgFAW/dAiS6JXm\" crossorigin=\"anonymous\">\n",
    "    <script src=\"https://maxcdn.bootstrapcdn.com/bootstrap/4.0.0/js/bootstrap.min.js\" integrity=\"sha384-JZR6Spejh4U02d8jOt6vLEHfe/JQGiRRSQQxSfFWpi1MquVdAyjUar5+76PVCmYl\" crossorigin=\"anonymous\"></script>\n",
    "  </head>\n",
    "  <body>\n",
    "    <nav class=\"navbar navbar-expand-lg navbar-light bg-light\">\n",
    "      <a class=\"navbar-brand\" href=\"{{url_for('index')}}\">Home Page</a>\n",
    "      <!-- Click homepage will bring you to the page for index()-->  \n",
    "    </nav>\n",
    "    {% block content %}\n",
    "    {% endblock %}\n",
    "  </body>\n",
    "</html>"
   ]
  },
  {
   "cell_type": "code",
   "execution_count": null,
   "metadata": {},
   "outputs": [],
   "source": [
    "#06-index.html\n",
    "{% extends \"06-base.html\"%}\n",
    "{% block content %}\n",
    "<div class=\"jumbotron\">\n",
    "<p>Welcome to Puppy Rock!</p>\n",
    "<p>Wanna sign up for our puppy band?</p>\n",
    "<a href=\"{{url_for('signup_form')}}\">Sign up for auditions here</a>\n",
    "</div>\n",
    "{% endblock %}"
   ]
  },
  {
   "cell_type": "markdown",
   "metadata": {},
   "source": [
    "* Click 'Sign up for auditions here' will bring you to the 'signup_form' view or page. \n",
    "* Note this html inherits a nav bar before, which is the 'Home Page' on top of the page. "
   ]
  },
  {
   "cell_type": "code",
   "execution_count": null,
   "metadata": {},
   "outputs": [],
   "source": [
    "#06-Sign-up.html\n",
    "{% extends \"06-base.html\"%}\n",
    "{% block content %}\n",
    "<div class=\"jumbotron\">\n",
    "\n",
    "<h1>Welcome to the sign up page!</h1>\n",
    "<p>We're excited to have you audition for our band</p>\n",
    "<p>This will redirect to a thank you page.</p>\n",
    "<p>\n",
    "  Please note, we're just puppies, so we haven't\n",
    "  learned how to save your information yet!\n",
    "</p>\n",
    "    <form action=\"{{url_for('thank_you')}}\">\n",
    "       <label for=\"first\">First Name</label>\n",
    "        <input type=\"text\" name=\"first\">\n",
    "        <label for=\"last\">Last Name</label>\n",
    "        <input type=\"text\" name=\"last\">\n",
    "        <input type=\"submit\" value=\"Submit Form\">\n",
    "    </form>\n",
    "\n",
    "</div>\n",
    "{% endblock %}"
   ]
  },
  {
   "cell_type": "markdown",
   "metadata": {},
   "source": [
    "* The input string for names \"first\" and \"last\" will be obtained by request in the thank_you view function and passed into a template. \n"
   ]
  },
  {
   "cell_type": "code",
   "execution_count": null,
   "metadata": {},
   "outputs": [],
   "source": [
    "#06-thankyou.html\n",
    "{% extends \"06-base.html\"%}\n",
    "{% block content %}\n",
    "<div class=\"jumbotron\">\n",
    "\n",
    "  <h1>Thank you for signing up {{first}} {{last}}!</h1>\n",
    "</div>\n",
    "{% endblock %}"
   ]
  },
  {
   "cell_type": "code",
   "execution_count": null,
   "metadata": {},
   "outputs": [],
   "source": [
    "#06-404.html\n",
    "{% extends \"06-base.html\"%}\n",
    "{% block content %}\n",
    "<div class=\"jumbotron\">\n",
    "<p>Sorry, we couldn't find the page you were looking for.</p>\n",
    "<p>Cut us some slack, we're just puppies!</p>\n",
    "</div>\n",
    "{% endblock %}"
   ]
  },
  {
   "cell_type": "markdown",
   "metadata": {},
   "source": [
    "### 07-Simple-Project-Solutions.py"
   ]
  },
  {
   "cell_type": "code",
   "execution_count": null,
   "metadata": {},
   "outputs": [],
   "source": [
    "# Note we imported request!\n",
    "from flask import Flask, render_template, request\n",
    "app = Flask(__name__)\n",
    "\n",
    "@app.route('/')\n",
    "def index():\n",
    "    return render_template('07-solution-index.html')\n",
    "\n",
    "\n",
    "# This page will be the page after the form\n",
    "@app.route('/report')\n",
    "def report():\n",
    "    # The 3 conditions to check (start as False)\n",
    "    lower_letter = False\n",
    "    upper_letter = False\n",
    "    num_end = False\n",
    "    username = request.args.get('username')\n",
    "\n",
    "\n",
    "    # Now check for restraints\n",
    "    # HINTS:\n",
    "    # https://stackoverflow.com/questions/22997072/how-to-check-if-lowercase-letters-exist/22997094\n",
    "    # https://stackoverflow.com/questions/26515422/how-to-check-if-last-character-is-integer-in-raw-input\n",
    "    lower_letter = any(c.islower() for c in username)\n",
    "    upper_letter = any(c.isupper() for c in username)\n",
    "    num_end = username[-1].isdigit()\n",
    "\n",
    "    # Check if all are True.\n",
    "    report = lower_letter and upper_letter and num_end\n",
    "\n",
    "    return render_template('07-solution-report.html',report=report,\n",
    "                           lower=lower_letter,upper=upper_letter,\n",
    "                           num_end=num_end)\n",
    "\n",
    "if __name__ == '__main__':\n",
    "    app.run(debug=True)"
   ]
  },
  {
   "cell_type": "code",
   "execution_count": null,
   "metadata": {},
   "outputs": [],
   "source": [
    "#07-solution-base.html\n",
    "<!DOCTYPE html>\n",
    "<html>\n",
    "  <head>\n",
    "    <meta charset=\"utf-8\">\n",
    "    <title>Puppy UserName Check</title>\n",
    "    <link rel=\"stylesheet\" href=\"https://maxcdn.bootstrapcdn.com/bootstrap/4.0.0/css/bootstrap.min.css\" integrity=\"sha384-Gn5384xqQ1aoWXA+058RXPxPg6fy4IWvTNh0E263XmFcJlSAwiGgFAW/dAiS6JXm\" crossorigin=\"anonymous\">\n",
    "    <script src=\"https://maxcdn.bootstrapcdn.com/bootstrap/4.0.0/js/bootstrap.min.js\" integrity=\"sha384-JZR6Spejh4U02d8jOt6vLEHfe/JQGiRRSQQxSfFWpi1MquVdAyjUar5+76PVCmYl\" crossorigin=\"anonymous\"></script>\n",
    "  </head>\n",
    "  <body>\n",
    "    <nav class=\"navbar navbar-expand-lg navbar-light bg-light\">\n",
    "      <a class=\"navbar-brand\" href=\"{{url_for('index')}}\">Home Page</a>\n",
    "    </nav>\n",
    "    {% block content %}\n",
    "    {% endblock %}\n",
    "  </body>\n",
    "</html>"
   ]
  },
  {
   "cell_type": "code",
   "execution_count": null,
   "metadata": {},
   "outputs": [],
   "source": [
    "#07-solution-index.html\n",
    "{% extends \"07-solution-base.html\"%}\n",
    "{% block content %}\n",
    "<div class=\"jumbotron\">\n",
    "<p>Welcome to Puppy User Name Check</p>\n",
    "<p>Let's see if your User Name is secure!</p>\n",
    "<p>Fill out the form below with a User Name that has these restraints</p>\n",
    "<ul>\n",
    "  <li>Must have an upper case letter somewhere.</li>\n",
    "  <li>Must have a lower case letter somewhere.</li>\n",
    "  <li>Must have a number at the end.</li>\n",
    "</ul>\n",
    "\n",
    "<form action=\"{{url_for('report')}}\">\n",
    "   <label for=\"username\">UserName</label>\n",
    "    <input type=\"text\" name=\"username\">\n",
    "    <input type=\"submit\" value=\"Submit Form\">\n",
    "</form>\n",
    "\n",
    "</div>\n",
    "{% endblock %}"
   ]
  },
  {
   "cell_type": "code",
   "execution_count": null,
   "metadata": {},
   "outputs": [],
   "source": [
    "#07-solution-report.html\n",
    "{% extends \"07-solution-base.html\"%}\n",
    "{% block content %}\n",
    "<div class=\"jumbotron\">\n",
    "\n",
    "  <p>Let see how you performed!!</p>\n",
    "  {# Recall that report is a boolean #}\n",
    "  {% if report%}\n",
    "    <p>Your UserName passed the 3 requirements!</p>\n",
    "  {% else %}\n",
    "    <p>Oh no! Looks like you had issues with your username!</p>\n",
    "    <p>Here are the requirements you failed:</p>\n",
    "    <ul>\n",
    "      {% if not lower %}\n",
    "      <li>You did not use a lowercase character.</li>\n",
    "      {% endif %}\n",
    "      {% if not upper %}\n",
    "      <li>You did not use an uppercase character.</li>\n",
    "      {% endif %}\n",
    "      {% if not num_end %}\n",
    "      <li>You did not end your username with a number.</li>\n",
    "      {% endif %}\n",
    "\n",
    "    </ul>\n",
    "  {% endif %}\n",
    "</div>\n",
    "{% endblock %}"
   ]
  }
 ],
 "metadata": {
  "kernelspec": {
   "display_name": "Python 3",
   "language": "python",
   "name": "python3"
  },
  "language_info": {
   "codemirror_mode": {
    "name": "ipython",
    "version": 3
   },
   "file_extension": ".py",
   "mimetype": "text/x-python",
   "name": "python",
   "nbconvert_exporter": "python",
   "pygments_lexer": "ipython3",
   "version": "3.6.4"
  }
 },
 "nbformat": 4,
 "nbformat_minor": 2
}
