{
 "cells": [
  {
   "cell_type": "markdown",
   "metadata": {},
   "source": [
    "## Introduction\n",
    "Below are the typical approaches that can reduct the time complexity by O(n). "
   ]
  },
  {
   "cell_type": "markdown",
   "metadata": {},
   "source": [
    "## Resetting the looping index of one loop\n",
    "•\tAlthough formally a two-folded loop and like a O(n^2) complexity, I can reset the outer loop index (or may restrict inner loop index to have only a constant few running) to achieve a O(n) complexity. \n",
    "•\tExample 1: finding longest consecutive ones (uniform).\n",
    "•\tExample 2: finding longest consecutive subsequence from an ordered array. Note that if an array is ordered, then the above method can easily achieve a O(n) complexity. But if it is not ordered, then we need Hash map to achieve O(n). \n",
    "•\t \n",
    "SM-2: "
   ]
  },
  {
   "cell_type": "markdown",
   "metadata": {},
   "source": [
    "## Hash \n",
    "•\tSee the entry of Hash table."
   ]
  },
  {
   "cell_type": "markdown",
   "metadata": {},
   "source": [
    "## Exchange space for time: dynamic programming\n",
    "•\tSee entry of dynamic programming. At least one feature of dynamic programing is to store all the calculated results or most important results for future use, and thus prevent repetitive calculations. \n",
    "•\tKeep current maximum to index j in the subarray maximum. \n",
    "•\tKeep current sum to index j in subarray sum k problem. "
   ]
  },
  {
   "cell_type": "markdown",
   "metadata": {},
   "source": [
    "##  Hybrid of different SMs.\n",
    "•\tHybrid of Hash and dynamic programming. For example, the subarray-sum-k problem, in the beginning we cannot use Hash, but after we calculates a prefix-sum array, then we can use Hash. Very beautiful method. "
   ]
  }
 ],
 "metadata": {
  "kernelspec": {
   "display_name": "Python 3",
   "language": "python",
   "name": "python3"
  },
  "language_info": {
   "codemirror_mode": {
    "name": "ipython",
    "version": 3
   },
   "file_extension": ".py",
   "mimetype": "text/x-python",
   "name": "python",
   "nbconvert_exporter": "python",
   "pygments_lexer": "ipython3",
   "version": "3.6.4"
  }
 },
 "nbformat": 4,
 "nbformat_minor": 2
}
