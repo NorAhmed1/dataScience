{
 "cells": [
  {
   "cell_type": "markdown",
   "metadata": {},
   "source": [
    "## General\n",
    "•\tNot as often as the problem of fixed sum /product, we don’t use hash table in the maximum / minimum problem. However, there are exceptions such as the problem of longest subsequence. "
   ]
  },
  {
   "cell_type": "markdown",
   "metadata": {},
   "source": [
    "## Fixed number of elements"
   ]
  },
  {
   "cell_type": "markdown",
   "metadata": {},
   "source": [
    "## Non-fixed number of elements\n",
    "\n",
    "### Maximum subarray problem / subset sum\n",
    "•\tMaximum sum of a rectangular region. Kadane’s algorithm.\n",
    "•\tFor these problems, the state of art is (from Wikipedia): O(n) for 1D array, O(n^3) or sub O(n^3) for 2D array. \n",
    "•\tLearn to visualize the problem with a table of three row, array element, current maximum to index j, global maximum. Be familiar to the point of quick visualization analysis, and thus can obtain the algorithm naturally from some principles, but not memorize the algorithm. "
   ]
  },
  {
   "cell_type": "markdown",
   "metadata": {},
   "source": [
    "### Maximum consecutive sequence of ones\n",
    "•\tUse SM-1 to reset the outer loop index. "
   ]
  },
  {
   "cell_type": "markdown",
   "metadata": {},
   "source": [
    "### Longest consecutive sequence (indices not necessarily continuous)\n",
    "•\tFor ordered array, we can use SM-1 (reset loop index) to achieve an O(N) complexity. \n",
    "•\tFor unordered array, a naïve way is sort first [O(NlogN)] and then use SM-1. The dominant complexity is thus O(NlogN).  \n",
    "•\tFor unordered array, Hash map can achieve an O(N) complexity. The key is to use a special condition to judge whether it is the first element of a new entrance. "
   ]
  }
 ],
 "metadata": {
  "kernelspec": {
   "display_name": "Python 3",
   "language": "python",
   "name": "python3"
  },
  "language_info": {
   "codemirror_mode": {
    "name": "ipython",
    "version": 3
   },
   "file_extension": ".py",
   "mimetype": "text/x-python",
   "name": "python",
   "nbconvert_exporter": "python",
   "pygments_lexer": "ipython3",
   "version": "3.6.4"
  }
 },
 "nbformat": 4,
 "nbformat_minor": 2
}
