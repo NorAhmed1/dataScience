{
 "cells": [
  {
   "cell_type": "markdown",
   "metadata": {},
   "source": [
    "## General routing map for methods\n",
    "•\tMethods directly related to sorting: std::sort (array, etc); std::merge (for most containers except linked list); std::list::sort (for linked list, see why we need a separate method for list); std::list::merge (for linked list); \n",
    "•\tMethods not directly related to sorting but have sorting mechanism inside. std::map/multimap for unique/nonunique key-value pairs; std::set/multiset (a special key = value map); std::priority_queue/heap; \n",
    "•\tNormally, we can find almost everything we need for practical sorting. However, in special cases (or in interview) we may need fully understand the fundamentals behind particularly the efficient sorting methods such as merging, divide and conquer, or tree-like action.  For example, when merging k-sorted lists, we may use the heap data structure to achieve the O(Nlogk) complexity (In fact, we are using the tree-like action in heap). Another example for calculating median of a few sorted array, then we also use the divide-and-conquer or tree-like action.\n",
    "•\tNote the above is for sorting based on comparison. There is also non-comparison algorithm which usually need different computing facilities and are not easy to implement."
   ]
  },
  {
   "cell_type": "markdown",
   "metadata": {},
   "source": [
    "## General understanding\n",
    "•\tSee review in https://en.wikipedia.org/wiki/Sorting_algorithm. Even if I cannot be familiar with each algorithm, I should tell a general story such as the separation of comparison and non-comparison based sorting algorithm, major sorting algorithms in each category and their complexity and their most applicable scenarios. For example, for the three efficient sorting algorithms heap sort, merge sort, quick sort, what are their best, average and worst cases respectively, and whether they are stable? For example, qsort is not stable though stable version exists, merge sort is stable, and heap sort is not stable. \n",
    "•\tComplexity of sorting related problem. [1] For comparison based sorting, the low bound time complexity is O(NlogN) for average case. The best case can sometimes be O(N). [2] For sorted subarrays or need only partially sorted case (e.g. in the example of merging k-sorted list/array or in finding kth largest element of an array), the complexity can be O(Nk) [normal merge sort idea] or even better O(NlogK)[using heap, or priority queue]. Knowing these limits for sorting problems can help me where to make effort. [3] Some problems look so much like a sorting problem, but the task is not asking for all the elements, or even not the k-elements of an array, but just ONE element. In this case, the complexity can be O(N) or even O(logN). For example, finding the max of unsorted array O(n), finding an specific element in a sorted array O(logN), finding the median of several sorted arrays (logN). In these cases, we need know the under-hood and critical point in sorting, i.e. divide and conquer or tree-like action. \n",
    "•\tSorting algorithms in STL: [1] std::sort is implemented by different vendors, it does not corresponds to quick sort at all. The C++ standard only requires NlogN complexity but not require specific implementation. Check the link below  https://en.wikipedia.org/wiki/Sort_(C%2B%2B) for some details. Note std::sort cannot be used to sort a linked list and the list does not provide the random access iterators as required by std::sort. [2] For linked list, it is not optimal to sort with quick sort (see details later). To sort a linked list, just check Google and you find that there is a std::list::sort defined on the list object. Although merge sort is preferred in sorting linked list and indeed did in many implementation, this is not required by the standard. [3] From above, we know that there is usually not a one-to-one mapping between an algorithm and a STL implementation. For example, we don’t have quicksort, mergesort, heapsort specifically implemented in STL, although sometimes in very old times, there is. \n",
    "•\t"
   ]
  },
  {
   "cell_type": "markdown",
   "metadata": {},
   "source": [
    "## Efficient Sort\n",
    "•\tThe three efficient sort algorithms below, although different in many ways, all involve the partition or divide action, or a binary tree like action. This is the key element for the efficiency, which is logN factor. \n",
    "•\tShould be very familiar with the key spirits of these three sorting algorithm. After that, I can use them in a coherent way. They are not completely separate and we can use the hybrid of them, e.g. in the merge k-sorted arrays/lists.\n",
    "•\tHowever, the difference is that quicksort recursively does the partitioning, while merge sort recursively does the merging. How about heap sort?  "
   ]
  },
  {
   "cell_type": "markdown",
   "metadata": {},
   "source": [
    "## Quick Sort\n",
    "•\tCheck details in the code and the important comments.  \n",
    "•\t"
   ]
  },
  {
   "cell_type": "markdown",
   "metadata": {},
   "source": [
    "## Merge Sort\n",
    "•\thttps://www.geeksforgeeks.org/merge-sort/ See the detailed steps of an example. From this link, we see at least one very useful place for merge sort is to sort linked list. First, in linked list, we can insert items in the middle in O(1) extra space and O(1) time. Therefore merge operation of merge sort can be implemented without extra space for linked lists. Second, unlike arrays, we can not do random access in linked list. Quick Sort requires a lot of this kind of access and therefore the overhead increases for quick sort. Merge sort accesses data sequentially and the need of random access is low.\n",
    "•\tApplication of merge sort. [1] Although it is advantageous to sort a linked list with merge sort for the two reasons mentioned, merge sort can also be used to merge other data structures such as vector, etc. Anyway its performance is similar or better than quick sort in any structure. Furthermore is stable without extra effort. As mentioned earlier, to sorting a single linked list, we should use std::list::sort, which is often implemented with merge sort. [2] Although merge sort is usually taught with a single vector or linked list, the idea of merge sort are often used or interviewed in other places such as merge k sorted vectors or lists.  The std::merge() is actually not a STL counterpart of merge sort. It is just use part of its idea (the merging part, but not the portioning part). \n",
    "•\tNote the best, worst, and average complexities of merge sort are all O(NlogN). Also merge sort is automatically stable, while heap sort is not stable. Quick sort and sometimes stable or not. std::sort might have options for stable sorting. std::list::sort should be stable I think. \n",
    "•\t "
   ]
  },
  {
   "cell_type": "markdown",
   "metadata": {},
   "source": [
    "## Heap Sort\n",
    "•\thttps://www.youtube.com/watch?v=MtQL_ll5KhQ Heap sort is exactly same as constructing a maximum or minimum heap?  No! See the animation and the code in the end of the video, and understand why it is nlogn.\n",
    "However, heap data structure was really introduced when designing heap sort. See heap data structure notes. So figuring out heap sort, then we know how to build a heap. Correct? Also see the animation there. "
   ]
  }
 ],
 "metadata": {
  "kernelspec": {
   "display_name": "Python 3",
   "language": "python",
   "name": "python3"
  },
  "language_info": {
   "codemirror_mode": {
    "name": "ipython",
    "version": 3
   },
   "file_extension": ".py",
   "mimetype": "text/x-python",
   "name": "python",
   "nbconvert_exporter": "python",
   "pygments_lexer": "ipython3",
   "version": "3.6.4"
  }
 },
 "nbformat": 4,
 "nbformat_minor": 2
}
