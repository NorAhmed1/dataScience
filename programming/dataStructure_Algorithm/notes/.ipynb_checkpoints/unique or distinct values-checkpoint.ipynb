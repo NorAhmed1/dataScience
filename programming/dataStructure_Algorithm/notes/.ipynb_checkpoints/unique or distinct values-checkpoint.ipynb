{
 "cells": [
  {
   "cell_type": "markdown",
   "metadata": {},
   "source": [
    "* First to sort and then use std::unique(). \n",
    "* Use std::unordered_map, or std::unordered_set. Put the possible non-distinct array elements as the keys of above two data structure. \n",
    "* Find the unique pairs from e.g. (2, 3), (3,2), (1,4), (4,1). One way is use Hash-table approach. See examples in the twosum, three-sums problems. \n",
    "\n"
   ]
  }
 ],
 "metadata": {
  "kernelspec": {
   "display_name": "Python 3",
   "language": "python",
   "name": "python3"
  },
  "language_info": {
   "codemirror_mode": {
    "name": "ipython",
    "version": 3
   },
   "file_extension": ".py",
   "mimetype": "text/x-python",
   "name": "python",
   "nbconvert_exporter": "python",
   "pygments_lexer": "ipython3",
   "version": "3.6.4"
  }
 },
 "nbformat": 4,
 "nbformat_minor": 2
}
