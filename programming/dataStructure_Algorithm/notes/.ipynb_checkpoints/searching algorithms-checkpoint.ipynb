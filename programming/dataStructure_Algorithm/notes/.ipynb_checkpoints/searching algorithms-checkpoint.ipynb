{
 "cells": [
  {
   "cell_type": "markdown",
   "metadata": {},
   "source": [
    "## Linear search\n",
    "•\tFor simple case for small size array, we can still use linear search.  \n",
    "•\tFor n-size array, if it involves k nested searches, it does not necessarily require worst O(n^k) complexity. We can anyway improve just a little bit. For example, if there are fixed relation between looping indices i, j such as I > j, abs(i-j) < K, etc., then we can save some searching time. See the example in Hash-searching examples. "
   ]
  },
  {
   "cell_type": "markdown",
   "metadata": {},
   "source": [
    "## Binary search tree\n",
    "### Recursive implementation\n",
    "See the exercises"
   ]
  },
  {
   "cell_type": "markdown",
   "metadata": {},
   "source": [
    "### Binary Search related functions in STL \n",
    "* All the three functions below need a sorted range. \n",
    "* std::binary_search return true when the element is in the range.\n",
    "* If you have multiple elements in the range `[first, last)` whose value equals the value you are searching for, then the range `[l, u)` where  \n",
    "\n",
    "l = std::lower_bound(first, last, val)  \n",
    "u = std::upper_bound(first, last, val)  \n",
    "\n",
    "is precisely the range of elements equal to val within the range `[first, last)`. So l and u are the \"lower bound\" and \"upper bound\" for the equal range. It makes sense if you're accustomed to thinking in terms of half-open intervals.  \n",
    "(Note that std::equal_range will return both the lower and upper bound in a pair, in a single call.)\n",
    "\n",
    "* The found iterator subtract the .begin() iterator will give the index of the element.  \n",
    "* Note that even the l or u finally != .end(), it does not means the value has been found. I need verify it explicitly.  \n",
    "\t"
   ]
  },
  {
   "cell_type": "markdown",
   "metadata": {},
   "source": [
    "## Hash map search\n",
    "•\tSee Hash entry."
   ]
  },
  {
   "cell_type": "markdown",
   "metadata": {},
   "source": [
    "## Balanced tree search tree"
   ]
  }
 ],
 "metadata": {
  "kernelspec": {
   "display_name": "Python 3",
   "language": "python",
   "name": "python3"
  },
  "language_info": {
   "codemirror_mode": {
    "name": "ipython",
    "version": 3
   },
   "file_extension": ".py",
   "mimetype": "text/x-python",
   "name": "python",
   "nbconvert_exporter": "python",
   "pygments_lexer": "ipython3",
   "version": "3.6.4"
  }
 },
 "nbformat": 4,
 "nbformat_minor": 2
}
