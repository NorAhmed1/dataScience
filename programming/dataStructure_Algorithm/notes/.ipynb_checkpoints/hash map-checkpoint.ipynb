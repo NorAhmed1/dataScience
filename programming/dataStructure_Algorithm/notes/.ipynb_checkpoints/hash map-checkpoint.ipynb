{
 "cells": [
  {
   "cell_type": "markdown",
   "metadata": {},
   "source": [
    "# Complexity \n",
    "For c++  \n",
    "* For unordered_map/set, both insert() and find() have O(1) complexity. \n",
    "* For std::map/set both insert() and find() have O(logN) complexity. However, the extra cost provides an ordered keys. \n",
    "* For multiset and multimap, we can have repetitive values. Also note set/multiset and map/multimap/multiset in the same `<set>` and `<map>` header, while `unordered_map/set` are in different headers with prefix unordered_. "
   ]
  },
  {
   "cell_type": "markdown",
   "metadata": {},
   "source": [
    "# Application\n",
    "* \tThe key point is Hash map can achieve O(1) access from the O(N) linear search and O(logN) binary search. However, this is only the starting point for using the idea of Hash map.  \n",
    "\n",
    "* Using array element as keys and array index as values. See the example of finding the distance between duplicate elements.\n",
    "\n",
    "* Sometimes vector or other sequential data structure can also be used to implement Hash property, as in the Anagram problem, we use vector(128,0) for hash searching. In this case, it can be even faster because we don't have to use Hash function. \n",
    "\n",
    "* Using array elements as keys, and check whether umap/uset.find(arrayelement - shift) is in the map. \n",
    "    * Find whether an element is a start of consecutive sequence. \n",
    "    * Find the two sum and three sum. \n",
    "    * Using the idea of dynamic programming, pre-calculate some quantity such sum to index i and then use Hash, as in subarray-sum-k problem.\n",
    "\n",
    "* Note although sometimes it is preferable to use one-pass Hash table, i.e, inserting into map while looping. However, this is not always the case. For example, in finding longest subsequence finding, we need insert all the elements to a map first. \n",
    "\n",
    "* Note set is just a special form of map where key = value. So set is also a hash-table thing, just special. We can use set to generate distinct numbers. \n"
   ]
  },
  {
   "cell_type": "markdown",
   "metadata": {},
   "source": [
    "# Two intuitive examples\n",
    "As will be explained later, Hash function normally is customized and optimized for every specific situation. It cannot be general. The next are two examples from my old projects are actually examples of naïve Hash tables. \n",
    "\n",
    "* Declaring a very big vector whole size is much bigger than the maximum orderId. Then insert a reqId and orderId pair to the vector. Then when an orderId is returned, it is just the index of the vector, and therefore I can access my reqId with O(1) complexity.\n",
    "\n",
    "* If I have a vector of strings and I need search one of them, then I can have another naïve Hash idea. I can transfer e.g., abcd to a four digits. For example ASCII_A-65 = 0, b is 1, etc. Then we use the number as the array index. "
   ]
  },
  {
   "cell_type": "markdown",
   "metadata": {},
   "source": [
    "# Hash Tables\n",
    "### How Hash Tables work?\n",
    "When coming to how the hash tables work, we talk about three main following things:  \n",
    "* Hash Function - Hash Function is a function which leverages accessing and searching data in the hash table. It could be any algorithm customized and optimized as per a particular scenario. It should be a logic which takes our key as the input, and generally gives out the value corresponding to it in the hash table. However, with the same input key to the logic, output should be same every time.\n",
    "\n",
    "* Key Value Pair - The Key-Value pair is the basic essence of the hash table data structure. For the suited situations, it makes searching really efficient and optimized.\n",
    "\n",
    "* Collisions - Collision is when for one key, we have more than one data value to be stored. A hash table would never guarantee that for every key, there would be just one data value corresponding to it. This is because generally a hash table would have a fixed number of keys. Any new entry after the size of hash table has to be accommodated causing the collision. However, a good hash table would always try to avoid collisions and use efficient ways to handle collisions, and at the same time optimize the size of the table. This introduces the tradeoff. This surface outs another important feature of a good hash table which is uniform distribution."
   ]
  },
  {
   "cell_type": "markdown",
   "metadata": {},
   "source": [
    "### Hash Tables Implementation in C\n",
    "Here I have tried to implement a simple hash table in C. The scenario is: A telephone directory storing std codes for each state. All the states would be used as key and its std code as its value. Here is the general depiction of our hash table:\n",
    "Code:\n",
    "[PB] -> 176\n",
    "[JK] -> 172\n",
    "[HP] -> 177\n",
    "...\n",
    "To think of, basic implementation data structure taken is an array of std codes. For each state, a two character code is defined. For each state two character code, we use a hash function to compute the index, which can be used to determine/store the std code in the array.\n",
    "\n",
    "To start with, here is our basic data structure of a fixed size i.e. an array  \n",
    "Code:  \n",
    "int code[TOTAL];\n",
    "We need a hash function for computing index out of the state. The algorithm used is as follows:\n",
    "\n",
    "* Each state is a key\n",
    "* Each key is stored as a two uppercase character string code.\n",
    "* Compute a value corresponding to each character by subtracting value '65' from its ASCII value. In this article, this value for each character will be called as its character number.\n",
    "* Now multiply the character number of the second character by 26 and add it to the character number of the first character. The formulae is:  \n",
    "`val = (state[1] *26 ) + state[0]`\n",
    "Note, the value 26 is a magic number taken to reduce the collisions. However, the trade off is, it will increase the size of the hash table.\n",
    "* Now this value is the index in our std code array which will store the std code for that particular state.\n",
    "\n",
    "Here is how our hash function looks like:  \n",
    "`int hashForKey(char* state)\n",
    "{\n",
    "    int index;\n",
    "    if (strlen(state) == 0)\n",
    "        return 0;\n",
    "    //state string has to be just 2 chars\n",
    "    if (strlen(state) != 2)\n",
    "    {\n",
    "        printf(\"Invalid State string\\n\");\n",
    "        return -1;\n",
    "    }\n",
    "    index = (state[0] - ASCII_A) + ((state[1] - ASCII_A) * MAGICNUM) ;\n",
    "    if (index < 0)\n",
    "    {\n",
    "        printf(\"Error in hash function\\n\");\n",
    "        return -1;\n",
    "    }\n",
    "    return index;\n",
    "}`\n",
    "\n",
    "Now retrieving/storing can happen with the help of this hash function. The max entries this hash table can store is 26*26, a limit, defined and possible with our English Character Set.\n",
    "\n"
   ]
  },
  {
   "cell_type": "markdown",
   "metadata": {},
   "source": [
    "This program is just a simple implementation of a hash table to give a general idea to a beginner. There is a huge scope of improvement and optimization. Once, you understand it, a few limitations in context of hash table, which can be worked upon are:\n",
    "\n",
    "* A better magic number, which can reduce the fixed size of hash table considerably.\n",
    "* To handle collisions if any\n",
    "* A better algorithm to have the states as key in a more optimized way."
   ]
  }
 ],
 "metadata": {
  "kernelspec": {
   "display_name": "Python 3",
   "language": "python",
   "name": "python3"
  },
  "language_info": {
   "codemirror_mode": {
    "name": "ipython",
    "version": 3
   },
   "file_extension": ".py",
   "mimetype": "text/x-python",
   "name": "python",
   "nbconvert_exporter": "python",
   "pygments_lexer": "ipython3",
   "version": "3.6.4"
  }
 },
 "nbformat": 4,
 "nbformat_minor": 2
}
