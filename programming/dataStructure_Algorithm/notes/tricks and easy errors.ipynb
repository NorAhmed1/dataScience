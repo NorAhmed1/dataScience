{
 "cells": [
  {
   "cell_type": "markdown",
   "metadata": {},
   "source": [
    "### Calculating power of 2 by bit shifting\n",
    "Change pow(2,6) to 1 << 6 can save a lot of calculation time. See bit shifting operation in https://en.wikipedia.org/wiki/Bitwise_operation#Bit_shifts"
   ]
  },
  {
   "cell_type": "markdown",
   "metadata": {},
   "source": [
    "### Hash related algorithm does not always has O(1) complexity\n",
    "* Never think whenever a map is involved, then we have constant time O(1) complexity. First, different maps such as std::unordered_map and std::map and std::multimap has different .find() complexity. \n",
    "* Different methods defined on different map objects also have different complexities. For example, .insert() is very different from .find() at all.\n",
    "* These are also true for other std containers such as std::set/std::multiset, std::unordered_set. \n",
    "* Even for the same data structure, there are different implementation with different parameters and different complexities. Check the following link for details: https://en.cppreference.com/w/cpp/header."
   ]
  },
  {
   "cell_type": "markdown",
   "metadata": {},
   "source": [
    "### Use multiple returns to avoid ELSE\n",
    "In a function with multiple return sentences or breaks from a loop etc., sometimes I can save some writings on logical structure. For example, if in the beginning of a function we have “if(root == NULL) return;”, then the later code is automatically on the case of root != NULL, and therefore I don’t have to rewrite that later condition. In the example of sameTree judgement, we have:  \n",
    "if (root1 == NULL && root2 == NULL) return true;  \n",
    "if(root1 == NULL || root2 ==NULL) return false;  \n",
    "Note in this particular case, the second sentence is based on the condition that not both root1 and root2 are NULL, because if in that case, it has been already returned. "
   ]
  },
  {
   "cell_type": "markdown",
   "metadata": {},
   "source": [
    "### Recursive function on a tree\n",
    "I made a few mistakes in understanding the recursive function.  \n",
    "* Each new recursive function call includes ALL THE STEPS in the recursive function. We need track all these steps and make sure all of them are executed sooner or later (using the way to underscore different numbers as shown below). Usually all steps will not be executed in a single calling frame. Otherwise it is not called a recursive call. \n",
    "* Need connect the recursive picture with the binary tree in an intuitive way, and thus analyze them very quickly. Practice often and then I can do it quickly. Check the following link: https://www.youtube.com/watch?v=98AGQU0z2wg . In the end, it gives a very nice picture to show the traversal of binary tree. The key trick is: if the recursive function has three steps, then in each node, plot 123. Then after finish one step, put an underscore under that step, until it is done. After practicing the above two visualizations, then the recursive picture will be much clear. \n",
    "* From the binary tree traversal picture, we know that all steps in a function call cannot be executed one after one. Some step can only be executed after the return of other function calls. Check the order how the number 1, 2, 3 in each function call are marked with an underscore.   "
   ]
  },
  {
   "cell_type": "code",
   "execution_count": null,
   "metadata": {},
   "outputs": [],
   "source": []
  }
 ],
 "metadata": {
  "kernelspec": {
   "display_name": "Python 3",
   "language": "python",
   "name": "python3"
  },
  "language_info": {
   "codemirror_mode": {
    "name": "ipython",
    "version": 3
   },
   "file_extension": ".py",
   "mimetype": "text/x-python",
   "name": "python",
   "nbconvert_exporter": "python",
   "pygments_lexer": "ipython3",
   "version": "3.6.4"
  }
 },
 "nbformat": 4,
 "nbformat_minor": 2
}
