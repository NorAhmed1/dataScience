{
 "cells": [
  {
   "cell_type": "markdown",
   "metadata": {},
   "source": [
    "## Fixed number of elements\n",
    "Two Sum / Three Sum etc.  (not continuous indices)\n",
    "•\tFind pairs / triplets etc. with sum of fixed number K: [1] Two pointers method. [2] One pass Hash map is better. Two passes is not just unnecessary but also cause trouble. \n",
    "•\tIf the array contains duplicate elements, we can still calculate twoSum. However, I need a little bit different code. Check the details in the code. Note the algorithm for handling duplicate elements in two sum problem is exactly same as the problem of subarray sum K except a few points. See entry for subarray sum k. "
   ]
  },
  {
   "cell_type": "markdown",
   "metadata": {},
   "source": [
    "## Non-fixed number of elements\n",
    "Subarray Sum K\n",
    "•\tNote subarray often refers to continuous indices, while subsequence often refers non-continuous indices. However, there might be cases, these concepts are interchangeably used. \n",
    "•\tA naïve way is use a O(n^2) algorithm. However, the optimal one is use the similar way to handle two sum problem with duplicate array elements. The only exception is we need insert {0,1} to the unordered_map first. "
   ]
  }
 ],
 "metadata": {
  "kernelspec": {
   "display_name": "Python 3",
   "language": "python",
   "name": "python3"
  },
  "language_info": {
   "codemirror_mode": {
    "name": "ipython",
    "version": 3
   },
   "file_extension": ".py",
   "mimetype": "text/x-python",
   "name": "python",
   "nbconvert_exporter": "python",
   "pygments_lexer": "ipython3",
   "version": "3.6.4"
  }
 },
 "nbformat": 4,
 "nbformat_minor": 2
}
