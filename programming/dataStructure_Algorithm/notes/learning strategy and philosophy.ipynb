{
 "cells": [
  {
   "cell_type": "markdown",
   "metadata": {},
   "source": [
    "## Learning Strategy\n",
    "* Better learn from video lessons topic by topic. \n",
    "* Do practice or interview on GeeksforGeeks and many other websites for practices.\n",
    "* If I want to test whether my algorithm is horrible or very good,\n",
    "    * Find a similar problem and compare with others in leetCode. \n",
    "    * I can also find algorithm by topic on leetCode, and from the number of each topic know the relative importance of that topic. \n",
    "    * Use LeetCode to test my algorithm. Sometimes I thought everything is OK but running on LeetCode can give me wrong results. For example, when I miss the null-leaves when I test whether a binary tree is symmetric. "
   ]
  },
  {
   "cell_type": "markdown",
   "metadata": {},
   "source": [
    "## General philosophy\n",
    "I need summarize and summarize again to grasp only a few ideas that can summarize many algorithms. The fewer clues, the better the understanding. Book will be thinner when being read many times.  Route map for scanning suitable algorithms: "
   ]
  },
  {
   "cell_type": "markdown",
   "metadata": {},
   "source": [
    "#### Identify what type problem. \n",
    "The best way is first to identify what type of problem it is: sorting, searching, hashing, etc. and determine the lower bound of the complexity of the approach. For example, for comparison sorting, the lower bound is NlogN. Of course, it is possible to identify in a wrong direction. Sometimes a problem is so strongly like a type of problem but the most optimal way is not in that type of problem. For example, to find the median of two sorted array. It is so like a sorting problem. And thus I may determine the lower bound is NlogN, or NlogK. But in fact, this problem can be solved in other type of way with much better performance. So I can identify a problem before solving it but not so rigid on it. There always might be better way for a particular problem. Don't think O(N) is always the best way. My old way of searching stock is O(n), but it is the worst. It is always possible to go to O(logN) or even O(1). So never be too rigid. "
   ]
  },
  {
   "cell_type": "markdown",
   "metadata": {},
   "source": [
    "#### What fundamental data structures should be used?\n",
    "Tree, Hash-map, stack?  'Fundamental' here means that these structures are independent and can form almost all other data structures. "
   ]
  },
  {
   "cell_type": "markdown",
   "metadata": {},
   "source": [
    "#### What action should I take for what specific problems? \n",
    "Sorting first, searching,  dynamic programming... Note I classify the algorithms with two big criteria. See the notes about the corner stones for algorithms. Always scan these two different classifications for a fast tracking."
   ]
  },
  {
   "cell_type": "markdown",
   "metadata": {},
   "source": [
    "#### Visualize the process\n",
    "Whatever I am doing, better visualize the process (such as the recursive process), and use multi-steps in the beginning. "
   ]
  },
  {
   "cell_type": "markdown",
   "metadata": {},
   "source": [
    "#### Find something already available\n",
    "Whenever I want to code something in algorithms, there should always something in whole or in part exist to help me accelerate my coding effort. For example, if I want to  merge something, at least I can find std::merge() which can merge two entities and thus can be used to merge many other things"
   ]
  }
 ],
 "metadata": {
  "kernelspec": {
   "display_name": "Python 3",
   "language": "python",
   "name": "python3"
  },
  "language_info": {
   "codemirror_mode": {
    "name": "ipython",
    "version": 3
   },
   "file_extension": ".py",
   "mimetype": "text/x-python",
   "name": "python",
   "nbconvert_exporter": "python",
   "pygments_lexer": "ipython3",
   "version": "3.6.4"
  }
 },
 "nbformat": 4,
 "nbformat_minor": 2
}
