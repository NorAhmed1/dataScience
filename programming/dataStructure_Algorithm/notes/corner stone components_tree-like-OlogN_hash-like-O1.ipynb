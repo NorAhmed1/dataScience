{
 "cells": [
  {
   "cell_type": "markdown",
   "metadata": {},
   "source": [
    "# Introduction\n",
    "I should categorize almost all the algorithms into the following corner stones. Maybe I should say no free lunch. The following all is swap something for something. Sometimes swap complicated calculation (function mapping) and reduce O(n) to O(1). Sometimes swap simple calculation (comparison) for a logN improvement. Sometimes we can also swap space (memory) for time improvement. When this is combined with divide and conquer, we have dynamic programming...."
   ]
  },
  {
   "cell_type": "markdown",
   "metadata": {},
   "source": [
    "# Tree-based data structures and algorithms\n",
    "Divide, partition, tree-like action\n",
    "•\tBinary search is only for divide or partition (no conquer part, so it is not a typical divide and conquer algorithm). The partition makes that we only need to find a target within the recursively divided part and don’t have to search the whole range. \n",
    "•\tQuick sort. It is typical divide and conquer algorithm. In brute-force sorting, we need compare each value with the whole range of values (thus O(N^2)). However, once we partition the array according to a pivot into two subarrays, then we need only compare a value with only the values in the subgroup (thus O(NlogN)). \n",
    "•\tMerge sort. It is a typical divide and conquer algorithm. Essentially we also divide and thus we compare a value only within a partitioned group. \n",
    "Balanced tree, B+ trees "
   ]
  },
  {
   "cell_type": "markdown",
   "metadata": {},
   "source": [
    "# Hash-based data structures and algorithms\n"
   ]
  }
 ],
 "metadata": {
  "kernelspec": {
   "display_name": "Python 3",
   "language": "python",
   "name": "python3"
  },
  "language_info": {
   "codemirror_mode": {
    "name": "ipython",
    "version": 3
   },
   "file_extension": ".py",
   "mimetype": "text/x-python",
   "name": "python",
   "nbconvert_exporter": "python",
   "pygments_lexer": "ipython3",
   "version": "3.6.4"
  }
 },
 "nbformat": 4,
 "nbformat_minor": 2
}
