{
 "cells": [
  {
   "cell_type": "markdown",
   "metadata": {},
   "source": [
    "## Fundamental properties of  (binary) Trees\n",
    "•\tMost common recursive code features about trees: [1] terminal condition is usually when root = NULL, then return. [2] Normally we need call recursively twice for the left and right node. To have a quick check whether the recursive approach is correct, be familiar with the visualization technique of writing 1234 on each node and finish it step by step. \n",
    "•\tMost common iterative code feature about trees: [1] Whenever iterative approaches in trees is involved, it seems that we need the help of queue (or stack). The fundamental scheme is with the help of queue, and the general process is enqueuer (en-stack) and dequeuer (pop stack). Recall some different examples using iterative queue-helped approaches: level-order traversal, symmetric tree judgement, BFS, etc., and compare their differences. For iterative method, always be familiar with the enqueue and dequeue procedure with visualization (from Youtube). \n",
    "•\tFast search (as in binary search tree) an element, or fast delete / insert. The key is we don’t have a linear time search or insertion or deletion complexity but have a logN complexity. \n",
    "•\tWhen testing tree-related problems, consider the incomplete trees such as one leaf is missing, or one branch is missing. See the example of check the symmetric of trees. \n",
    "•\tRecursive might be better when the tree is very deep? As the recursive involves a lot of function calls?"
   ]
  },
  {
   "cell_type": "markdown",
   "metadata": {},
   "source": [
    "## Tree traversal (tree search)\n",
    "https://en.wikipedia.org/wiki/Tree_traversal\n",
    "•\tAs mentioned earlier, the algorithms involving trees normally have two ways: recursive and iterative (whenever a recursive algorithm can solve a problem, then there must be an iterative way. The opposite seems not true). When using iterative way, we often use queue (as in level-order traversal), symmetric tree judging, or use a stack as in the iterative way for pre-order. \n",
    "•\tBreadth-first-search (BFS). It is just the lever-order traversal. See the done example. It seems an iterative approach is simple and intuitive for level-order traversal(using queue), while a recursive approach might not be easy. \n",
    "•\tDepth-first-search (DFS). I have done three types of DFS for binary trees: pre-order (root->left->right), in-order (left->root->right), post-order (left->right->root), all with recursive ways, which are simple and natural. However, I find at least one way for pre-order traversal with iterative approach (using stack), see traversal (https://www.youtube.com/watch?v=uWL6FJhq5fM )\n",
    "•\t"
   ]
  },
  {
   "cell_type": "markdown",
   "metadata": {},
   "source": [
    "Binary Trees\n",
    "•\t \n",
    "Binary Search Tree (BST)\n",
    "Balanced tree, usually implemented in SQL for reasons....\n",
    "(B tree\n"
   ]
  }
 ],
 "metadata": {
  "kernelspec": {
   "display_name": "Python 3",
   "language": "python",
   "name": "python3"
  },
  "language_info": {
   "codemirror_mode": {
    "name": "ipython",
    "version": 3
   },
   "file_extension": ".py",
   "mimetype": "text/x-python",
   "name": "python",
   "nbconvert_exporter": "python",
   "pygments_lexer": "ipython3",
   "version": "3.6.4"
  }
 },
 "nbformat": 4,
 "nbformat_minor": 2
}
