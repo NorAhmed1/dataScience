{
 "cells": [
  {
   "cell_type": "markdown",
   "metadata": {},
   "source": [
    "## Kth largest element in an array OR K pairs with smallest sum\n",
    "•\tNote this is for unsorted array. If it is sorted array, this is O(1) problem.\n",
    "•\tCombine required stuff to a single entity like sum, pair, etc, and then push them into a heap (usually implemented by binary tree) with a logK complexity. This will have a slightly better complexity of O(NlogK).\n",
    "•\tCombine required stuff to a single entity and then insert them into set/multiset, map/multimap. Sometimes it will have a better performance than that of heap. (see the find kth largest element example). Normally we will have a better complexity than O(NlogK). This depends on the complexity of creating a specific ordered data structure.\n",
    "•\tIf finding the first largest, then it is O(N) for sure, but how can we use the Nlogk condition, it is only good for k >= 2? "
   ]
  },
  {
   "cell_type": "markdown",
   "metadata": {},
   "source": [
    "## Maximum 3-number product (e.g. product)\n",
    "•\tSorting first and then find, e.g. fixed k-number product. Not so efficient the complexity is mainly from sorting which is O(NlogN).\n",
    "•\tRecord the specific number of maximum/minimum elements. For example, find the maximum product of three elements in an array. By keeping updating max1, max2, max3 (and min1, min2 if negative numbers are involved), we can achieve O(N) performance. In fact, it should be O(NlogK). No, it should be O(Nk) complexity. Only when I use priority queue, then it is O(NlogK). See similar results in merge k sorted linked list or array. "
   ]
  },
  {
   "cell_type": "markdown",
   "metadata": {},
   "source": [
    "## Merge k sorted arrays / lists\n",
    "•\tBrute force way, put all sub list in a big array and then sort with O(NlogN). \n",
    "•\tMerging with k-pointers method (similar to the two-pointers method in typical merging operation). The complexity is O(Nk) time. This method should be similar easy for both vector and linked list merging.\n",
    "•\tMerging pair wise all through k pairs. For linked list, we can loop over list0.merge(list_i), and it is convenient. For vectors merging, it seems not easy to merge many pairs using std::merge(). So the appropriate way is to use k-pointers method, which should be OK for both vectors and linked list. Finally, the pair-wise merging has the same O(Nk) time as the k-pointers merging. \n",
    "•\tMerging with the help of heap structure and achieve the O(NlogK) complexity. Normally for interviews with a few, e.g. two lists/vectors to merge, this is not necessary. Only when k is large, then this approach will be very efficient as compared to the O(Nk) approach. \n",
    "•\tNote sometimes the total number of nodes is written as n*k (n is the number of sub-list nodes), and the formula of complexity will have different forms. "
   ]
  },
  {
   "cell_type": "markdown",
   "metadata": {},
   "source": [
    "## Find the median of two sorted array\n",
    "•\tNote this is about sorted arrays, but not for a single array. For single unsorted array, then we cannot achieve the following complexity. For single sorted array, then we can find the median by O(1) complexity. \n",
    "•\tThis is very much like a sorting problem. However, because we only need find one element, we can use the fundamental point of sorting, i.e., divide and conquer or tree-like action, and try to achieve a logN complexity. \n",
    "•\tMedian: odd number n, median is (n+1)/2; even number n, median is the average between n/2 and (n+2)/2; \n",
    "•\tHow about find the median from many sorted arrays?"
   ]
  }
 ],
 "metadata": {
  "kernelspec": {
   "display_name": "Python 3",
   "language": "python",
   "name": "python3"
  },
  "language_info": {
   "codemirror_mode": {
    "name": "ipython",
    "version": 3
   },
   "file_extension": ".py",
   "mimetype": "text/x-python",
   "name": "python",
   "nbconvert_exporter": "python",
   "pygments_lexer": "ipython3",
   "version": "3.6.4"
  }
 },
 "nbformat": 4,
 "nbformat_minor": 2
}
