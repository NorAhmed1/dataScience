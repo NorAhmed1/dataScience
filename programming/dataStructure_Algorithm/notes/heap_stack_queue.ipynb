{
 "cells": [
  {
   "cell_type": "markdown",
   "metadata": {},
   "source": [
    "# Heap"
   ]
  },
  {
   "cell_type": "markdown",
   "metadata": {},
   "source": [
    "### Introduction\n",
    "A heap is a specialized **tree-based data structure which is essentially an almost complete tree** that satisfies the heap property: in a max heap, for any given node C, if P is a parent node of C, then the key (the value) of P is greater than or equal to the key of C. In a min heap, the key of P is less than or equal to the key of C. The node at the \"top\" of the heap (with no parents) is called the root node.\n",
    "\n",
    "The heap is one maximally efficient implementation of an abstract data type called a **priority queue**, and in fact priority queues are often referred to as \"heaps\", regardless of how they may be implemented. In a heap, the highest (or lowest) priority element is always stored at the root. However, a heap is **not a sorted structure; it can be regarded as being partially ordered**. A heap is a useful data structure **when it is necessary to repeatedly remove the object with the highest (or lowest) priority.**\n",
    "\n",
    "A common implementation of a heap is the binary heap, in which the tree is a binary tree). The heap data structure, specifically the binary heap, was introduced by J. W. J. Williams in 1964, as a data structure for the heapsort sorting algorithm.\n",
    "\n",
    "Note that the heap data structure here is not related to the heap concept in dynamic allocation, although some people said it might has some relation. \n",
    "\n",
    "Understand why the heap structure is an efficient implementation for the purpose of \"repeatedly remove the object with the highest or lowest priority\"? **If we implement this purpose with other approach, how the complexity compares?** With priority queue, the insertion and extraction has a complexity of logN. For other method, it should be worse than this. "
   ]
  },
  {
   "cell_type": "markdown",
   "metadata": {},
   "source": [
    "### Intuitive picture \n",
    "Check the construction and deletion operations of heap with the animation in the following link: https://www.tutorialspoint.com/data_structures_algorithms/heap_data_structure.htm\n",
    "\n",
    "Check the heap sort note, which should be helpful in understanding how to build a heap, as heap was initially introduced when designing heap sort. "
   ]
  },
  {
   "cell_type": "markdown",
   "metadata": {},
   "source": [
    "### Time complexity of building a heap \n",
    "* If you have an array of size N and you want to build a heap from all items at once, Floyd's algorithm can do it with O(N) complexity. This corresponds to the std::priority_queue constructors that accept a container parameter. Check the details later. \n",
    "\n",
    "* If you have an empty priority queue to which you want to add N items, one at a time, then the complexity is O(N logN). \n",
    "\n",
    "* Therefore if you have all of the items that will go into your queue before you build it, then the first method will be more efficient. You use the second method--adding items individually--when you need to maintain a queue: adding and removing elements over some time period.\n",
    "\n",
    "* However, be careful that the complexity of building a heap with N nodes is never O(logN), which is the complexity of each insertion or extraction. Later figure out how the insertion and deletion has a logN complexity. \n"
   ]
  },
  {
   "cell_type": "markdown",
   "metadata": {},
   "source": [
    "### Priority queue in C++\n",
    "A priority queue is a container adaptor that provides constant time lookup of the largest (by default) element, at the expense of logarithmic insertion and extraction.\n",
    "\n",
    "A user-provided Compare can be supplied to change the ordering, e.g. using std::greater<T> would cause the smallest element to appear as the top().\n",
    "\n",
    "Working with a priority_queue is similar to managing a heap in some random access container, with the benefit of not being able to accidentally invalidate the heap."
   ]
  },
  {
   "cell_type": "markdown",
   "metadata": {},
   "source": [
    "### Heap applications\n",
    "\n",
    "* To find kth minimum element, we need maximum heap. \n",
    "* To find kth largest element, then we need use min heap.\n"
   ]
  },
  {
   "cell_type": "markdown",
   "metadata": {},
   "source": [
    "### Heap vs binary search tree (BST)\n",
    "Heap just guarantees that elements on higher levels are greater (for max-heap) or smaller (for min-heap) than elements on lower levels, whereas BST guarantees order (from \"left\" to \"right\"). If you want sorted elements, go with BST.  \n",
    "\n",
    "Heap is better at findMin/findMax (O(1)), while BST is good at all finds (O(logN)). Insert is O(logN) for both structures. If you only care about findMin/findMax (e.g. priority-related), go with heap. If you want everything sorted, go with BST."
   ]
  },
  {
   "cell_type": "markdown",
   "metadata": {},
   "source": [
    "# Stack\n",
    "* Whenever it involves FILO or LIFO, then explore the possibility of using stack. Examples include: do and undo, function call, valid parentheses, Baseball points records.  \n",
    "* See example in exercises folder. "
   ]
  },
  {
   "cell_type": "markdown",
   "metadata": {},
   "source": [
    "# Queue\n",
    "* Whenever it involves FIFO, then explore the possibility of using queue.\n",
    "* In the trading project. Due to the requirement of IB, we can send only fifty messages to the server. However, there are so many so threads all can send out messages at any time. This is handled by a queue or deque structure wrapped up with a critical section in each thread. "
   ]
  }
 ],
 "metadata": {
  "kernelspec": {
   "display_name": "Python 3",
   "language": "python",
   "name": "python3"
  },
  "language_info": {
   "codemirror_mode": {
    "name": "ipython",
    "version": 3
   },
   "file_extension": ".py",
   "mimetype": "text/x-python",
   "name": "python",
   "nbconvert_exporter": "python",
   "pygments_lexer": "ipython3",
   "version": "3.6.4"
  }
 },
 "nbformat": 4,
 "nbformat_minor": 2
}
