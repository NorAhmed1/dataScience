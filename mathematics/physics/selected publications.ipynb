{
 "cells": [
  {
   "cell_type": "markdown",
   "metadata": {},
   "source": [
    "## Selected Publications\n",
    "\n",
    "1.\t**Lijun Yang**, D. Abramavicius, and S. Mukamel, \"Signatures of Three-exciton Correlations in the Coherent and Incoherent Nonlinear Optical Response of Photosynthetic Complexes,\"  **New J. Phys. 12, 065046 (2010)**.  \n",
    "https://iopscience.iop.org/article/10.1088/1367-2630/12/6/065046 \n",
    "\n",
    "2.\t**Lijun Yang** and Shaul Mukamel, Dissecting quantum pathways in two-dimensional correlation spectroscopy of semiconductors, **J. Phys.: Condens. Matter, 20, 395202 (11 pages) (2008)**.  \n",
    "https://mukamel.ps.uci.edu/publications/pdfs/615.pdf\n",
    "\n",
    "3.\t**Lijun Yang** and Shaul Mukamel,  Revealing exciton-exciton couplings in semiconductors by multidimensional four wave mixing signals,  **Phys. Rev. B., 77, 075335 (11 pages) (2008)**.   \n",
    "https://mukamel.ps.uci.edu/publications/pdfs/585.pdf \n",
    "\n",
    "4.\t**Lijun Yang** and Shaul Mukamel, Two-dimensional correlation spectroscopy of two-exciton resonances in semiconductor quantum wells, **Phys. Rev. Lett., 100, 057402 (4 pages) (2008)**.   \n",
    "https://mukamel.ps.uci.edu/publications/pdfs/573.pdf\n",
    "\n",
    "5.\t**Lijun Yang**, Igor Schweigert, Steven T. Cundiff and Shaul Mukamel, Two-Dimensional Optical Spectroscopy of Excitons in Semiconductor Quantum Wells: Liouville-Space Pathways Analysis, **Phys. Rev. B 75, 125302 (15 pages) (2007).**   \n",
    "https://mukamel.ps.uci.edu/publications/pdfs/557.pdf  \n",
    "\n",
    "6.\t**Lijun Yang** and M. M. Dignam, Nonlinear Ultrafast Optical Absorption and Pump-Probe Spectroscopy in Biased Semiconductor Superlattices, **Phys. Rev. B 73, 035334 (8 pages) (2006).**   \n",
    "https://journals.aps.org/prb/abstract/10.1103/PhysRevB.73.035334\n",
    "\n",
    "7.\t**Lijun Yang** and Marc M. Dignam, Self-generated Bloch Oscillations in Biased Semiconductor Superlattices, **Phys. Rev. B 73, 075319 (8 pages) (2006).**   \n",
    "https://journals.aps.org/prb/abstract/10.1103/PhysRevB.73.075319\n",
    "\n",
    "8.\t**Lijun Yang**, Ben Rosam, and Marc M. Dignam, Density-Dependent THz Emission in Biased Semiconductor Superlattices:  from Bloch Oscillations to Plasma Oscillations, **Phys. Rev. B 72, 115313 (12 pages) (2005).**   \n",
    "https://journals.aps.org/prb/abstract/10.1103/PhysRevB.72.115313\n",
    "\n",
    "9.\t**Lijun Yang**, Karl Leo, Lijun Yang, and Marc M. Dignam, Terahertz Generation by Difference Frequency Mixing of Excitonic Wannier-Stark Ladder States in Biased Semiconductor Superlattices, **Appl. Phys. Lett.  85, 4612 (3 pages) (2004).**  \n",
    "https://aip.scitation.org/doi/10.1063/1.1819508\n",
    "10.\t**Lijun Yang**, Ben Rosam, Jean-Marc Lachaine, Karl Leo, and Marc M. Dignam, Intraband Polarization and THz Emission in Biased Semiconductor Superlattices with Full Excitonic Basis, **Phys. Rev. B 69, 165310 (12 pages) (2004).**    \n",
    "https://journals.aps.org/prb/abstract/10.1103/PhysRevB.69.165310\n",
    "\n",
    "11.\tAizhen Zhang, **Lijun Yang**, and Marc M. Dignam, Influence of Excitonic Effects on Dynamic Localization in Semiconductor Superlattices in Combined dc and ac Electric Fields, **Phys. Rev. B 67, 205318 (7 pages) (2003).**  \n",
    "     https://journals.aps.org/prb/abstract/10.1103/PhysRevB.67.205318\n"
   ]
  }
 ],
 "metadata": {
  "kernelspec": {
   "display_name": "Python 3",
   "language": "python",
   "name": "python3"
  },
  "language_info": {
   "codemirror_mode": {
    "name": "ipython",
    "version": 3
   },
   "file_extension": ".py",
   "mimetype": "text/x-python",
   "name": "python",
   "nbconvert_exporter": "python",
   "pygments_lexer": "ipython3",
   "version": "3.6.4"
  }
 },
 "nbformat": 4,
 "nbformat_minor": 2
}
